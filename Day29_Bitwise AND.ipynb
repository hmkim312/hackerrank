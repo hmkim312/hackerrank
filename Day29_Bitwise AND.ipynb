{
 "cells": [
  {
   "cell_type": "markdown",
   "metadata": {},
   "source": [
    "- Objective\n",
    "    - Welcome to the last day! Today, we're discussing bitwise operations. Check out the Tutorial tab for learning materials and an instructional video!\n",
    "\n",
    "- Task\n",
    "    - Given set S = {1,2,3,4...N}. Find two integers, A and B (where A < B), from set S such that the value of A & B is the maximum possible and also less than a given integer, K. In this case, & represents the bitwise AND operator.\n",
    "\n",
    "- Input Format\n",
    "    - The first line contains an integer, T, the number of test cases.\n",
    "    - Each of the T subsequent lines defines a test case as 2 space-separated integers,  and , respectively.\n",
    "\n",
    "- Constraints\n",
    "    - 1 <= T <= 10^3\n",
    "    - 2 <= N <= 10^3\n",
    "    - 2 <= K <= N\n",
    "\n",
    "- Output Format\n",
    "    - For each test case, print the maximum possible value of A & B on a new line."
   ]
  },
  {
   "cell_type": "markdown",
   "metadata": {},
   "source": [
    "#### 문제풀이\n",
    "- 비트연산자가 무엇인지 처음에 잘 몰라서 헤매였으나, 비트연산자에 대해 개념 이해만 하고 코드를 제출하였으나, 시간 제한에 걸림\n",
    "- 구글링해서 k가 홀수일때와 짝수일때의 비트연산자 or(|)를 사용해서 제출하는 방법을 알아냄. 정확히 이해는 안가는 부분이라 따로 학습이 필요할듯"
   ]
  },
  {
   "cell_type": "code",
   "execution_count": 91,
   "metadata": {
    "execution": {
     "iopub.execute_input": "2020-07-23T01:09:22.693279Z",
     "iopub.status.busy": "2020-07-23T01:09:22.693279Z",
     "iopub.status.idle": "2020-07-23T01:09:22.698232Z",
     "shell.execute_reply": "2020-07-23T01:09:22.697234Z",
     "shell.execute_reply.started": "2020-07-23T01:09:22.693279Z"
    }
   },
   "outputs": [],
   "source": [
    "n = 2\n",
    "k = 2"
   ]
  },
  {
   "cell_type": "code",
   "execution_count": 93,
   "metadata": {
    "execution": {
     "iopub.execute_input": "2020-07-23T01:09:28.637529Z",
     "iopub.status.busy": "2020-07-23T01:09:28.636532Z",
     "iopub.status.idle": "2020-07-23T01:09:28.642515Z",
     "shell.execute_reply": "2020-07-23T01:09:28.642515Z",
     "shell.execute_reply.started": "2020-07-23T01:09:28.637529Z"
    }
   },
   "outputs": [
    {
     "name": "stdout",
     "output_type": "stream",
     "text": [
      "0\n"
     ]
    }
   ],
   "source": [
    "# 구글링해서 k가 홀수일때와 짝수일때의 비트연산자 or(|)를 사용해서 제출하는 방법을 알아냄. \n",
    "# 정확히 이해는 안가는 부분이라 따로 학습이 필요할듯\n",
    "if (k|(k-1)) <= n:\n",
    "    print(k-1)\n",
    "else:\n",
    "    print(k-2)"
   ]
  },
  {
   "cell_type": "code",
   "execution_count": 60,
   "metadata": {
    "execution": {
     "iopub.execute_input": "2020-07-23T00:57:04.153976Z",
     "iopub.status.busy": "2020-07-23T00:57:04.153976Z",
     "iopub.status.idle": "2020-07-23T00:57:04.159931Z",
     "shell.execute_reply": "2020-07-23T00:57:04.159931Z",
     "shell.execute_reply.started": "2020-07-23T00:57:04.153976Z"
    }
   },
   "outputs": [
    {
     "name": "stdout",
     "output_type": "stream",
     "text": [
      "4\n"
     ]
    }
   ],
   "source": [
    "# 시간 제한에 걸림 for가 2개라서..\n",
    "maximum = 0\n",
    "for a in range(n):\n",
    "    for b in range(a+1, n+1):\n",
    "        if k > (a & b) > maximum:\n",
    "            maximum = a & b\n",
    "print(maximum)"
   ]
  }
 ],
 "metadata": {
  "kernelspec": {
   "display_name": "Python 3",
   "language": "python",
   "name": "python3"
  },
  "language_info": {
   "codemirror_mode": {
    "name": "ipython",
    "version": 3
   },
   "file_extension": ".py",
   "mimetype": "text/x-python",
   "name": "python",
   "nbconvert_exporter": "python",
   "pygments_lexer": "ipython3",
   "version": "3.7.6"
  }
 },
 "nbformat": 4,
 "nbformat_minor": 4
}

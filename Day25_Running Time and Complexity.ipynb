{
 "cells": [
  {
   "cell_type": "markdown",
   "metadata": {},
   "source": [
    "- Objective\n",
    "    - Today we're learning about running time! Check out the Tutorial tab for learning materials and an instructional video!\n",
    "\n",
    "- Task\n",
    "    - A prime is a natural number greater than 1 that has no positive divisors other than 1 and itself. Given a number, n, determine and print whether it's Prime or Not Prime.\n",
    "\n",
    "- Note: If possible, try to come up with a O(rootN) primality algorithm, or see what sort of optimizations you come up with for an O(n) algorithm. Be sure to check out the Editorial after submitting your code!\n",
    "\n",
    "- Input Format\n",
    "    - The first line contains an integer, T, the number of test cases.\n",
    "    - Each of the T subsequent lines contains an integer, n, to be tested for primality.\n",
    "\n",
    "- Constraints\n",
    "    - 1 <= T <= 30\n",
    "    - 1 <= N <= 2 * 10 ^9\n",
    "- Output Format\n",
    "    - For each test case, print whether n is Prime or Not Prime on a new line."
   ]
  },
  {
   "cell_type": "markdown",
   "metadata": {
    "execution": {
     "iopub.execute_input": "2020-07-20T03:57:56.479325Z",
     "iopub.status.busy": "2020-07-20T03:57:56.479325Z",
     "iopub.status.idle": "2020-07-20T03:57:56.487143Z",
     "shell.execute_reply": "2020-07-20T03:57:56.486159Z",
     "shell.execute_reply.started": "2020-07-20T03:57:56.479325Z"
    }
   },
   "source": [
    "#### 문제풀이\n",
    "- 주어진 n에 대하여 소수를 찾는 함수\n",
    "- 소수는 1과 자기자신으로만 나누어 떨어지는 수\n",
    "- 2는 소수이나, 나머지 짝수는 소수가 아님\n",
    "- 1은 소수가 아님\n",
    "- 위의 내용을 종합하여 1은 소수가 아니고 2와 3은 소수이며 짝수는 소수가 아닌 예외처리\n",
    "- 이후 3부터 n까지 홀수만 나누는것을 코드화하였으나 시간초과\n",
    "- N의 약수는 무조건 N의 제곱근의 범위에 존재하는 특성으로 제곱근을 활용하여 시간을 줄임"
   ]
  },
  {
   "cell_type": "code",
   "execution_count": 33,
   "metadata": {
    "execution": {
     "iopub.execute_input": "2020-07-20T02:36:33.441396Z",
     "iopub.status.busy": "2020-07-20T02:36:33.441396Z",
     "iopub.status.idle": "2020-07-20T02:36:34.612461Z",
     "shell.execute_reply": "2020-07-20T02:36:34.611486Z",
     "shell.execute_reply.started": "2020-07-20T02:36:33.441396Z"
    }
   },
   "outputs": [
    {
     "name": "stdin",
     "output_type": "stream",
     "text": [
      " 33\n"
     ]
    }
   ],
   "source": [
    "K = None\n",
    "n = int(input())"
   ]
  },
  {
   "cell_type": "code",
   "execution_count": 100,
   "metadata": {
    "execution": {
     "iopub.execute_input": "2020-07-20T03:55:42.231495Z",
     "iopub.status.busy": "2020-07-20T03:55:42.231495Z",
     "iopub.status.idle": "2020-07-20T03:55:42.239314Z",
     "shell.execute_reply": "2020-07-20T03:55:42.238328Z",
     "shell.execute_reply.started": "2020-07-20T03:55:42.231495Z"
    }
   },
   "outputs": [],
   "source": [
    "# 소수를 찾는 함수를 만들어서 제출했으나, 시간 초과\n",
    "def num_prime(n):\n",
    "    if n < 2:\n",
    "        return print('Not prime')\n",
    "    elif n == 2 or  n == 3:\n",
    "        return print('Prime')\n",
    "    if n % 2 == 0:\n",
    "        return print('Not prime')\n",
    "    for j in range(3, n, 2):\n",
    "        if n % j == 0:\n",
    "            return print('Not prime')\n",
    "    else :\n",
    "        return print('Prime')"
   ]
  },
  {
   "cell_type": "code",
   "execution_count": 101,
   "metadata": {
    "execution": {
     "iopub.execute_input": "2020-07-20T03:55:44.190086Z",
     "iopub.status.busy": "2020-07-20T03:55:44.189108Z",
     "iopub.status.idle": "2020-07-20T03:55:44.194964Z",
     "shell.execute_reply": "2020-07-20T03:55:44.193988Z",
     "shell.execute_reply.started": "2020-07-20T03:55:44.190086Z"
    }
   },
   "outputs": [
    {
     "name": "stdout",
     "output_type": "stream",
     "text": [
      "Prime\n"
     ]
    }
   ],
   "source": [
    "num_prime(67)"
   ]
  },
  {
   "cell_type": "code",
   "execution_count": 103,
   "metadata": {
    "execution": {
     "iopub.execute_input": "2020-07-20T03:58:01.074932Z",
     "iopub.status.busy": "2020-07-20T03:58:01.074932Z",
     "iopub.status.idle": "2020-07-20T03:58:01.084692Z",
     "shell.execute_reply": "2020-07-20T03:58:01.083717Z",
     "shell.execute_reply.started": "2020-07-20T03:58:01.074932Z"
    }
   },
   "outputs": [],
   "source": [
    "# 소수를 찾는 함수를 만들어서 제출했으나, 소수의 특성중 하나인 제곱근을 활용하여 품\n",
    "import math\n",
    "\n",
    "def num_prime(n):\n",
    "    if n < 2:\n",
    "        return print('Not prime')\n",
    "    elif n == 2 or  n == 3:\n",
    "        return print('Prime')\n",
    "    if n % 2 == 0:\n",
    "        return print('Not prime')\n",
    "    k = int(round(math.sqrt(n))) + 1\n",
    "    for i in range(3, k, 2): \n",
    "        if n % i is 0: \n",
    "            return print('Not prime')\n",
    "    else :\n",
    "        return print('Prime')"
   ]
  },
  {
   "cell_type": "code",
   "execution_count": 104,
   "metadata": {
    "execution": {
     "iopub.execute_input": "2020-07-20T03:58:01.193028Z",
     "iopub.status.busy": "2020-07-20T03:58:01.192051Z",
     "iopub.status.idle": "2020-07-20T03:58:01.198887Z",
     "shell.execute_reply": "2020-07-20T03:58:01.197907Z",
     "shell.execute_reply.started": "2020-07-20T03:58:01.192051Z"
    }
   },
   "outputs": [
    {
     "name": "stdout",
     "output_type": "stream",
     "text": [
      "3\n",
      "Prime\n"
     ]
    }
   ],
   "source": [
    "num_prime(5)"
   ]
  },
  {
   "cell_type": "code",
   "execution_count": 1,
   "metadata": {
    "execution": {
     "iopub.execute_input": "2020-07-20T04:00:24.376186Z",
     "iopub.status.busy": "2020-07-20T04:00:24.375212Z",
     "iopub.status.idle": "2020-07-20T04:00:26.079491Z",
     "shell.execute_reply": "2020-07-20T04:00:26.078516Z",
     "shell.execute_reply.started": "2020-07-20T04:00:24.376186Z"
    }
   },
   "outputs": [
    {
     "name": "stdin",
     "output_type": "stream",
     "text": [
      " 1\n",
      " 33\n"
     ]
    },
    {
     "name": "stdout",
     "output_type": "stream",
     "text": [
      "7\n",
      "Not prime\n"
     ]
    }
   ],
   "source": [
    "# 전체 제출 코드\n",
    "import math\n",
    "def num_prime(n):\n",
    "    if n < 2:\n",
    "        return print('Not prime')\n",
    "    elif n == 2 or  n == 3:\n",
    "        return print('Prime')\n",
    "    if n % 2 == 0:\n",
    "        return print('Not prime')\n",
    "    k = int(round(math.sqrt(n))) + 1\n",
    "    for i in range(3, k, 2): \n",
    "        if n % i is 0: \n",
    "            return print('Not prime')\n",
    "    else :\n",
    "        return print('Prime')\n",
    "T = int(input())\n",
    "for i in range(T):\n",
    "    n = int(input())\n",
    "    num_prime(n)"
   ]
  },
  {
   "cell_type": "code",
   "execution_count": null,
   "metadata": {},
   "outputs": [],
   "source": []
  }
 ],
 "metadata": {
  "kernelspec": {
   "display_name": "Python 3",
   "language": "python",
   "name": "python3"
  },
  "language_info": {
   "codemirror_mode": {
    "name": "ipython",
    "version": 3
   },
   "file_extension": ".py",
   "mimetype": "text/x-python",
   "name": "python",
   "nbconvert_exporter": "python",
   "pygments_lexer": "ipython3",
   "version": "3.7.6"
  }
 },
 "nbformat": 4,
 "nbformat_minor": 4
}

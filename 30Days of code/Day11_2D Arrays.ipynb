{
 "cells": [
  {
   "cell_type": "markdown",
   "metadata": {},
   "source": [
    "- Objective\n",
    "    - Today, we're building on our knowledge of Arrays by adding another dimension. Check out the Tutorial tab for learning materials and an instructional video!\n",
    "\n",
    "- Context\n",
    "    - Given a 6 x 6 2D Array, A:\n",
    "    [[1 1 1 0 0 0]\n",
    "     [0 1 0 0 0 0]\n",
    "     [1 1 1 0 0 0]\n",
    "     [0 0 0 0 0 0]\n",
    "     [0 0 0 0 0 0]\n",
    "     [0 0 0 0 0 0]]\n",
    "\n",
    "    - We define an hourglass in A to be a subset of values with indices falling in this pattern in A's graphical representation:\n",
    "    ```\n",
    "    a b c\n",
    "      d\n",
    "    e f g\n",
    "    ```\n",
    "\n",
    "    - There are  16 hourglasses in A, and an hourglass sum is the sum of an hourglass' values.\n",
    "\n",
    "- Task\n",
    "    - Calculate the hourglass sum for every hourglass in A, then print the maximum hourglass sum.\n",
    "\n",
    "- Input Format\n",
    "    - There are 6 lines of input, where each line contains 6 space-separated integers describing 2D Array A; every value in A will be in the inclusive range of -9 to 9.\n",
    "\n",
    "- Constraints\n",
    "    - -9 <= A[i][j] <= 9\n",
    "    - 0 <= i,j <= 5\n",
    "    \n",
    "- Output Format\n",
    "    - Print the largest (maximum) hourglass sum found in A."
   ]
  },
  {
   "cell_type": "markdown",
   "metadata": {},
   "source": [
    "#### 문제풀이\n",
    "- 6 x 6의 배열에서 모든 3 x 3 배열의 합계 중 가장 큰 수를 출력\n",
    "- 배열의 인덱스를 for문으로 주고 각 경우의 수를 다 더하여 리스트에 추가시킨 뒤 가장 큰수를 출력\n",
    "- 2번째 행은 2번째 숫자만 더해야함"
   ]
  },
  {
   "cell_type": "code",
   "execution_count": 4,
   "metadata": {
    "execution": {
     "iopub.execute_input": "2020-07-06T03:54:10.765633Z",
     "iopub.status.busy": "2020-07-06T03:54:10.765633Z",
     "iopub.status.idle": "2020-07-06T03:54:10.774608Z",
     "shell.execute_reply": "2020-07-06T03:54:10.772617Z",
     "shell.execute_reply.started": "2020-07-06T03:54:10.765633Z"
    }
   },
   "outputs": [],
   "source": [
    "import math\n",
    "import os\n",
    "import random\n",
    "import re\n",
    "import sys\n",
    "\n",
    "if __name__ == '__main__':\n",
    "    arr = []\n",
    "    result = []\n",
    "    for _ in range(6):\n",
    "        arr.append(list(map(int, input().rstrip().split())))\n",
    "    \n",
    "    for i in range(4):\n",
    "        for j in range(4):\n",
    "            result.append(arr[i][j] + arr[i][j+1] + arr[i][j+2] + \\\n",
    "                                      arr[i+1][j+1]+ \\\n",
    "                          arr[i+2][j] + arr[i+2][j+1] + arr[i+2][j+2])\n",
    "    print(max(result))"
   ]
  },
  {
   "cell_type": "code",
   "execution_count": 1,
   "metadata": {
    "execution": {
     "iopub.execute_input": "2020-07-06T03:51:02.294421Z",
     "iopub.status.busy": "2020-07-06T03:51:02.294421Z",
     "iopub.status.idle": "2020-07-06T03:51:02.301276Z",
     "shell.execute_reply": "2020-07-06T03:51:02.300280Z",
     "shell.execute_reply.started": "2020-07-06T03:51:02.294421Z"
    }
   },
   "outputs": [],
   "source": [
    "arr = [[1, 1, 1, 0, 0, 0], \n",
    "       [0, 1, 0, 0, 0, 0], \n",
    "       [1, 1, 1, 0, 0, 0], \n",
    "       [0, 0, 2, 4, 4, 0], \n",
    "       [0, 0, 0, 2, 0, 0], \n",
    "       [0, 0, 1, 2, 4, 0]]"
   ]
  },
  {
   "cell_type": "code",
   "execution_count": 2,
   "metadata": {
    "execution": {
     "iopub.execute_input": "2020-07-06T03:51:02.783075Z",
     "iopub.status.busy": "2020-07-06T03:51:02.783075Z",
     "iopub.status.idle": "2020-07-06T03:51:02.794047Z",
     "shell.execute_reply": "2020-07-06T03:51:02.793081Z",
     "shell.execute_reply.started": "2020-07-06T03:51:02.783075Z"
    }
   },
   "outputs": [
    {
     "name": "stdout",
     "output_type": "stream",
     "text": [
      "[7, 5, 2, 0, 6, 9, 11, 8, 5, 10, 13, 10, 3, 11, 19, 16]\n",
      "19\n"
     ]
    }
   ],
   "source": [
    "# arr[0][0] ~ arr[2][2]\n",
    "result = []\n",
    "for i in range(4):\n",
    "    for j in range(4):\n",
    "        result.append(arr[i][j] + arr[i][j+1] + arr[i][j+2] + \\\n",
    "                      arr[i+1][j] + arr[i+1][j+1] + arr[i+1][j+2] + \\\n",
    "                      arr[i+2][j] + arr[i+2][j+1] + arr[i+2][j+2])\n",
    "print(result)\n",
    "print(max(result))"
   ]
  },
  {
   "cell_type": "code",
   "execution_count": null,
   "metadata": {},
   "outputs": [],
   "source": []
  }
 ],
 "metadata": {
  "kernelspec": {
   "display_name": "Python 3",
   "language": "python",
   "name": "python3"
  },
  "language_info": {
   "codemirror_mode": {
    "name": "ipython",
    "version": 3
   },
   "file_extension": ".py",
   "mimetype": "text/x-python",
   "name": "python",
   "nbconvert_exporter": "python",
   "pygments_lexer": "ipython3",
   "version": "3.7.6"
  }
 },
 "nbformat": 4,
 "nbformat_minor": 4
}

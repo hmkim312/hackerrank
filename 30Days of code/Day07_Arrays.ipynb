{
 "cells": [
  {
   "cell_type": "markdown",
   "metadata": {},
   "source": [
    "- Objective\n",
    "    - Today, we're learning about the Array data structure. Check out the Tutorial tab for learning materials and an instructional video!\n",
    "\n",
    "- Task\n",
    "    - Given an array, A, of N  integers, print A's elements in reverse order as a single line of space-separated numbers.\n",
    "\n",
    "- Input Format\n",
    "\n",
    "    - The first line contains an integer, N (the size of our array).\n",
    "    - The second line contains  space-separated integers describing array 's elements.\n",
    "\n",
    "- Constraints\n",
    "    - 1 <= N <= 1000\n",
    "    - 1 <= Ai <= 10000, where Ai is the ith integer in the array.\n",
    "- Output Format\n",
    "\n",
    "    - Print the elements of array A in reverse order as a single line of space-separated numbers."
   ]
  },
  {
   "cell_type": "code",
   "execution_count": 33,
   "metadata": {
    "execution": {
     "iopub.execute_input": "2020-07-01T01:32:31.432781Z",
     "iopub.status.busy": "2020-07-01T01:32:31.432781Z",
     "iopub.status.idle": "2020-07-01T01:32:34.995917Z",
     "shell.execute_reply": "2020-07-01T01:32:34.993923Z",
     "shell.execute_reply.started": "2020-07-01T01:32:31.432781Z"
    }
   },
   "outputs": [
    {
     "name": "stdin",
     "output_type": "stream",
     "text": [
      " 1\n",
      " 1234\n"
     ]
    },
    {
     "name": "stdout",
     "output_type": "stream",
     "text": [
      "1234 "
     ]
    }
   ],
   "source": [
    "import math\n",
    "import os\n",
    "import random\n",
    "import re\n",
    "import sys\n",
    "\n",
    "\n",
    "\n",
    "if __name__ == '__main__':\n",
    "    n = int(input())\n",
    "    arr = list(map(int, input().rstrip().split()))\n",
    "    for i in range(len(arr)):\n",
    "        print(arr[::-1][i], end = ' ')"
   ]
  },
  {
   "cell_type": "code",
   "execution_count": 34,
   "metadata": {
    "execution": {
     "iopub.execute_input": "2020-07-01T01:32:38.726525Z",
     "iopub.status.busy": "2020-07-01T01:32:38.725507Z",
     "iopub.status.idle": "2020-07-01T01:32:38.730494Z",
     "shell.execute_reply": "2020-07-01T01:32:38.730494Z",
     "shell.execute_reply.started": "2020-07-01T01:32:38.725507Z"
    }
   },
   "outputs": [
    {
     "name": "stdout",
     "output_type": "stream",
     "text": [
      "4 3 2 1 "
     ]
    }
   ],
   "source": [
    "arr = [1,2,3,4]\n",
    "for i in range(len(arr)):\n",
    "    print(arr[::-1][i], end = ' ')"
   ]
  },
  {
   "cell_type": "code",
   "execution_count": null,
   "metadata": {},
   "outputs": [],
   "source": []
  }
 ],
 "metadata": {
  "kernelspec": {
   "display_name": "Python 3",
   "language": "python",
   "name": "python3"
  },
  "language_info": {
   "codemirror_mode": {
    "name": "ipython",
    "version": 3
   },
   "file_extension": ".py",
   "mimetype": "text/x-python",
   "name": "python",
   "nbconvert_exporter": "python",
   "pygments_lexer": "ipython3",
   "version": "3.7.6"
  }
 },
 "nbformat": 4,
 "nbformat_minor": 4
}

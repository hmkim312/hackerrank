{
 "cells": [
  {
   "cell_type": "markdown",
   "metadata": {},
   "source": [
    "- Objective\n",
    "    - Today, we're working with binary numbers. Check out the Tutorial tab for learning materials and an instructional video!\n",
    "\n",
    "- Task\n",
    "    - Given a base-10 integer, n, convert it to binary (base-2). Then find and print the base-10 integer denoting the maximum number of consecutive 1's in n's binary representation.\n",
    "\n",
    "- Input Format\n",
    "    - A single integer, n.\n",
    "\n",
    "- Constraints\n",
    "    - 1 <= n <= 10\n",
    "    \n",
    "- Output Format\n",
    "    - Print a single base-10 integer denoting the maximum number of consecutive 1's in the binary representation of n."
   ]
  },
  {
   "cell_type": "markdown",
   "metadata": {},
   "source": [
    "#### 문제 풀이\n",
    "- 주어진 10진법 정수 n을 2진법으로 바꾸고, 연속된 1을 찾는것\n",
    "- 입력된 n을 2진법으로 바꿈 -> 0을 기준으로 분리 -> 내림차순으로 정렬 -> 맨 앞의 1의 숫자 갯수를 셈"
   ]
  },
  {
   "cell_type": "code",
   "execution_count": 6,
   "metadata": {
    "execution": {
     "iopub.execute_input": "2020-07-04T08:36:58.208246Z",
     "iopub.status.busy": "2020-07-04T08:36:58.208246Z",
     "iopub.status.idle": "2020-07-04T08:36:59.612777Z",
     "shell.execute_reply": "2020-07-04T08:36:59.611779Z",
     "shell.execute_reply.started": "2020-07-04T08:36:58.208246Z"
    }
   },
   "outputs": [
    {
     "name": "stdin",
     "output_type": "stream",
     "text": [
      " 13\n"
     ]
    },
    {
     "name": "stdout",
     "output_type": "stream",
     "text": [
      "2\n"
     ]
    }
   ],
   "source": [
    "import math\n",
    "import os\n",
    "import random\n",
    "import re\n",
    "import sys\n",
    "\n",
    "\n",
    "\n",
    "if __name__ == '__main__':\n",
    "    n = int(input())\n",
    "    binary = format(n,'b')\n",
    "    print(len(sorted(binary.split('0'), reverse=True)[0]))"
   ]
  },
  {
   "cell_type": "code",
   "execution_count": null,
   "metadata": {},
   "outputs": [],
   "source": []
  }
 ],
 "metadata": {
  "kernelspec": {
   "display_name": "Python 3",
   "language": "python",
   "name": "python3"
  },
  "language_info": {
   "codemirror_mode": {
    "name": "ipython",
    "version": 3
   },
   "file_extension": ".py",
   "mimetype": "text/x-python",
   "name": "python",
   "nbconvert_exporter": "python",
   "pygments_lexer": "ipython3",
   "version": "3.7.6"
  }
 },
 "nbformat": 4,
 "nbformat_minor": 4
}

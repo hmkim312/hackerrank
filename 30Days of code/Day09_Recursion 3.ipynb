{
 "cells": [
  {
   "cell_type": "markdown",
   "metadata": {},
   "source": [
    "- Objective\n",
    "    - Today, we're learning and practicing an algorithmic concept called Recursion. Check out the Tutorial tab for learning materials and an instructional video!\n",
    "    - Recursive Method for Calculating Factorial\n",
    "- Task\n",
    "    - Write a factorial function that takes a positive integer,  as a parameter and prints the result of N (N factorial).\n",
    "\n",
    "- Note: If you fail to use recursion or fail to name your recursive function factorial or Factorial,N you will get a score of .\n",
    "\n",
    "- Input Format\n",
    "\n",
    "    - A single integer,N  (the argument to pass to factorial).\n",
    "\n",
    "- Constraints\n",
    "    - 2 <= N <= 12 \n",
    "    - Your submission must contain a recursive function named factorial.\n",
    "- Output Format\n",
    "    - Print a single integer denoting ."
   ]
  },
  {
   "cell_type": "markdown",
   "metadata": {},
   "source": [
    "#### 문제풀이\n",
    "- 팩토리얼 함수를 만들라는건데, python은 팩토리얼이 함수가 math에 있음"
   ]
  },
  {
   "cell_type": "code",
   "execution_count": 4,
   "metadata": {
    "execution": {
     "iopub.execute_input": "2020-07-03T04:06:07.874929Z",
     "iopub.status.busy": "2020-07-03T04:06:07.873933Z",
     "iopub.status.idle": "2020-07-03T04:06:07.879916Z",
     "shell.execute_reply": "2020-07-03T04:06:07.879916Z",
     "shell.execute_reply.started": "2020-07-03T04:06:07.874929Z"
    }
   },
   "outputs": [],
   "source": [
    "import math\n",
    "import os\n",
    "import random\n",
    "import re\n",
    "import sys\n",
    "\n",
    "# Complete the factorial function below.\n",
    "def factorial(n):\n",
    "    return math.factorial(n)\n",
    "\n",
    "if __name__ == '__main__':\n",
    "    fptr = open(os.environ['OUTPUT_PATH'], 'w')\n",
    "\n",
    "    n = int(input())\n",
    "\n",
    "    result = factorial(n)\n",
    "\n",
    "    fptr.write(str(result) + '\\n')\n",
    "\n",
    "    fptr.close()"
   ]
  },
  {
   "cell_type": "code",
   "execution_count": 7,
   "metadata": {
    "execution": {
     "iopub.execute_input": "2020-07-03T04:11:39.201110Z",
     "iopub.status.busy": "2020-07-03T04:11:39.200112Z",
     "iopub.status.idle": "2020-07-03T04:11:39.204128Z",
     "shell.execute_reply": "2020-07-03T04:11:39.204128Z",
     "shell.execute_reply.started": "2020-07-03T04:11:39.200112Z"
    }
   },
   "outputs": [],
   "source": [
    "# 손으로 한번 풀어보기\n",
    "def factorial(n):\n",
    "    num = 1\n",
    "    for i in range(1,n+1):\n",
    "        num *= i\n",
    "    return num"
   ]
  },
  {
   "cell_type": "code",
   "execution_count": 10,
   "metadata": {
    "execution": {
     "iopub.execute_input": "2020-07-03T04:11:49.181606Z",
     "iopub.status.busy": "2020-07-03T04:11:49.181606Z",
     "iopub.status.idle": "2020-07-03T04:11:49.186594Z",
     "shell.execute_reply": "2020-07-03T04:11:49.186594Z",
     "shell.execute_reply.started": "2020-07-03T04:11:49.181606Z"
    }
   },
   "outputs": [
    {
     "data": {
      "text/plain": [
       "6"
      ]
     },
     "execution_count": 10,
     "metadata": {},
     "output_type": "execute_result"
    }
   ],
   "source": [
    "math.factorial(3)"
   ]
  },
  {
   "cell_type": "code",
   "execution_count": 13,
   "metadata": {
    "execution": {
     "iopub.execute_input": "2020-07-03T04:13:02.632287Z",
     "iopub.status.busy": "2020-07-03T04:13:02.632287Z",
     "iopub.status.idle": "2020-07-03T04:13:02.636277Z",
     "shell.execute_reply": "2020-07-03T04:13:02.636277Z",
     "shell.execute_reply.started": "2020-07-03T04:13:02.632287Z"
    }
   },
   "outputs": [],
   "source": [
    "# 재귀함수로 해보기\n",
    "def factorial_re(n):\n",
    "    return n * factorial_re(n-1) if n > 1 else 1"
   ]
  },
  {
   "cell_type": "code",
   "execution_count": 14,
   "metadata": {
    "execution": {
     "iopub.execute_input": "2020-07-03T04:13:02.805441Z",
     "iopub.status.busy": "2020-07-03T04:13:02.804444Z",
     "iopub.status.idle": "2020-07-03T04:13:02.809432Z",
     "shell.execute_reply": "2020-07-03T04:13:02.809432Z",
     "shell.execute_reply.started": "2020-07-03T04:13:02.805441Z"
    }
   },
   "outputs": [
    {
     "data": {
      "text/plain": [
       "6"
      ]
     },
     "execution_count": 14,
     "metadata": {},
     "output_type": "execute_result"
    }
   ],
   "source": [
    "factorial_re(3)"
   ]
  },
  {
   "cell_type": "code",
   "execution_count": null,
   "metadata": {},
   "outputs": [],
   "source": []
  }
 ],
 "metadata": {
  "kernelspec": {
   "display_name": "Python 3",
   "language": "python",
   "name": "python3"
  },
  "language_info": {
   "codemirror_mode": {
    "name": "ipython",
    "version": 3
   },
   "file_extension": ".py",
   "mimetype": "text/x-python",
   "name": "python",
   "nbconvert_exporter": "python",
   "pygments_lexer": "ipython3",
   "version": "3.7.6"
  }
 },
 "nbformat": 4,
 "nbformat_minor": 4
}

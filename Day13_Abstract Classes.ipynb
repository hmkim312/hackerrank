{
 "cells": [
  {
   "cell_type": "markdown",
   "metadata": {},
   "source": [
    "- Objective\n",
    "    - Today, we're taking what we learned yesterday about Inheritance and extending it to Abstract Classes. Because this is a very specific Object-Oriented concept, submissions are limited to the few languages that use this construct. Check out the Tutorial tab for learning materials and an instructional video!\n",
    "\n",
    "- Task\n",
    "    - Given a Book class and a Solution class, write a MyBook class that does the following:\n",
    "    - Inherits from Book\n",
    "    - Has a parameterized constructor taking these 3 parameters:\n",
    "        - string title\n",
    "        - string author\n",
    "        - int price\n",
    "    - Implements the Book class' abstract display() method so it prints these 3 lines:\n",
    "        - title, a space, and then the current instance's title.\n",
    "        - author, a space, and then the current instance's author.\n",
    "        - price, a space, and then the current instance's price.\n",
    "- Note: Because these classes are being written in the same file, you must not use an access modifier (e.g.:pubilc ) when declaring MyBook or your code will not execute.\n",
    "\n",
    "- Input Format\n",
    "    - You are not responsible for reading any input from stdin. The Solution class creates a Book object and calls the MyBook class constructor (passing it the necessary arguments). It then calls the display method on the Book object.\n",
    "\n",
    "- Output Format\n",
    "    - The void display() method should print and label the respective title, author, and price of the MyBook object's instance (with each value on its own line) like so:\n",
    "\n",
    "        - Title: \\$title\n",
    "        - Author: \\$author\n",
    "        - Price: \\$price\n",
    "\n",
    "- Note: The & is prepended to variable names to indicate they are placeholders for variables."
   ]
  },
  {
   "cell_type": "markdown",
   "metadata": {
    "execution": {
     "iopub.execute_input": "2020-07-07T12:23:02.354071Z",
     "iopub.status.busy": "2020-07-07T12:23:02.353090Z",
     "iopub.status.idle": "2020-07-07T12:23:02.362846Z",
     "shell.execute_reply": "2020-07-07T12:23:02.361874Z",
     "shell.execute_reply.started": "2020-07-07T12:23:02.354071Z"
    }
   },
   "source": [
    "#### 문제풀이\n",
    "- Book이라는 클래스를 상속받을떄 추상클래스를 생성하는것\n",
    "- 아래에서는 Book에서는 타이틀, 작가를 받는데, MyBook는 타이틀, 작가, 가격까지 받음\n",
    "- 이후 display라는 메서드로 입력받은 내용을 출력해주면 됨"
   ]
  },
  {
   "cell_type": "code",
   "execution_count": 1,
   "metadata": {
    "execution": {
     "iopub.execute_input": "2020-07-07T12:21:57.389272Z",
     "iopub.status.busy": "2020-07-07T12:21:57.389272Z",
     "iopub.status.idle": "2020-07-07T12:21:57.399009Z",
     "shell.execute_reply": "2020-07-07T12:21:57.398079Z",
     "shell.execute_reply.started": "2020-07-07T12:21:57.389272Z"
    }
   },
   "outputs": [],
   "source": [
    "from abc import ABCMeta, abstractmethod\n",
    "class Book(object, metaclass=ABCMeta):\n",
    "    def __init__(self,title,author):\n",
    "        self.title=title\n",
    "        self.author=author   \n",
    "    @abstractmethod\n",
    "    def display(): pass\n",
    "\n",
    "#Write MyBook class\n",
    "class MyBook(Book):\n",
    "    def __init__(self, title, author, price):\n",
    "        self.title = title\n",
    "        self.author = author\n",
    "        self.price = price\n",
    "\n",
    "    def display(self):\n",
    "        print('Title:', self.title)\n",
    "        print('Author:', self.author)\n",
    "        print('Price:',  self.price)"
   ]
  },
  {
   "cell_type": "code",
   "execution_count": 4,
   "metadata": {
    "execution": {
     "iopub.execute_input": "2020-07-07T12:23:44.284452Z",
     "iopub.status.busy": "2020-07-07T12:23:44.284452Z",
     "iopub.status.idle": "2020-07-07T12:23:53.160889Z",
     "shell.execute_reply": "2020-07-07T12:23:53.160889Z",
     "shell.execute_reply.started": "2020-07-07T12:23:44.284452Z"
    }
   },
   "outputs": [
    {
     "name": "stdin",
     "output_type": "stream",
     "text": [
      " 해리포터\n",
      " 존레논\n",
      " 30000\n"
     ]
    },
    {
     "name": "stdout",
     "output_type": "stream",
     "text": [
      "Title: 해리포터\n",
      "Author: 존레논\n",
      "Price: 30000\n"
     ]
    }
   ],
   "source": [
    "title=input()\n",
    "author=input()\n",
    "price=int(input())\n",
    "new_novel=MyBook(title,author,price)\n",
    "new_novel.display()"
   ]
  },
  {
   "cell_type": "code",
   "execution_count": null,
   "metadata": {},
   "outputs": [],
   "source": []
  }
 ],
 "metadata": {
  "kernelspec": {
   "display_name": "Python 3",
   "language": "python",
   "name": "python3"
  },
  "language_info": {
   "codemirror_mode": {
    "name": "ipython",
    "version": 3
   },
   "file_extension": ".py",
   "mimetype": "text/x-python",
   "name": "python",
   "nbconvert_exporter": "python",
   "pygments_lexer": "ipython3",
   "version": "3.7.6"
  }
 },
 "nbformat": 4,
 "nbformat_minor": 4
}

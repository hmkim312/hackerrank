{
 "cells": [
  {
   "cell_type": "markdown",
   "metadata": {},
   "source": [
    "- Objective\n",
    "    - Today's challenge puts your understanding of nested conditional statements to the test. You already have the knowledge to complete this challenge, but check out the Tutorial tab for a video on testing!\n",
    "\n",
    "- Task\n",
    "    - Your local library needs your help! Given the expected and actual return dates for a library book, create a program that calculates the fine (if any). The fee structure is as follows:\n",
    "        - If the book is returned on or before the expected return date, no fine will be charged (i.e.: fine = 0).\n",
    "        - If the book is returned after the expected return day but still within the same calendar month and year as the expected return date, fine = 15 Hackos x (the number of days late).\n",
    "        - If the book is returned after the expected return month but still within the same calendar year as the expected return date, fine = 500 Hackos x (the number of months late) .\n",
    "        - If the book is returned after the calendar year in which it was expected, there is a fixed fine of 10000Hacoks.\n",
    "\n",
    "- Input Format\n",
    "    - The first line contains 3 space-separated integers denoting the respective day, month, and year on which the book was actually returned.\n",
    "    - The second line contains 3 space-separated integers denoting the respective day, month, and year on which the book was expected to be returned (due date).\n",
    "\n",
    "- Constraints\n",
    "    - 1 <= D <= 31\n",
    "    - 1 <= M <= 12\n",
    "    - 1 <= Y <= 3000\n",
    "    - It is guarandteed that dates will be valid Gregorian calendar dates\n",
    "\n",
    "- Output Format\n",
    "    - Print a single integer denoting the library fine for the book received as input."
   ]
  },
  {
   "cell_type": "markdown",
   "metadata": {},
   "source": [
    "#### 문제풀이\n",
    "- 년 월 일 을 비교하여 제출기한보다 늦으면 일정금액만큼 벌금을 만들어 내는 코드\n",
    "- 예상일자보다 먼저 제출하면 벌금은 0\n",
    "- 그외 연도가 넘어가면 10000, 월이 넘어가면 넘어간 월 * 500, 날짜만 넘어가면 넘어간 날짜 * 15\n",
    "- 위의 순서로 코드를 작성"
   ]
  },
  {
   "cell_type": "code",
   "execution_count": 60,
   "metadata": {
    "execution": {
     "iopub.execute_input": "2020-07-20T04:30:45.305087Z",
     "iopub.status.busy": "2020-07-20T04:30:45.305087Z",
     "iopub.status.idle": "2020-07-20T04:30:54.133860Z",
     "shell.execute_reply": "2020-07-20T04:30:54.132884Z",
     "shell.execute_reply.started": "2020-07-20T04:30:45.305087Z"
    }
   },
   "outputs": [
    {
     "name": "stdin",
     "output_type": "stream",
     "text": [
      " 9 6 2015\n",
      " 6 6 2015\n"
     ]
    },
    {
     "name": "stdout",
     "output_type": "stream",
     "text": [
      "45\n"
     ]
    }
   ],
   "source": [
    "# Enter your code here. Read input from STDIN. Print output to STDOUT\n",
    "import datetime\n",
    "n = input()\n",
    "t = input()\n",
    "n = n.split()\n",
    "t = t.split()\n",
    "dt_n = datetime.datetime(int(n[2]), int(n[1]), int(n[0]))\n",
    "dt_t = datetime.datetime(int(t[2]), int(t[1]), int(t[0]))\n",
    "result = 0\n",
    "\n",
    "if dt_n < dt_t:\n",
    "    result += 0\n",
    "elif int(n[2]) > int(t[2]):\n",
    "    result += 10000\n",
    "elif int(n[1]) > int(t[1]):\n",
    "    result += (int(n[1]) - int(t[1])) * 500\n",
    "elif int(n[0]) > int(t[0]):\n",
    "    result += (int(n[0]) - int(t[0])) * 15\n",
    "print(result)"
   ]
  },
  {
   "cell_type": "code",
   "execution_count": null,
   "metadata": {},
   "outputs": [],
   "source": []
  }
 ],
 "metadata": {
  "kernelspec": {
   "display_name": "Python 3",
   "language": "python",
   "name": "python3"
  },
  "language_info": {
   "codemirror_mode": {
    "name": "ipython",
    "version": 3
   },
   "file_extension": ".py",
   "mimetype": "text/x-python",
   "name": "python",
   "nbconvert_exporter": "python",
   "pygments_lexer": "ipython3",
   "version": "3.7.6"
  }
 },
 "nbformat": 4,
 "nbformat_minor": 4
}

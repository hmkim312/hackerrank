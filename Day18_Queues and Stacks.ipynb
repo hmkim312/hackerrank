{
 "cells": [
  {
   "cell_type": "markdown",
   "metadata": {},
   "source": [
    "- Welcome to Day 18! Today we're learning about Stacks and Queues. Check out the Tutorial tab for learning materials and an instructional video!\n",
    "- A palindrome is a word, phrase, number, or other sequence of characters which reads the same backwards and forwards. Can you determine if a given string, S, is a palindrome?\n",
    "\n",
    "- To solve this challenge, we must first take each character in S, enqueue it in a queue, and also push that same character onto a stack. Once that's done, we must dequeue the first character from the queue and pop the top character off the stack, then compare the two characters to see if they are the same; as long as the characters match, we continue dequeueing, popping, and comparing each character until our containers are empty (a non-match means S isn't a palindrome).\n",
    "\n",
    "- Write the following declarations and implementations:\n",
    "\n",
    "    - Two instance variables: one for your stack, and one for your queue.\n",
    "    - A void pushCharacter(char ch) method that pushes a character onto a stack.\n",
    "    - A void enqueueCharacter(char ch) method that enqueues a character in the queue instance variable.\n",
    "    - A char popCharacter() method that pops and returns the character at the top of the stack instance variable.\n",
    "    - A char dequeueCharacter() method that dequeues and returns the first character in the queue instance variable.\n",
    "    \n",
    "- Input Format\n",
    "    - You do not need to read anything from stdin. The locked stub code in your editor reads a single line containing string S. It then calls the methods specified above to pass each character to your instance variables.\n",
    "\n",
    "- Constraints\n",
    "    - S is composed of lowercase English letters.\n",
    "\n",
    "- Output Format\n",
    "    - You are not responsible for printing any output to stdout.\n",
    "    - If your code is correctly written and S is a palindrome, the locked stub code will print The word, s, is a palindrome; otherwise, it will print The word, s, is not a palindrome"
   ]
  },
  {
   "cell_type": "markdown",
   "metadata": {
    "execution": {
     "iopub.execute_input": "2020-07-13T02:38:45.625659Z",
     "iopub.status.busy": "2020-07-13T02:38:45.624711Z",
     "iopub.status.idle": "2020-07-13T02:38:45.632491Z",
     "shell.execute_reply": "2020-07-13T02:38:45.631514Z",
     "shell.execute_reply.started": "2020-07-13T02:38:45.625659Z"
    }
   },
   "source": [
    "#### 문제풀이\n",
    "- 거꾸로해도 똑같은 단어인지 확인하는 것.\n",
    "- 거꾸로해도 같은 단어인지를 Stack과 queue를 이용하여 확인"
   ]
  },
  {
   "cell_type": "code",
   "execution_count": 2,
   "metadata": {
    "execution": {
     "iopub.execute_input": "2020-07-13T02:34:44.514491Z",
     "iopub.status.busy": "2020-07-13T02:34:44.513519Z",
     "iopub.status.idle": "2020-07-13T02:34:44.522299Z",
     "shell.execute_reply": "2020-07-13T02:34:44.521337Z",
     "shell.execute_reply.started": "2020-07-13T02:34:44.514491Z"
    }
   },
   "outputs": [],
   "source": [
    "import sys\n",
    "\n",
    "class Solution:\n",
    "    # Write your code here\n",
    "    stack = []\n",
    "    queue = []\n",
    "\n",
    "    def pushCharacter(self, s):\n",
    "        self.stack.append(s)\n",
    "\n",
    "    def popCharacter(self):\n",
    "        return self.stack.pop()\n",
    "\n",
    "    def enqueueCharacter(self, s):\n",
    "        self.queue.append(s)\n",
    "\n",
    "    def dequeueCharacter(self):\n",
    "        char = self.queue[0]\n",
    "        del self.queue[0]\n",
    "        return char"
   ]
  },
  {
   "cell_type": "code",
   "execution_count": 4,
   "metadata": {
    "execution": {
     "iopub.execute_input": "2020-07-13T02:35:49.514854Z",
     "iopub.status.busy": "2020-07-13T02:35:49.514854Z",
     "iopub.status.idle": "2020-07-13T02:35:49.525590Z",
     "shell.execute_reply": "2020-07-13T02:35:49.524616Z",
     "shell.execute_reply.started": "2020-07-13T02:35:49.514854Z"
    }
   },
   "outputs": [
    {
     "name": "stdout",
     "output_type": "stream",
     "text": [
      "The word, racecar, is a palindrome.\n"
     ]
    }
   ],
   "source": [
    "s = 'racecar'\n",
    "obj=Solution()   \n",
    "\n",
    "l=len(s)\n",
    "# push/enqueue all the characters of string s to stack\n",
    "for i in range(l):\n",
    "    obj.pushCharacter(s[i])\n",
    "    obj.enqueueCharacter(s[i])\n",
    "    \n",
    "isPalindrome=True\n",
    "'''\n",
    "pop the top character from stack\n",
    "dequeue the first character from queue\n",
    "compare both the characters\n",
    "''' \n",
    "for i in range(l // 2):\n",
    "    if obj.popCharacter()!=obj.dequeueCharacter():\n",
    "        isPalindrome=False\n",
    "        break\n",
    "#finally print whether string s is palindrome or not.\n",
    "if isPalindrome:\n",
    "    print(\"The word, \"+s+\", is a palindrome.\")\n",
    "else:\n",
    "    print(\"The word, \"+s+\", is not a palindrome.\")    "
   ]
  },
  {
   "cell_type": "code",
   "execution_count": null,
   "metadata": {},
   "outputs": [],
   "source": []
  }
 ],
 "metadata": {
  "kernelspec": {
   "display_name": "Python 3",
   "language": "python",
   "name": "python3"
  },
  "language_info": {
   "codemirror_mode": {
    "name": "ipython",
    "version": 3
   },
   "file_extension": ".py",
   "mimetype": "text/x-python",
   "name": "python",
   "nbconvert_exporter": "python",
   "pygments_lexer": "ipython3",
   "version": "3.7.6"
  }
 },
 "nbformat": 4,
 "nbformat_minor": 4
}

{
 "cells": [
  {
   "cell_type": "markdown",
   "metadata": {},
   "source": [
    "- Objective\n",
    "    - In this challenge, we review some basic concepts that will get you started with this series. You will need to use the same (or similar) syntax to read input and write output in challenges throughout HackerRank. Check out the Tutorial tab for learning materials and an instructional video!\n",
    "\n",
    "- Task\n",
    "    - To complete this challenge, you must save a line of input from stdin to a variable, print Hello, World. on a single line, and finally print the value of your variable on a second line.\n",
    "\n",
    "- You've got this!\n",
    "\n",
    "    - Note: The instructions are Java-based, but we support submissions in many popular languages. You can switch languages using the drop-down menu above your editor, and the inputstring variable may be written differently depending on the best-practice conventions of your submission language.\n",
    "\n",
    "- Input Format\n",
    "\n",
    "    - A single line of text denoting inputstring(the variable whose contents must be printed).\n",
    "\n",
    "- Output Format\n",
    "\n",
    "    - Print Hello, World. on the first line, and the contents of inputstring on the second line."
   ]
  },
  {
   "cell_type": "code",
   "execution_count": 1,
   "metadata": {
    "execution": {
     "iopub.execute_input": "2020-06-25T15:49:10.919302Z",
     "iopub.status.busy": "2020-06-25T15:49:10.918326Z",
     "iopub.status.idle": "2020-06-25T15:49:14.192083Z",
     "shell.execute_reply": "2020-06-25T15:49:14.192083Z",
     "shell.execute_reply.started": "2020-06-25T15:49:10.919302Z"
    }
   },
   "outputs": [
    {
     "name": "stdin",
     "output_type": "stream",
     "text": [
      " hi\n"
     ]
    },
    {
     "name": "stdout",
     "output_type": "stream",
     "text": [
      "Hello, World.\n",
      "hi\n"
     ]
    }
   ],
   "source": [
    "# Read a full line of input from stdin and save it to our dynamically typed variable, input_string.\n",
    "input_string = input()\n",
    "\n",
    "# Print a string literal saying \"Hello, World.\" to stdout.\n",
    "print('Hello, World.')\n",
    "# TODO: Write a line of code here that prints the contents of input_string to stdout.\n",
    "print(input_string)"
   ]
  },
  {
   "cell_type": "code",
   "execution_count": null,
   "metadata": {},
   "outputs": [],
   "source": []
  }
 ],
 "metadata": {
  "kernelspec": {
   "display_name": "Python 3",
   "language": "python",
   "name": "python3"
  },
  "language_info": {
   "codemirror_mode": {
    "name": "ipython",
    "version": 3
   },
   "file_extension": ".py",
   "mimetype": "text/x-python",
   "name": "python",
   "nbconvert_exporter": "python",
   "pygments_lexer": "ipython3",
   "version": "3.7.6"
  }
 },
 "nbformat": 4,
 "nbformat_minor": 4
}

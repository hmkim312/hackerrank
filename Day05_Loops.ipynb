{
 "cells": [
  {
   "cell_type": "markdown",
   "metadata": {},
   "source": [
    "- Objective\n",
    "    - In this challenge, we're going to use loops to help us do some simple math. Check out the Tutorial tab to learn more.\n",
    "\n",
    "- Task\n",
    "    - Given an integer,n, print its first 10  multiples. Each multiple n x i (where 1 <= i <= 10 ) should be printed on a new line in the form: n x i = result.\n",
    "\n",
    "- Input Format\n",
    "\n",
    "    - A single integer, n.\n",
    "\n",
    "- Constraints\n",
    "    - 2 <= n <= 20\n",
    "- Output Format\n",
    "\n",
    "    - Print 10 lines of output; each line i (where  1 <= i <= 10 ) contains the result of n x i in the form: n x i = result."
   ]
  },
  {
   "cell_type": "code",
   "execution_count": 6,
   "metadata": {
    "execution": {
     "iopub.execute_input": "2020-06-29T09:48:50.171649Z",
     "iopub.status.busy": "2020-06-29T09:48:50.170652Z",
     "iopub.status.idle": "2020-06-29T09:48:50.696957Z",
     "shell.execute_reply": "2020-06-29T09:48:50.696957Z",
     "shell.execute_reply.started": "2020-06-29T09:48:50.171649Z"
    }
   },
   "outputs": [
    {
     "name": "stdin",
     "output_type": "stream",
     "text": [
      " 2\n"
     ]
    },
    {
     "name": "stdout",
     "output_type": "stream",
     "text": [
      "2 x 1 = 2\n",
      "2 x 2 = 4\n",
      "2 x 3 = 6\n",
      "2 x 4 = 8\n",
      "2 x 5 = 10\n",
      "2 x 6 = 12\n",
      "2 x 7 = 14\n",
      "2 x 8 = 16\n",
      "2 x 9 = 18\n",
      "2 x 10 = 20\n"
     ]
    }
   ],
   "source": [
    "import math\n",
    "import os\n",
    "import random\n",
    "import re\n",
    "import sys\n",
    "\n",
    "\n",
    "\n",
    "if __name__ == '__main__':\n",
    "    n = int(input())\n",
    "    for i in range(1, 11):\n",
    "        print(f'{n} x {i} = {i * n}')"
   ]
  },
  {
   "cell_type": "code",
   "execution_count": 1,
   "metadata": {
    "execution": {
     "iopub.execute_input": "2020-06-29T09:45:48.460521Z",
     "iopub.status.busy": "2020-06-29T09:45:48.459522Z",
     "iopub.status.idle": "2020-06-29T09:45:48.464521Z",
     "shell.execute_reply": "2020-06-29T09:45:48.463511Z",
     "shell.execute_reply.started": "2020-06-29T09:45:48.460521Z"
    }
   },
   "outputs": [],
   "source": [
    "n = 2"
   ]
  },
  {
   "cell_type": "code",
   "execution_count": 3,
   "metadata": {
    "execution": {
     "iopub.execute_input": "2020-06-29T09:46:39.144849Z",
     "iopub.status.busy": "2020-06-29T09:46:39.143860Z",
     "iopub.status.idle": "2020-06-29T09:46:39.151805Z",
     "shell.execute_reply": "2020-06-29T09:46:39.150842Z",
     "shell.execute_reply.started": "2020-06-29T09:46:39.144849Z"
    }
   },
   "outputs": [
    {
     "name": "stdout",
     "output_type": "stream",
     "text": [
      "2x1=2\n",
      "2x2=4\n",
      "2x3=6\n",
      "2x4=8\n",
      "2x5=10\n",
      "2x6=12\n",
      "2x7=14\n",
      "2x8=16\n",
      "2x9=18\n",
      "2x10=20\n"
     ]
    }
   ],
   "source": [
    "for i in range(1, 11):\n",
    "    print(f'{n} x {i} = {i * n}')"
   ]
  },
  {
   "cell_type": "code",
   "execution_count": null,
   "metadata": {},
   "outputs": [],
   "source": []
  }
 ],
 "metadata": {
  "kernelspec": {
   "display_name": "Python 3",
   "language": "python",
   "name": "python3"
  },
  "language_info": {
   "codemirror_mode": {
    "name": "ipython",
    "version": 3
   },
   "file_extension": ".py",
   "mimetype": "text/x-python",
   "name": "python",
   "nbconvert_exporter": "python",
   "pygments_lexer": "ipython3",
   "version": "3.7.6"
  }
 },
 "nbformat": 4,
 "nbformat_minor": 4
}

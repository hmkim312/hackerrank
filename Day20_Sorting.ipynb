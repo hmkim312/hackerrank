{
 "cells": [
  {
   "cell_type": "markdown",
   "metadata": {},
   "source": [
    "- Objective\n",
    "    - Today, we're discussing a simple sorting algorithm called Bubble Sort. Check out the Tutorial tab for learning materials and an instructional video!\n",
    "\n",
    "- Consider the following version of Bubble Sort:\n",
    "\n",
    "```\n",
    "for (int i = 0; i < n; i++) {\n",
    "    // Track number of elements swapped during a single array traversal\n",
    "    int numberOfSwaps = 0;\n",
    "    \n",
    "    for (int j = 0; j < n - 1; j++) {\n",
    "        // Swap adjacent elements if they are in decreasing order\n",
    "        if (a[j] > a[j + 1]) {\n",
    "            swap(a[j], a[j + 1]);\n",
    "            numberOfSwaps++;\n",
    "        }\n",
    "    }\n",
    "    \n",
    "    // If no elements were swapped during a traversal, array is sorted\n",
    "    if (numberOfSwaps == 0) {\n",
    "        break;\n",
    "    }\n",
    "}\n",
    "```\n",
    "- Task\n",
    "    - Given an array, a, of size n distinct elements, sort the array in ascending order using the Bubble Sort algorithm above. Once sorted, print the following 3 lines:\n",
    "        - Array is sorted in numSwaps swaps.\n",
    "            - where numswaps is the number of swaps that took place.\n",
    "        - First Element: firstElement\n",
    "            - where first element is the first element in the sorted array.\n",
    "        - Last Element: lastElement\n",
    "            - where last element is the last element in the sorted array.\n",
    "- Hint: To complete this challenge, you will need to add a variable that keeps a running tally of all swaps that occur during execution.\n",
    "\n",
    "- Input Format\n",
    "    - The first line contains an integer, n, denoting the number of elements in array a.\n",
    "    - The second line contains n space-separated integers describing the respective values of a0, a1 . . .an-1.\n",
    "\n",
    "- Constraints\n",
    "    - 2 <= n <= 600\n",
    "    - 1 <= ai <= 2 * 10^6, where 0 <= i <= n.\n",
    "    \n",
    "- Output Format\n",
    "    - Print the following three lines of output:\n",
    "        - Array is sorted in numSwaps swaps.\n",
    "            - where numSwaps is the number of swaps that took place.\n",
    "        - First Element: firstElement\n",
    "            - where first elementis the first element in the sorted array.\n",
    "        - Last Element: lastElement\n",
    "            - where last element is the last element in the sorted array."
   ]
  },
  {
   "cell_type": "markdown",
   "metadata": {},
   "source": [
    "#### 문제 풀이\n",
    "- n개의 원소를 가지는 a라는 리스트가 주어짐\n",
    "- 리스트는 정렬이 안되어 있는데, 해당 리스트를 오름차순으로 정렬\n",
    "- 정렬하는데 숫자를 바꾼 횟수를 저장하고, 가장 앞에있는 수와 가장 뒤에있는 수를 출력\n",
    "- 가장 앞에 있는 수와 가장 뒤에 있는 수는 리스트의 min, max로 해결\n",
    "- 정렬 횟수는 앞에 인덱스와 뒤의 인덱스를 비교하여 앞이 뒤보다 크면 앞뒤를 바꾸는 방식으로 for문을 만듬"
   ]
  },
  {
   "cell_type": "code",
   "execution_count": 8,
   "metadata": {
    "execution": {
     "iopub.execute_input": "2020-07-14T02:30:16.192868Z",
     "iopub.status.busy": "2020-07-14T02:30:16.192868Z",
     "iopub.status.idle": "2020-07-14T02:30:19.894015Z",
     "shell.execute_reply": "2020-07-14T02:30:19.894015Z",
     "shell.execute_reply.started": "2020-07-14T02:30:16.192868Z"
    }
   },
   "outputs": [
    {
     "name": "stdin",
     "output_type": "stream",
     "text": [
      " 3\n",
      " 3 2 1\n"
     ]
    },
    {
     "name": "stdout",
     "output_type": "stream",
     "text": [
      "Array is sorted in3 swaps.\n",
      "First Element: 1\n",
      "Last Element: 3\n"
     ]
    }
   ],
   "source": [
    "import sys\n",
    "\n",
    "n = int(input().strip())\n",
    "a = list(map(int, input().strip().split(' ')))\n",
    "# Write Your Code Here\n",
    "numswaps = 0\n",
    "for i in range(n):\n",
    "    for j in range(n-1):\n",
    "        if a[j] > a[j+1]:\n",
    "            a[j], a[j+1] = a[j+1], a[j]\n",
    "            numswaps += 1\n",
    "    if numswaps == 0:\n",
    "        break\n",
    "\n",
    "print(f'Array is sorted in {numswaps} swaps.')\n",
    "print('First Element:', min(a))\n",
    "print('Last Element:', max(a))"
   ]
  },
  {
   "cell_type": "code",
   "execution_count": 7,
   "metadata": {
    "execution": {
     "iopub.execute_input": "2020-07-14T02:25:46.039736Z",
     "iopub.status.busy": "2020-07-14T02:25:46.039736Z",
     "iopub.status.idle": "2020-07-14T02:25:46.046562Z",
     "shell.execute_reply": "2020-07-14T02:25:46.046562Z",
     "shell.execute_reply.started": "2020-07-14T02:25:46.039736Z"
    }
   },
   "outputs": [
    {
     "data": {
      "text/plain": [
       "3"
      ]
     },
     "execution_count": 7,
     "metadata": {},
     "output_type": "execute_result"
    }
   ],
   "source": []
  },
  {
   "cell_type": "code",
   "execution_count": null,
   "metadata": {},
   "outputs": [],
   "source": []
  }
 ],
 "metadata": {
  "kernelspec": {
   "display_name": "Python 3",
   "language": "python",
   "name": "python3"
  },
  "language_info": {
   "codemirror_mode": {
    "name": "ipython",
    "version": 3
   },
   "file_extension": ".py",
   "mimetype": "text/x-python",
   "name": "python",
   "nbconvert_exporter": "python",
   "pygments_lexer": "ipython3",
   "version": "3.7.6"
  }
 },
 "nbformat": 4,
 "nbformat_minor": 4
}

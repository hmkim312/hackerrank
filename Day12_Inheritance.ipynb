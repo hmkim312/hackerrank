{
 "cells": [
  {
   "cell_type": "markdown",
   "metadata": {},
   "source": [
    "- Objective\n",
    "    - Today, we're delving into Inheritance. Check out the attached tutorial for learning materials and an instructional video!\n",
    "\n",
    "- Task\n",
    "    - You are given two classes, Person and Student, where Person is the base class and Student is the derived class. Completed code for Person and a declaration for Student are provided for you in the editor. Observe that Student inherits all the properties of Person.\n",
    "\n",
    "    - Complete the Student class by writing the following:\n",
    "\n",
    "    - A Student class constructor, which has  parameters:\n",
    "        - A string, first name.\n",
    "        - A string, last name.\n",
    "        - An integer, id.\n",
    "        - An integer array (or vector) of test scores, scores.\n",
    "- A char calculate() method that calculates a Student object's average and returns the grade character representative of their calculated average:\n",
    "    - Grading Scale\n",
    "        - O : 90 <= a <= 100\n",
    "        - E : 80 <= a < 90\n",
    "        - A : 70 <= a < 80\n",
    "        - P : 55 <= a < 70\n",
    "        - D : 40 <= a < 55\n",
    "        - T : a < 40\n",
    "\n",
    "- Input Format\n",
    "    - The locked stub code in your editor calls your Student class constructor and passes it the necessary arguments. It also calls the calculate method (which takes no arguments).\n",
    "    - You are not responsible for reading the following input from stdin:\n",
    "      The first line contains first name, last name, and id, respectively. The second line contains the number of test scores. The third line of space-separated integers describes scores.\n",
    "\n",
    "- Constraints\n",
    "    - 1 <= |first name|, |last name| <= 10\n",
    "    - |id| = 7\n",
    "    - 0 <= score, average <= 100\n",
    "\n",
    "- Output Format\n",
    "    - This is handled by the locked stub code in your editor. Your output will be correct if your Student class constructor and calculate() method are properly implemented."
   ]
  },
  {
   "cell_type": "markdown",
   "metadata": {},
   "source": [
    "#### 문제풀이\n",
    "- 설명은 긴데.. 그냥 Person 클래스를 상속받고, 생성자 함수에서는 score를 추가하여 준다\n",
    "- score를 평균을 낸 뒤에, 해당 평균이 어느 구간에 속하면 O, E, A, P, T, D를 리턴하게 만들어주면 됨"
   ]
  },
  {
   "cell_type": "code",
   "execution_count": 6,
   "metadata": {
    "execution": {
     "iopub.execute_input": "2020-07-06T05:16:26.816152Z",
     "iopub.status.busy": "2020-07-06T05:16:26.815151Z",
     "iopub.status.idle": "2020-07-06T05:16:28.010463Z",
     "shell.execute_reply": "2020-07-06T05:16:28.010463Z",
     "shell.execute_reply.started": "2020-07-06T05:16:26.816152Z"
    }
   },
   "outputs": [
    {
     "name": "stdin",
     "output_type": "stream",
     "text": [
      " 1\n"
     ]
    }
   ],
   "source": [
    "class Person:\n",
    "\tdef __init__(self, firstName, lastName, idNumber):\n",
    "\t\tself.firstName = firstName\n",
    "\t\tself.lastName = lastName\n",
    "\t\tself.idNumber = idNumber\n",
    "\tdef printPerson(self):\n",
    "\t\tprint(\"Name:\", self.lastName + \",\", self.firstName)\n",
    "\t\tprint(\"ID:\", self.idNumber)\n",
    "\n",
    "class Student(Person):\n",
    "    #   Class Constructor\n",
    "    #   \n",
    "    #   Parameters:\n",
    "    #   firstName - A string denoting the Person's first name.\n",
    "    #   lastName - A string denoting the Person's last name.\n",
    "    #   id - An integer denoting the Person's ID number.\n",
    "    #   scores - An array of integers denoting the Person's test scores.\n",
    "    #\n",
    "    # Write your constructor here\n",
    "    def __init__(self, firstName, lastName, idNumber, scores):\n",
    "        self.firstName = firstName\n",
    "        self.lastName = lastName\n",
    "        self.idNumber = idNumber\n",
    "        self.scores = scores\n",
    "    \n",
    "    #   Function Name: calculate\n",
    "    #   Return: A character denoting the grade.\n",
    "    #\n",
    "    # Write your function here\n",
    "    def calculate(self):\n",
    "        avg = sum(self.scores) / len(self.scores)\n",
    "        if avg >= 90:\n",
    "            return 'O'\n",
    "        elif avg >= 80:\n",
    "            return 'E'\n",
    "        elif avg >= 70:\n",
    "            return 'A'\n",
    "        elif avg >= 55:\n",
    "            return 'P'\n",
    "        elif avg >= 40:\n",
    "            return 'D'\n",
    "        else :\n",
    "            return 'T'"
   ]
  },
  {
   "cell_type": "code",
   "execution_count": null,
   "metadata": {},
   "outputs": [],
   "source": []
  }
 ],
 "metadata": {
  "kernelspec": {
   "display_name": "Python 3",
   "language": "python",
   "name": "python3"
  },
  "language_info": {
   "codemirror_mode": {
    "name": "ipython",
    "version": 3
   },
   "file_extension": ".py",
   "mimetype": "text/x-python",
   "name": "python",
   "nbconvert_exporter": "python",
   "pygments_lexer": "ipython3",
   "version": "3.7.6"
  }
 },
 "nbformat": 4,
 "nbformat_minor": 4
}

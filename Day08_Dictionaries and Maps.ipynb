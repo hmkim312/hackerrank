{
 "cells": [
  {
   "cell_type": "markdown",
   "metadata": {},
   "source": [
    "- Objective\n",
    "    - Today, we're learning about Key-Value pair mappings using a Map or Dictionary data structure. Check out the Tutorial tab for learning materials and an instructional video!\n",
    "\n",
    "- Task\n",
    "    - Given n names and phone numbers, assemble a phone book that maps friends' names to their respective phone numbers. You will then be given an unknown number of names to query your phone book for. For each  name queried, print the associated entry from your phone book on a new line in the form name=phoneNumber; if an entry for name is not found, print Not found instead.\n",
    "\n",
    "- Note: Your phone book should be a Dictionary/Map/HashMap data structure.\n",
    "\n",
    "- Input Format\n",
    "\n",
    "    - The first line contains an integer, n, denoting the number of entries in the phone book.\n",
    "    - Each of the n subsequent lines describes an entry in the form of 2 space-separated values on a single line. The first value is a friend's name, and the second value is an 8-digit phone number.\n",
    "    - After the n lines of phone book entries, there are an unknown number of lines of queries. Each line (query) contains a name to look up, and you must continue reading lines until there is no more input.\n",
    "\n",
    "- Note: Names consist of lowercase English alphabetic letters and are first names only.\n",
    "\n",
    "- Constraints\n",
    "    - 1 <= n <= 10^5\n",
    "    - 1 <= queries <= 10^5\n",
    "- Output Format\n",
    "    - On a new line for each query, print Not found if the name has no corresponding entry in the phone book; otherwise, print the full name and phonenumber in the format name=phoneNumber."
   ]
  },
  {
   "cell_type": "code",
   "execution_count": null,
   "metadata": {},
   "outputs": [],
   "source": [
    "# for문 대신 while문으로 런타임 오류 해결\n",
    "n = int(input())\n",
    "phonebooks_dict = {}\n",
    "for i in range(n):\n",
    "    phonebook = input().split()\n",
    "    phonebooks_dict[phonebook[0]] = phonebook[1]\n",
    "\n",
    "while True:\n",
    "    try:\n",
    "        k = input()\n",
    "        result = k+'='+phonebooks_dict[k] if k in phonebooks_dict else 'Not found'\n",
    "        print(result)\n",
    "    except EOFError:\n",
    "        break"
   ]
  },
  {
   "cell_type": "code",
   "execution_count": null,
   "metadata": {},
   "outputs": [],
   "source": [
    "# for문을 2번 돌리니, case1에서 runtime error가 뜸\n",
    "n = int(input())\n",
    "phonebooks_dict = {}\n",
    "for i in range(n):\n",
    "    phonebook = input().split()\n",
    "    phonebooks_dict[phonebook[0]] = phonebook[1]\n",
    "\n",
    "for j in range(n):\n",
    "    k = input()\n",
    "    result = k+'='+phonebooks_dict[k] if k in phonebooks_dict else 'Not found'\n",
    "    print(result)"
   ]
  }
 ],
 "metadata": {
  "kernelspec": {
   "display_name": "Python 3",
   "language": "python",
   "name": "python3"
  },
  "language_info": {
   "codemirror_mode": {
    "name": "ipython",
    "version": 3
   },
   "file_extension": ".py",
   "mimetype": "text/x-python",
   "name": "python",
   "nbconvert_exporter": "python",
   "pygments_lexer": "ipython3",
   "version": "3.7.6"
  }
 },
 "nbformat": 4,
 "nbformat_minor": 4
}

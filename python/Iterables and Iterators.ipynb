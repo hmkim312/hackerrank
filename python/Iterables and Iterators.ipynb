{
 "cells": [
  {
   "cell_type": "markdown",
   "metadata": {},
   "source": [
    "- The itertools module standardizes a core set of fast, memory efficient tools that are useful by themselves or in combination. Together, they form an iterator algebra making it possible to construct specialized tools succinctly and efficiently in pure Python.\n",
    "\n",
    "- To read more about the functions in this module, check out their documentation here.\n",
    "\n",
    "- You are given a list of N lowercase English letters. For a given integer K, you can select any K indices (assume 1- based indexing) with a uniform probability from the list.\n",
    "\n",
    "- Find the probability that at least one of the K indices selected will contain the letter: 'a'.\n",
    "\n",
    "- Input Format\n",
    "    - The input consists of three lines. The first line contains the integer N, denoting the length of the list. The next line consists of N space-separated lowercase English letters, denoting the elements of the list.\n",
    "\n",
    "    - The third and the last line of input contains the integer K, denoting the number of indices to be selected.\n",
    "\n",
    "- Output Format\n",
    "    - Output a single line consisting of the probability that at least one of the K indices selected contains the letter:'a'.\n",
    "\n",
    "- Note: The answer must be correct up to 3 decimal places.\n",
    "\n",
    "- Constraints\n",
    "    - 1 <= N <= 10\n",
    "    - 1 <= K <= N\n",
    "    - All the letters in the list are lowercase English letters."
   ]
  },
  {
   "cell_type": "markdown",
   "metadata": {},
   "source": [
    "#### 문제풀이\n",
    "- 문자의 길이 n, 문자열 c, 맵핑할 k가 주어지고 a가 포함되어있는 인덱스와, 전체 인덱스의 비율을 구하는것\n",
    "- 굳이 인덱스로 하지않고 itertools의 combinations 메서드를 활용하여 (a, a)이런식으로 만들고, 해당 컴비네이션에 a가 있으면 count에 +1씩 하게 만듬\n",
    "- 마지막으로 count / len 을 하면 비율이 나옴"
   ]
  },
  {
   "cell_type": "code",
   "execution_count": 21,
   "metadata": {
    "execution": {
     "iopub.execute_input": "2020-08-13T07:58:34.215461Z",
     "iopub.status.busy": "2020-08-13T07:58:34.215461Z",
     "iopub.status.idle": "2020-08-13T07:58:37.838036Z",
     "shell.execute_reply": "2020-08-13T07:58:37.838036Z",
     "shell.execute_reply.started": "2020-08-13T07:58:34.215461Z"
    }
   },
   "outputs": [
    {
     "name": "stdin",
     "output_type": "stream",
     "text": [
      " 4\n",
      " a a c d\n",
      " 2\n"
     ]
    },
    {
     "name": "stdout",
     "output_type": "stream",
     "text": [
      "0.8333333333333334\n"
     ]
    }
   ],
   "source": [
    "from itertools import combinations\n",
    "\n",
    "n = input()\n",
    "c = input().split()\n",
    "k = int(input())\n",
    "\n",
    "count = 0\n",
    "for i in combinations(c, k):\n",
    "    if 'a' in i:\n",
    "        count += 1\n",
    "print(count / len(list(combinations(c, k))))"
   ]
  },
  {
   "cell_type": "code",
   "execution_count": null,
   "metadata": {},
   "outputs": [],
   "source": []
  }
 ],
 "metadata": {
  "kernelspec": {
   "display_name": "Python 3",
   "language": "python",
   "name": "python3"
  },
  "language_info": {
   "codemirror_mode": {
    "name": "ipython",
    "version": 3
   },
   "file_extension": ".py",
   "mimetype": "text/x-python",
   "name": "python",
   "nbconvert_exporter": "python",
   "pygments_lexer": "ipython3",
   "version": "3.7.6"
  }
 },
 "nbformat": 4,
 "nbformat_minor": 4
}

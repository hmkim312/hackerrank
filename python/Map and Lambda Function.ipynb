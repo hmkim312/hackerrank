{
 "cells": [
  {
   "cell_type": "markdown",
   "metadata": {},
   "source": [
    "- URL : <https://www.hackerrank.com/challenges/map-and-lambda-expression/problem>{target=\"_blank\"}\n",
    "\n",
    "- Let's learn some new Python concepts! You have to generate a list of the first N fibonacci numbers, 0 being the first number. Then, apply the map function and a lambda expression to cube each fibonacci number and print the list.\n",
    "\n",
    "- Concept\n",
    "    - The map() function applies a function to every member of an iterable and returns the result. It takes two parameters: first, the function that is to be applied and secondly, the iterables.\n",
    "    - Let's say you are given a list of names, and you have to print a list that contains the length of each name.\n",
    "\n",
    "```\n",
    ">> print (list(map(len, ['Tina', 'Raj', 'Tom'])))  \n",
    "[4, 3, 3]  \n",
    "Lambda is a single expression anonymous function often used as an inline function. In simple words, it is a function that has only one line in its body. It proves very handy in functional and GUI programming.\n",
    "\n",
    ">> sum = lambda a, b, c: a + b + c\n",
    ">> sum(1, 2, 3)\n",
    "6\n",
    "```\n",
    "\n",
    "- Note:\n",
    "\n",
    "    - Lambda functions cannot use the return statement and can only have a single expression. Unlike def, which creates a function and assigns it a name, lambda creates a function and returns the function itself. Lambda can be used inside lists and dictionaries.\n",
    "\n",
    "- Input Format\n",
    "    - One line of input: an integer N.\n",
    "\n",
    "- Constraints\n",
    "    - 0 <= N  <= 15\n",
    "- Output Format\n",
    "    - A list on a single line containing the cubes of the first N fibonacci numbers."
   ]
  },
  {
   "cell_type": "markdown",
   "metadata": {},
   "source": [
    "#### 일반적 문제풀이\n",
    "- integer N이 주어지면 해당 N의 피보나치수열을 구하고 그 수열들을 3제곱 하는것\n",
    "- lamda function을 이용해 fibo 함수를 만들고 그 함수를 다시 3제곱하는 lambda 함수를 넣음"
   ]
  },
  {
   "cell_type": "code",
   "execution_count": 104,
   "metadata": {
    "execution": {
     "iopub.execute_input": "2020-12-21T01:21:09.315095Z",
     "iopub.status.busy": "2020-12-21T01:21:09.314881Z",
     "iopub.status.idle": "2020-12-21T01:21:09.320620Z",
     "shell.execute_reply": "2020-12-21T01:21:09.319689Z",
     "shell.execute_reply.started": "2020-12-21T01:21:09.315072Z"
    }
   },
   "outputs": [
    {
     "data": {
      "text/plain": [
       "[0, 1, 1, 8, 27]"
      ]
     },
     "execution_count": 104,
     "metadata": {},
     "output_type": "execute_result"
    }
   ],
   "source": [
    "n = 5\n",
    "fibo = lambda n : n if n < 2 else fibo(n-1) + fibo(n-2)\n",
    "list(map(lambda x : x**3, list(map(fibo, range(n)))))"
   ]
  },
  {
   "cell_type": "markdown",
   "metadata": {
    "execution": {
     "iopub.execute_input": "2020-12-21T01:02:04.171751Z",
     "iopub.status.busy": "2020-12-21T01:02:04.171502Z",
     "iopub.status.idle": "2020-12-21T01:02:04.175140Z",
     "shell.execute_reply": "2020-12-21T01:02:04.174541Z",
     "shell.execute_reply.started": "2020-12-21T01:02:04.171725Z"
    }
   },
   "source": [
    "#### hackerrank 문제풀이\n",
    "- cube라는 3제곱하는 함수를 lambda를 이용해 생성\n",
    "- fibonacci 함수를 생성 하고, ls에 결과를 넣음"
   ]
  },
  {
   "cell_type": "code",
   "execution_count": 108,
   "metadata": {
    "execution": {
     "iopub.execute_input": "2020-12-21T01:22:31.433403Z",
     "iopub.status.busy": "2020-12-21T01:22:31.433194Z",
     "iopub.status.idle": "2020-12-21T01:22:31.437279Z",
     "shell.execute_reply": "2020-12-21T01:22:31.436638Z",
     "shell.execute_reply.started": "2020-12-21T01:22:31.433380Z"
    }
   },
   "outputs": [],
   "source": [
    "cube = lambda x: x ** 3\n",
    "\n",
    "def fibonacci(n):\n",
    "    ls = [0, 1]\n",
    "    for i in range(2,n):\n",
    "        ls.append(ls[i-1] + ls[i-2])\n",
    "    return ls[:n]"
   ]
  },
  {
   "cell_type": "code",
   "execution_count": 109,
   "metadata": {
    "execution": {
     "iopub.execute_input": "2020-12-21T01:22:31.814397Z",
     "iopub.status.busy": "2020-12-21T01:22:31.814191Z",
     "iopub.status.idle": "2020-12-21T01:22:31.817713Z",
     "shell.execute_reply": "2020-12-21T01:22:31.817027Z",
     "shell.execute_reply.started": "2020-12-21T01:22:31.814375Z"
    }
   },
   "outputs": [
    {
     "name": "stdout",
     "output_type": "stream",
     "text": [
      "[0, 1, 1, 8, 27]\n"
     ]
    }
   ],
   "source": [
    "print(list(map(cube, fibonacci(n))))"
   ]
  },
  {
   "cell_type": "markdown",
   "metadata": {},
   "source": [
    "- hackerrank 문제풀이"
   ]
  }
 ],
 "metadata": {
  "kernelspec": {
   "display_name": "Python 3",
   "language": "python",
   "name": "python3"
  },
  "language_info": {
   "codemirror_mode": {
    "name": "ipython",
    "version": 3
   },
   "file_extension": ".py",
   "mimetype": "text/x-python",
   "name": "python",
   "nbconvert_exporter": "python",
   "pygments_lexer": "ipython3",
   "version": "3.8.3"
  }
 },
 "nbformat": 4,
 "nbformat_minor": 4
}

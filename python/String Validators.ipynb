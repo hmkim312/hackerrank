{
 "cells": [
  {
   "cell_type": "markdown",
   "metadata": {},
   "source": [
    "- Python has built-in string validation methods for basic data. It can check if a string is composed of alphabetical characters, alphanumeric characters, digits, etc.\n",
    "- str.isalnum()\n",
    "    - This method checks if all the characters of a string are alphanumeric (a-z, A-Z and 0-9).\n",
    "\n",
    "```python\n",
    ">>> print 'ab123'.isalnum()\n",
    "True\n",
    ">>> print 'ab123#'.isalnum()\n",
    "False\n",
    "```\n",
    "\n",
    "- str.isalpha()\n",
    "    - This method checks if all the characters of a string are alphabetical (a-z and A-Z).\n",
    "```python\n",
    ">>> print 'abcD'.isalpha()\n",
    "True\n",
    ">>> print 'abcd1'.isalpha()\n",
    "False\n",
    "```\n",
    "\n",
    "- str.isdigit()\n",
    "    - This method checks if all the characters of a string are digits (0-9).\n",
    "```python\n",
    ">>> print '1234'.isdigit()\n",
    "True\n",
    ">>> print '123edsd'.isdigit()\n",
    "False\n",
    "```\n",
    "\n",
    "- str.islower()\n",
    "    - This method checks if all the characters of a string are lowercase characters (a-z).\n",
    "```python\n",
    ">>> print 'abcd123#'.islower()\n",
    "True\n",
    ">>> print 'Abcd123#'.islower()\n",
    "False\n",
    "```\n",
    "\n",
    "- str.isupper()\n",
    "    - This method checks if all the characters of a string are uppercase characters (A-Z).\n",
    "```python\n",
    ">>> print 'ABCD123#'.isupper()\n",
    "True\n",
    ">>> print 'Abcd123#'.isupper()\n",
    "False\n",
    "```\n",
    "- Task\n",
    "    - You are given a string S.\n",
    "    - Your task is to find out if the string S contains: alphanumeric characters, alphabetical characters, digits, lowercase and uppercase characters.\n",
    "\n",
    "- Input Format\n",
    "    - A single line containing a string S.\n",
    "\n",
    "- Constraints\n",
    "    - 0 < len(S) <= 1000\n",
    "\n",
    "- Output Format\n",
    "    - In the first line, print True if S has any alphanumeric characters. Otherwise, print False.\n",
    "    - In the second line, print True if S has any alphabetical characters. Otherwise, print False.\n",
    "    - In the third line, print True if S has any digits. Otherwise, print False.\n",
    "    - In the fourth line, print True if S has any lowercase characters. Otherwise, print False.\n",
    "    - In the fifth line, print True if S has any uppercase characters. Otherwise, print False."
   ]
  },
  {
   "cell_type": "markdown",
   "metadata": {
    "execution": {
     "iopub.execute_input": "2020-08-03T01:35:36.485679Z",
     "iopub.status.busy": "2020-08-03T01:35:36.485679Z",
     "iopub.status.idle": "2020-08-03T01:35:36.490636Z",
     "shell.execute_reply": "2020-08-03T01:35:36.489650Z",
     "shell.execute_reply.started": "2020-08-03T01:35:36.485679Z"
    }
   },
   "source": [
    "#### 문제풀이\n",
    "- 주어진 string S에서 isalnum, isalpha, isdigit, islower, isupper가 참이되는 문자가 있으면 true 반환 없으면 False\n",
    "- any(x)는 반복 가능한(iterable) 자료형 x를 입력 인수로 받으며 이 x의 요소 중 하나라도 참이 있으면 True를 돌려주고, x가 모두 거짓일 때에만 False를 돌려준다. all(x)의 반대이다.\n",
    "- 그래서 any 함수를 이용하여 for문의 리스트컴프리헨션을 사용하고 True가 하나라도 있으면 any함수를 통해 True가 반환되게 짬\n",
    "- 솔직히 any함수가 있었는지 몰랐는데, 이번기회에 알게되었음"
   ]
  },
  {
   "cell_type": "code",
   "execution_count": 23,
   "metadata": {
    "execution": {
     "iopub.execute_input": "2020-08-03T01:41:31.990879Z",
     "iopub.status.busy": "2020-08-03T01:41:31.989868Z",
     "iopub.status.idle": "2020-08-03T01:41:35.369141Z",
     "shell.execute_reply": "2020-08-03T01:41:35.369141Z",
     "shell.execute_reply.started": "2020-08-03T01:41:31.990879Z"
    }
   },
   "outputs": [
    {
     "name": "stdin",
     "output_type": "stream",
     "text": [
      " qA2\n"
     ]
    },
    {
     "name": "stdout",
     "output_type": "stream",
     "text": [
      "True\n",
      "True\n",
      "True\n",
      "True\n",
      "True\n"
     ]
    }
   ],
   "source": [
    "if __name__ == '__main__':\n",
    "    s = input()\n",
    "    print(any([c.isalnum() for c in s]))\n",
    "    print(any([c.isalpha() for c in s]))\n",
    "    print(any([c.isdigit() for c in s]))\n",
    "    print(any([c.islower() for c in s]))\n",
    "    print(any([c.isupper() for c in s]))"
   ]
  },
  {
   "cell_type": "code",
   "execution_count": null,
   "metadata": {},
   "outputs": [],
   "source": []
  }
 ],
 "metadata": {
  "kernelspec": {
   "display_name": "Python 3",
   "language": "python",
   "name": "python3"
  },
  "language_info": {
   "codemirror_mode": {
    "name": "ipython",
    "version": 3
   },
   "file_extension": ".py",
   "mimetype": "text/x-python",
   "name": "python",
   "nbconvert_exporter": "python",
   "pygments_lexer": "ipython3",
   "version": "3.7.6"
  }
 },
 "nbformat": 4,
 "nbformat_minor": 4
}

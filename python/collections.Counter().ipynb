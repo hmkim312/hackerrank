{
 "cells": [
  {
   "cell_type": "markdown",
   "metadata": {},
   "source": [
    "- A counter is a container that stores elements as dictionary keys, and their counts are stored as dictionary values.\n",
    "- Sample Code\n",
    "```python\n",
    ">>> from collections import Counter\n",
    ">>> \n",
    ">>> myList = [1,1,2,3,4,5,3,2,3,4,2,1,2,3]\n",
    ">>> print Counter(myList)\n",
    "Counter({2: 4, 3: 4, 1: 3, 4: 2, 5: 1})\n",
    ">>>\n",
    ">>> print Counter(myList).items()\n",
    "[(1, 3), (2, 4), (3, 4), (4, 2), (5, 1)]\n",
    ">>> \n",
    ">>> print Counter(myList).keys()\n",
    "[1, 2, 3, 4, 5]\n",
    ">>> \n",
    ">>> print Counter(myList).values()\n",
    "[3, 4, 4, 2, 1]\n",
    "```\n",
    "\n",
    "- Task\n",
    "    - Ragha is a shoe shop owner. His shop has X number of shoes.\n",
    "    - He has a list containing the size of each shoe he has in his shop.\n",
    "    - There are N number of customers who are willing to pay x; amount of money only if they get the shoe of their desired size.\n",
    "    - Your task is to compute how much money Ragha earned.\n",
    "\n",
    "- Input Format\n",
    "    - The first line contains X, the number of shoes.\n",
    "    - The second line contains the space separated list of all the shoe sizes in the shop.\n",
    "    - The third line contains N, the number of customers.\n",
    "    - The next N lines contain the space separated values of the  desired by the customer and , the price of the shoe.\n",
    "\n",
    "- Constraints\n",
    "    - 0 < X < 10^3\n",
    "    - 0 < N <= 10^3\n",
    "    - 20 < xi < 100\n",
    "    - 2 < shoe size < 20\n",
    "\n",
    "- Output Format\n",
    "    - Print the amount of money earned by Ragha."
   ]
  },
  {
   "cell_type": "markdown",
   "metadata": {},
   "source": [
    "#### 문제풀이\n",
    "- 신발의 사이즈가 적힌 리스트를 받고, 해당 사이즈를 구매하는 고객들의 가격의 총합을 구하는것\n",
    "- 사이즈가 적힌 리스트는 input으로 받으면서 Counter 함수로 dict 형태의 s를 만들어준다\n",
    "- 고객의 수만큼 for문을 돌리면서 s 안에 size가 있다면 해당 size의 price를 더해주고, 해당 size의 갯수는 1만큼 줄여준다\n",
    "- 이를 반복 한뒤 마지막 최종 price를 출력하면 끝"
   ]
  },
  {
   "cell_type": "code",
   "execution_count": 7,
   "metadata": {
    "execution": {
     "iopub.execute_input": "2020-08-07T01:29:51.349844Z",
     "iopub.status.busy": "2020-08-07T01:29:51.349844Z",
     "iopub.status.idle": "2020-08-07T01:30:22.437498Z",
     "shell.execute_reply": "2020-08-07T01:30:22.435548Z",
     "shell.execute_reply.started": "2020-08-07T01:29:51.349844Z"
    }
   },
   "outputs": [
    {
     "name": "stdin",
     "output_type": "stream",
     "text": [
      " 10\n",
      " 2 3 4 5 6 8 7 6 5 18\n",
      " 6\n",
      " 6 55\n",
      " 6 45\n",
      " 6 55\n",
      " 4 40\n",
      " 18 60\n",
      " 10 50\n"
     ]
    },
    {
     "name": "stdout",
     "output_type": "stream",
     "text": [
      "200\n"
     ]
    }
   ],
   "source": [
    "from collections import Counter\n",
    "x = int(input())\n",
    "s = Counter(map(int,input().split()))\n",
    "n = int(input())\n",
    "total = 0\n",
    "for i in range(n):\n",
    "    size, price = map(int, input().split())\n",
    "    if s[size]:\n",
    "        total += price\n",
    "        s[size] -= 1\n",
    "print(total)"
   ]
  },
  {
   "cell_type": "code",
   "execution_count": null,
   "metadata": {},
   "outputs": [],
   "source": []
  }
 ],
 "metadata": {
  "kernelspec": {
   "display_name": "Python 3",
   "language": "python",
   "name": "python3"
  },
  "language_info": {
   "codemirror_mode": {
    "name": "ipython",
    "version": 3
   },
   "file_extension": ".py",
   "mimetype": "text/x-python",
   "name": "python",
   "nbconvert_exporter": "python",
   "pygments_lexer": "ipython3",
   "version": "3.7.6"
  }
 },
 "nbformat": 4,
 "nbformat_minor": 4
}

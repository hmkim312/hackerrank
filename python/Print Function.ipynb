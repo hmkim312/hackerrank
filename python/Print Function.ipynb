{
 "cells": [
  {
   "cell_type": "markdown",
   "metadata": {},
   "source": [
    "- The included code stub will read an integer, n, from STDIN.\n",
    "- Without using any string methods, try to print the following:\n",
    "    - 1,2,3 ... n \n",
    "- Note that \"...\" represents the consecutive values in between.\n",
    "\n",
    "- Example\n",
    "    - n = 5\n",
    "    - Print the string 12345.\n",
    "\n",
    "- Input Format\n",
    "    - The first line contains an integer n.\n",
    "\n",
    "- Constraints\n",
    "   - 1 <= n <= 150\n",
    "\n",
    "- Output Format\n",
    "    - Print the list of integers from 1 through n as a string, without spaces."
   ]
  },
  {
   "cell_type": "markdown",
   "metadata": {
    "execution": {
     "iopub.execute_input": "2020-07-29T00:36:43.977980Z",
     "iopub.status.busy": "2020-07-29T00:36:43.977980Z",
     "iopub.status.idle": "2020-07-29T00:36:43.983965Z",
     "shell.execute_reply": "2020-07-29T00:36:43.982967Z",
     "shell.execute_reply.started": "2020-07-29T00:36:43.977980Z"
    }
   },
   "source": [
    "#### 문제풀이\n",
    "- n이 주어지면 해당 1부터n까지 프린트하면됨\n",
    "- 기본 print 함수의 end = '\\n'이 디폴트이기때문에 그냥 이것을 ''띄어쓰기 없는것으로 주면 옆으로 프린트가 됨"
   ]
  },
  {
   "cell_type": "code",
   "execution_count": 6,
   "metadata": {
    "execution": {
     "iopub.execute_input": "2020-07-29T00:35:47.155334Z",
     "iopub.status.busy": "2020-07-29T00:35:47.154339Z",
     "iopub.status.idle": "2020-07-29T00:35:47.902949Z",
     "shell.execute_reply": "2020-07-29T00:35:47.902949Z",
     "shell.execute_reply.started": "2020-07-29T00:35:47.155334Z"
    }
   },
   "outputs": [
    {
     "name": "stdin",
     "output_type": "stream",
     "text": [
      " 5\n"
     ]
    },
    {
     "name": "stdout",
     "output_type": "stream",
     "text": [
      "12345"
     ]
    }
   ],
   "source": [
    "if __name__ == '__main__':\n",
    "    n = int(input())\n",
    "    for i in range(1, n+1):\n",
    "        print(i, end='')"
   ]
  },
  {
   "cell_type": "code",
   "execution_count": null,
   "metadata": {},
   "outputs": [],
   "source": []
  }
 ],
 "metadata": {
  "kernelspec": {
   "display_name": "Python 3",
   "language": "python",
   "name": "python3"
  },
  "language_info": {
   "codemirror_mode": {
    "name": "ipython",
    "version": 3
   },
   "file_extension": ".py",
   "mimetype": "text/x-python",
   "name": "python",
   "nbconvert_exporter": "python",
   "pygments_lexer": "ipython3",
   "version": "3.7.6"
  }
 },
 "nbformat": 4,
 "nbformat_minor": 4
}

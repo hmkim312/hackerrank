{
 "cells": [
  {
   "cell_type": "markdown",
   "metadata": {},
   "source": [
    "- Mr. Vincent works in a door mat manufacturing company. One day, he designed a new door mat with the following specifications:\n",
    "\n",
    "    - Mat size must be N X M. (N is an odd natural number, and M is 3 times N.)\n",
    "    - The design should have 'WELCOME' written in the center.\n",
    "    - The design pattern should only use |, . and - characters.\n",
    "- Sample Designs\n",
    "```\n",
    "    Size: 7 x 21 \n",
    "    ---------.|.---------\n",
    "    ------.|..|..|.------\n",
    "    ---.|..|..|..|..|.---\n",
    "    -------WELCOME-------\n",
    "    ---.|..|..|..|..|.---\n",
    "    ------.|..|..|.------\n",
    "    ---------.|.---------\n",
    "    \n",
    "    Size: 11 x 33\n",
    "    ---------------.|.---------------\n",
    "    ------------.|..|..|.------------\n",
    "    ---------.|..|..|..|..|.---------\n",
    "    ------.|..|..|..|..|..|..|.------\n",
    "    ---.|..|..|..|..|..|..|..|..|.---\n",
    "    -------------WELCOME-------------\n",
    "    ---.|..|..|..|..|..|..|..|..|.---\n",
    "    ------.|..|..|..|..|..|..|.------\n",
    "    ---------.|..|..|..|..|.---------\n",
    "    ------------.|..|..|.------------\n",
    "    ---------------.|.---------------\n",
    "```\n",
    "- Input Format\n",
    "    - A single line containing the space separated values of N and M.\n",
    "\n",
    "- Constraints\n",
    "    - 5 < N < 101\n",
    "    - 15 < M < 303\n",
    "\n",
    "- Output Format\n",
    "    - Output the design pattern."
   ]
  },
  {
   "cell_type": "markdown",
   "metadata": {},
   "source": [
    "#### 문제풀이\n",
    "- n과 m이 주어지면 해당 숫자에 맞는 패턴의 그림을 그리는것\n",
    "- 어제 배운 str.center를 이용하여 그림\n",
    "- 정중앙에는 WELCOME이라는 단어가 들어가므로, for문을 정중앙을 기점으로 데칼코마니처럼 그리게 만듬\n",
    "- j라는 가중치를 두어 for문이 1번 돌때마다 +1 혹은 -1 씩 하게 만들어 패턴 모양의 횟수를 만들어냄"
   ]
  },
  {
   "cell_type": "code",
   "execution_count": 73,
   "metadata": {
    "execution": {
     "iopub.execute_input": "2020-08-04T02:32:44.215324Z",
     "iopub.status.busy": "2020-08-04T02:32:44.215324Z",
     "iopub.status.idle": "2020-08-04T02:32:44.227037Z",
     "shell.execute_reply": "2020-08-04T02:32:44.225083Z",
     "shell.execute_reply.started": "2020-08-04T02:32:44.215324Z"
    }
   },
   "outputs": [
    {
     "name": "stdout",
     "output_type": "stream",
     "text": [
      "---------.|.---------\n",
      "------.|..|..|.------\n",
      "---.|..|..|..|..|.---\n",
      "-------WELCOME-------\n",
      "---.|..|..|..|..|.---\n",
      "------.|..|..|.------\n",
      "---------.|.---------\n"
     ]
    }
   ],
   "source": [
    "n = 7\n",
    "m = 21\n",
    "k = n // 2\n",
    "c = '.|.'\n",
    "j = 0\n",
    "\n",
    "for i in range(1, k + 1):\n",
    "    print((c * (i + j)).center(m, '-'))\n",
    "    j += 1\n",
    "    \n",
    "print('WELCOME'.center(m, '-'))\n",
    "\n",
    "j -= 1\n",
    "for i in range(k):\n",
    "    print((c * (k - i + j)).center(m, '-'))\n",
    "    j -= 1"
   ]
  },
  {
   "cell_type": "code",
   "execution_count": null,
   "metadata": {},
   "outputs": [],
   "source": []
  }
 ],
 "metadata": {
  "kernelspec": {
   "display_name": "Python 3",
   "language": "python",
   "name": "python3"
  },
  "language_info": {
   "codemirror_mode": {
    "name": "ipython",
    "version": 3
   },
   "file_extension": ".py",
   "mimetype": "text/x-python",
   "name": "python",
   "nbconvert_exporter": "python",
   "pygments_lexer": "ipython3",
   "version": "3.7.6"
  }
 },
 "nbformat": 4,
 "nbformat_minor": 4
}

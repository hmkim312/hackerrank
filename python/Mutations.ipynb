{
 "cells": [
  {
   "cell_type": "markdown",
   "metadata": {},
   "source": [
    "- Task\n",
    "    - Read a given string, change the character at a given index and then print the modified string.\n",
    "\n",
    "- Input Format\n",
    "    - The first line contains a string, s.\n",
    "    - The next line contains an integer i, denoting the index location and a character c separated by a space.\n",
    "\n",
    "- Output Format\n",
    "    - Using any of the methods explained above, replace the character at index i with character c."
   ]
  },
  {
   "cell_type": "markdown",
   "metadata": {},
   "source": [
    "#### 문제 풀이\n",
    "- string을 list로 바꾸고 주어진 i번쨰에 있는 원소를 character로 바꾸는 함수를 작성"
   ]
  },
  {
   "cell_type": "code",
   "execution_count": 11,
   "metadata": {
    "execution": {
     "iopub.execute_input": "2020-08-01T04:43:57.525714Z",
     "iopub.status.busy": "2020-08-01T04:43:57.525714Z",
     "iopub.status.idle": "2020-08-01T04:43:57.531689Z",
     "shell.execute_reply": "2020-08-01T04:43:57.530693Z",
     "shell.execute_reply.started": "2020-08-01T04:43:57.525714Z"
    }
   },
   "outputs": [],
   "source": [
    "def mutate_string(string, position, character):\n",
    "    ls = list(string)\n",
    "    ls[position] = character\n",
    "    new_stirng = ''.join(ls)\n",
    "    return new_stirng"
   ]
  },
  {
   "cell_type": "code",
   "execution_count": 13,
   "metadata": {
    "execution": {
     "iopub.execute_input": "2020-08-01T04:43:58.524293Z",
     "iopub.status.busy": "2020-08-01T04:43:58.523295Z",
     "iopub.status.idle": "2020-08-01T04:43:58.531271Z",
     "shell.execute_reply": "2020-08-01T04:43:58.530277Z",
     "shell.execute_reply.started": "2020-08-01T04:43:58.524293Z"
    }
   },
   "outputs": [
    {
     "data": {
      "text/plain": [
       "'abrackdabra'"
      ]
     },
     "execution_count": 13,
     "metadata": {},
     "output_type": "execute_result"
    }
   ],
   "source": [
    "string = 'abracadabra'\n",
    "i = 5\n",
    "c = 'k'\n",
    "\n",
    "mutate_string(string, i, c)"
   ]
  },
  {
   "cell_type": "code",
   "execution_count": null,
   "metadata": {},
   "outputs": [],
   "source": []
  }
 ],
 "metadata": {
  "kernelspec": {
   "display_name": "Python 3",
   "language": "python",
   "name": "python3"
  },
  "language_info": {
   "codemirror_mode": {
    "name": "ipython",
    "version": 3
   },
   "file_extension": ".py",
   "mimetype": "text/x-python",
   "name": "python",
   "nbconvert_exporter": "python",
   "pygments_lexer": "ipython3",
   "version": "3.7.6"
  }
 },
 "nbformat": 4,
 "nbformat_minor": 4
}

{
 "cells": [
  {
   "cell_type": "markdown",
   "metadata": {},
   "source": [
    "- In this task, we would like for you to appreciate the usefulness of the groupby() function of itertools . To read more about this function, Check this out .\n",
    "\n",
    "- You are given a string S. Suppose a character 'c' occurs consecutively X times in the string. Replace these consecutive occurrences of the character 'c' with (X, c) in the string.\n",
    "\n",
    "- For a better understanding of the problem, check the explanation.\n",
    "\n",
    "- Input Format\n",
    "    - A single line of input consisting of the string S.\n",
    "\n",
    "- Output Format\n",
    "    - A single line of output consisting of the modified string.\n",
    "\n",
    "- Constraints\n",
    "    - All the characters of S denote integers between 0 and 9."
   ]
  },
  {
   "cell_type": "markdown",
   "metadata": {
    "execution": {
     "iopub.execute_input": "2020-08-13T06:29:16.045682Z",
     "iopub.status.busy": "2020-08-13T06:29:16.045682Z",
     "iopub.status.idle": "2020-08-13T06:29:16.048649Z",
     "shell.execute_reply": "2020-08-13T06:29:16.048649Z",
     "shell.execute_reply.started": "2020-08-13T06:29:16.045682Z"
    }
   },
   "source": [
    "#### 문제풀이\n",
    "- intertools의 groupby 메서드를 사용하여 주어진 문자열 S에 대해 연속된 숫자의 갯수와 해당 숫자를 튜플형식으로 출력하는 것\n",
    "- print문에서 list를 출력할때 앞에 *를 넣으면 리스트가 벗겨진 채로 출력되는것을 학습함"
   ]
  },
  {
   "cell_type": "code",
   "execution_count": 34,
   "metadata": {
    "execution": {
     "iopub.execute_input": "2020-08-13T06:43:56.768498Z",
     "iopub.status.busy": "2020-08-13T06:43:56.768498Z",
     "iopub.status.idle": "2020-08-13T06:43:58.982630Z",
     "shell.execute_reply": "2020-08-13T06:43:58.982630Z",
     "shell.execute_reply.started": "2020-08-13T06:43:56.768498Z"
    }
   },
   "outputs": [
    {
     "name": "stdin",
     "output_type": "stream",
     "text": [
      " 1223331\n"
     ]
    },
    {
     "name": "stdout",
     "output_type": "stream",
     "text": [
      "(1, 1) (2, 2) (3, 3) (1, 1)\n"
     ]
    }
   ],
   "source": [
    "from itertools import groupby\n",
    "\n",
    "groups = []\n",
    "data = input()\n",
    "for k, g in groupby(data):\n",
    "    groups.append((len(list(g)), int(k)))\n",
    "print(*groups)"
   ]
  },
  {
   "cell_type": "code",
   "execution_count": null,
   "metadata": {},
   "outputs": [],
   "source": []
  }
 ],
 "metadata": {
  "kernelspec": {
   "display_name": "Python 3",
   "language": "python",
   "name": "python3"
  },
  "language_info": {
   "codemirror_mode": {
    "name": "ipython",
    "version": 3
   },
   "file_extension": ".py",
   "mimetype": "text/x-python",
   "name": "python",
   "nbconvert_exporter": "python",
   "pygments_lexer": "ipython3",
   "version": "3.7.6"
  }
 },
 "nbformat": 4,
 "nbformat_minor": 4
}

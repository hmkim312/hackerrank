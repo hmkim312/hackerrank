{
 "cells": [
  {
   "cell_type": "markdown",
   "metadata": {},
   "source": [
    "- This tool returns r length subsequences of elements from the input iterable allowing individual elements to be repeated more than once.\n",
    "- Combinations are emitted in lexicographic sorted order. So, if the input iterable is sorted, the combination tuples will be produced in sorted order.\n",
    "\n",
    "- Sample Code\n",
    "```python\n",
    ">>> from itertools import combinations_with_replacement\n",
    ">>> \n",
    ">>> print list(combinations_with_replacement('12345',2))\n",
    "[('1', '1'), ('1', '2'), ('1', '3'), ('1', '4'), ('1', '5'), ('2', '2'), ('2', '3'), ('2', '4'), ('2', '5'), ('3', '3'), ('3', '4'), ('3', '5'), ('4', '4'), ('4', '5'), ('5', '5')]\n",
    ">>> \n",
    ">>> A = [1,1,3,3,3]\n",
    ">>> print list(combinations(A,2))\n",
    "[(1, 1), (1, 3), (1, 3), (1, 3), (1, 3), (1, 3), (1, 3), (3, 3), (3, 3), (3, 3)]\n",
    "```\n",
    "\n",
    "- Task\n",
    "    - You are given a string S.\n",
    "    - Your task is to print all possible size k replacement combinations of the string in lexicographic sorted order.\n",
    "\n",
    "- Input Format\n",
    "    - A single line containing the string S and integer value k separated by a space.\n",
    "\n",
    "- Constraints\n",
    "    - 0 < k <= len(s)\n",
    "    - The string contains only UPPERCASE characters.\n",
    "\n",
    "- Output Format\n",
    "    - Print the combinations with their replacements of string S on separate lines."
   ]
  },
  {
   "cell_type": "markdown",
   "metadata": {},
   "source": [
    "#### 문제 풀이\n",
    "- 아마 combinations_with_replacement를 사용하는것이고, 앞에서 배운 itertools의 메서드들이 다른것을 설명하는듯 싶다.\n",
    "- 주어진 문자열 s에대해 k갯수만큼 끊어서 나오는 모든 조합의 수를 생성\n",
    "- 이번엔 combinations_with_replacement를 사용하는것\n",
    "- 로직은 앞에 것들과 똑같다."
   ]
  },
  {
   "cell_type": "code",
   "execution_count": 5,
   "metadata": {
    "execution": {
     "iopub.execute_input": "2020-08-11T06:00:25.843156Z",
     "iopub.status.busy": "2020-08-11T06:00:25.843156Z",
     "iopub.status.idle": "2020-08-11T06:00:28.830304Z",
     "shell.execute_reply": "2020-08-11T06:00:28.830304Z",
     "shell.execute_reply.started": "2020-08-11T06:00:25.843156Z"
    }
   },
   "outputs": [
    {
     "name": "stdin",
     "output_type": "stream",
     "text": [
      " HACK 2\n"
     ]
    },
    {
     "name": "stdout",
     "output_type": "stream",
     "text": [
      "AA\n",
      "AC\n",
      "AH\n",
      "AK\n",
      "CC\n",
      "CH\n",
      "CK\n",
      "HH\n",
      "HK\n",
      "KK\n"
     ]
    }
   ],
   "source": [
    "from itertools import combinations_with_replacement\n",
    "\n",
    "s ,k = input().split()\n",
    "s = sorted(s)\n",
    "k = int(k)\n",
    "\n",
    "from itertools import combinations_with_replacement\n",
    "c = list(combinations_with_replacement(s,k))\n",
    "for i in c:\n",
    "    print(''.join(i))"
   ]
  },
  {
   "cell_type": "code",
   "execution_count": null,
   "metadata": {},
   "outputs": [],
   "source": []
  },
  {
   "cell_type": "code",
   "execution_count": null,
   "metadata": {},
   "outputs": [],
   "source": []
  }
 ],
 "metadata": {
  "kernelspec": {
   "display_name": "Python 3",
   "language": "python",
   "name": "python3"
  },
  "language_info": {
   "codemirror_mode": {
    "name": "ipython",
    "version": 3
   },
   "file_extension": ".py",
   "mimetype": "text/x-python",
   "name": "python",
   "nbconvert_exporter": "python",
   "pygments_lexer": "ipython3",
   "version": "3.7.6"
  }
 },
 "nbformat": 4,
 "nbformat_minor": 4
}

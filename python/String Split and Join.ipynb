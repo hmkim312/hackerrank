{
 "cells": [
  {
   "cell_type": "markdown",
   "metadata": {},
   "source": [
    "- In Python, a string can be split on a delimiter.\n",
    "\n",
    "- Example:\n",
    "```python\n",
    ">>> a = \"this is a string\"\n",
    ">>> a = a.split(\" \") # a is converted to a list of strings. \n",
    ">>> print a\n",
    "['this', 'is', 'a', 'string']\n",
    "```\n",
    "\n",
    "- Joining a string is simple:\n",
    "\n",
    "```python\n",
    ">>> a = \"-\".join(a)\n",
    ">>> print a\n",
    "this-is-a-string \n",
    "```\n",
    "- Task\n",
    "    - You are given a string. Split the string on a \" \" (space) delimiter and join using a - hyphen.\n",
    "\n",
    "- Input Format\n",
    "    - The first line contains a string consisting of space separated words.\n",
    "\n",
    "- Output Format\n",
    "    - Print the formatted string as explained above."
   ]
  },
  {
   "cell_type": "markdown",
   "metadata": {},
   "source": [
    "#### 문제풀이\n",
    "- line 이 주어지면 공백으로 split하여 리스트를 만들고, 그 리스트를 '-'로 join하라는 문제\n",
    "- 정석으로 풀면 split -> join이 맞고 (1안)\n",
    "- 그냥 replace(변환함수)로 공백을 '-'로 바꾸면 된다.(2안)"
   ]
  },
  {
   "cell_type": "code",
   "execution_count": 2,
   "metadata": {
    "execution": {
     "iopub.execute_input": "2020-07-31T01:23:02.745337Z",
     "iopub.status.busy": "2020-07-31T01:23:02.745337Z",
     "iopub.status.idle": "2020-07-31T01:23:02.756074Z",
     "shell.execute_reply": "2020-07-31T01:23:02.755118Z",
     "shell.execute_reply.started": "2020-07-31T01:23:02.745337Z"
    }
   },
   "outputs": [
    {
     "data": {
      "text/plain": [
       "'this-is-a-string'"
      ]
     },
     "execution_count": 2,
     "metadata": {},
     "output_type": "execute_result"
    }
   ],
   "source": [
    "# 1안\n",
    "def split_and_join(line):\n",
    "    line = line.split()\n",
    "    return '-'.join(line)\n",
    "    \n",
    "if __name__ == '__main__':\n",
    "    line = input()\n",
    "    result = split_and_join(line)\n",
    "    print(result)"
   ]
  },
  {
   "cell_type": "code",
   "execution_count": null,
   "metadata": {},
   "outputs": [],
   "source": [
    "# 2안\n",
    "def split_and_join(line):\n",
    "    return line.replace(' ', '-')\n",
    "    \n",
    "if __name__ == '__main__':\n",
    "    line = input()\n",
    "    result = split_and_join(line)\n",
    "    print(result)"
   ]
  }
 ],
 "metadata": {
  "kernelspec": {
   "display_name": "Python 3",
   "language": "python",
   "name": "python3"
  },
  "language_info": {
   "codemirror_mode": {
    "name": "ipython",
    "version": 3
   },
   "file_extension": ".py",
   "mimetype": "text/x-python",
   "name": "python",
   "nbconvert_exporter": "python",
   "pygments_lexer": "ipython3",
   "version": "3.7.6"
  }
 },
 "nbformat": 4,
 "nbformat_minor": 4
}

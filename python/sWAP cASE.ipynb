{
 "cells": [
  {
   "cell_type": "markdown",
   "metadata": {},
   "source": [
    "- You are given a string and your task is to swap cases. In other words, convert all lowercase letters to uppercase letters and vice versa.\n",
    "\n",
    "- For Example:\n",
    "    ```python\n",
    "    Www.HackerRank.com → wWW.hACKERrANK.COM\n",
    "    Pythonist 2 → pYTHONIST 2\n",
    "    ```\n",
    "\n",
    "- Input Format\n",
    "    - A single line containing a string S.\n",
    "\n",
    "- Constraints\n",
    "    - 0 <= len(s) <= 1000\n",
    "\n",
    "- Output Format\n",
    "    - Print the modified string S."
   ]
  },
  {
   "cell_type": "markdown",
   "metadata": {},
   "source": [
    "#### 문제 풀이\n",
    "- string s가 주어졌을떄, 소문자는 대문자로, 대문자는 소문자로 바꾸는 함수를 작성\n",
    "- s를 for문으로 돌면서 대문자이면 소문자로, 소문자면 대문자로 둘다 아니라면 그냥 그대로 두는 코드를 만들었다"
   ]
  },
  {
   "cell_type": "code",
   "execution_count": 14,
   "metadata": {
    "execution": {
     "iopub.execute_input": "2020-07-31T01:12:21.192165Z",
     "iopub.status.busy": "2020-07-31T01:12:21.192165Z",
     "iopub.status.idle": "2020-07-31T01:12:30.267358Z",
     "shell.execute_reply": "2020-07-31T01:12:30.265415Z",
     "shell.execute_reply.started": "2020-07-31T01:12:21.192165Z"
    }
   },
   "outputs": [
    {
     "name": "stdin",
     "output_type": "stream",
     "text": [
      " HackerRank.com presents \"Pythonist 2\".\n"
     ]
    },
    {
     "name": "stdout",
     "output_type": "stream",
     "text": [
      "hACKERrANK.COM PRESENTS \"pYTHONIST 2\".\n"
     ]
    }
   ],
   "source": [
    "def swap_case(s):\n",
    "    s_ = ''\n",
    "    for i in s:\n",
    "        if i.isupper():\n",
    "            i = i.lower()\n",
    "            s_ += i\n",
    "        elif i.islower():\n",
    "            i = i.upper()\n",
    "            s_ += i\n",
    "        else:\n",
    "            s_ += i\n",
    "    return s_\n",
    "\n",
    "if __name__ == '__main__':\n",
    "    s = input()\n",
    "    result = swap_case(s)\n",
    "    print(result)"
   ]
  },
  {
   "cell_type": "code",
   "execution_count": null,
   "metadata": {},
   "outputs": [],
   "source": []
  }
 ],
 "metadata": {
  "kernelspec": {
   "display_name": "Python 3",
   "language": "python",
   "name": "python3"
  },
  "language_info": {
   "codemirror_mode": {
    "name": "ipython",
    "version": 3
   },
   "file_extension": ".py",
   "mimetype": "text/x-python",
   "name": "python",
   "nbconvert_exporter": "python",
   "pygments_lexer": "ipython3",
   "version": "3.7.6"
  }
 },
 "nbformat": 4,
 "nbformat_minor": 4
}

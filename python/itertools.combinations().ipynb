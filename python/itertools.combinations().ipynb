{
 "cells": [
  {
   "cell_type": "markdown",
   "metadata": {},
   "source": [
    "- This tool returns the  length subsequences of elements from the input iterable.\n",
    "- Combinations are emitted in lexicographic sorted order. So, if the input iterable is sorted, the combination tuples will be produced in sorted order.\n",
    "- Sample Code\n",
    "```python\n",
    ">>> from itertools import combinations\n",
    ">>> \n",
    ">>> print list(combinations('12345',2))\n",
    "[('1', '2'), ('1', '3'), ('1', '4'), ('1', '5'), ('2', '3'), ('2', '4'), ('2', '5'), ('3', '4'), ('3', '5'), ('4', '5')]\n",
    ">>> \n",
    ">>> A = [1,1,3,3,3]\n",
    ">>> print list(combinations(A,4))\n",
    "[(1, 1, 3, 3), (1, 1, 3, 3), (1, 1, 3, 3), (1, 3, 3, 3), (1, 3, 3, 3)]\n",
    "```\n",
    "\n",
    "- Task\n",
    "    - You are given a string S.\n",
    "    - Your task is to print all possible combinations, up to size k, of the string in lexicographic sorted order.\n",
    "\n",
    "- Input Format\n",
    "    - A single line containing the string S and integer value k separated by a space.\n",
    "\n",
    "- Constraints\n",
    "    - 0 < K <= len(s) \n",
    "    - The string contains only UPPERCASE characters.\n",
    "\n",
    "- Output Format\n",
    "    - Print the different combinations of string S on separate lines."
   ]
  },
  {
   "cell_type": "markdown",
   "metadata": {},
   "source": [
    "#### 문제풀이\n",
    "- itertools의 combinations를 사용하여 주어진 S를 1 ~ k 갯수만큼 순서대로 출력하는것\n",
    "- 일전에 했던 내용은 주어진 k의 숫자만큼만 출력하는 것이었다면 이번엔 1 ~ k까지임\n",
    "- for문을 1번더 써서 해결"
   ]
  },
  {
   "cell_type": "code",
   "execution_count": 5,
   "metadata": {
    "execution": {
     "iopub.execute_input": "2020-08-11T05:08:48.834173Z",
     "iopub.status.busy": "2020-08-11T05:08:48.834173Z",
     "iopub.status.idle": "2020-08-11T05:08:50.858681Z",
     "shell.execute_reply": "2020-08-11T05:08:50.858681Z",
     "shell.execute_reply.started": "2020-08-11T05:08:48.834173Z"
    }
   },
   "outputs": [
    {
     "name": "stdin",
     "output_type": "stream",
     "text": [
      " HACK 2\n"
     ]
    },
    {
     "name": "stdout",
     "output_type": "stream",
     "text": [
      "A\n",
      "C\n",
      "H\n",
      "K\n",
      "AC\n",
      "AH\n",
      "AK\n",
      "CH\n",
      "CK\n",
      "HK\n"
     ]
    }
   ],
   "source": [
    "from itertools import combinations\n",
    "\n",
    "s, k = input().split()\n",
    "k = int(k)\n",
    "s = sorted(s)\n",
    "for i in range(1, k+1):\n",
    "    for c in list(combinations(s, i)):\n",
    "        print(''.join(c))"
   ]
  },
  {
   "cell_type": "code",
   "execution_count": null,
   "metadata": {},
   "outputs": [],
   "source": []
  }
 ],
 "metadata": {
  "kernelspec": {
   "display_name": "Python 3",
   "language": "python",
   "name": "python3"
  },
  "language_info": {
   "codemirror_mode": {
    "name": "ipython",
    "version": 3
   },
   "file_extension": ".py",
   "mimetype": "text/x-python",
   "name": "python",
   "nbconvert_exporter": "python",
   "pygments_lexer": "ipython3",
   "version": "3.7.6"
  }
 },
 "nbformat": 4,
 "nbformat_minor": 4
}

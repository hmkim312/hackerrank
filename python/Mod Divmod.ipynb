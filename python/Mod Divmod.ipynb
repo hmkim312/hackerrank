{
 "cells": [
  {
   "cell_type": "markdown",
   "metadata": {},
   "source": [
    "## Mod Divmod"
   ]
  },
  {
   "cell_type": "markdown",
   "metadata": {},
   "source": [
    "- URL : <https://www.hackerrank.com/challenges/python-mod-divmod/problem>{:target=\"_blank\"}\n",
    "\n",
    "- One of the built-in functions of Python is divmod, which takes two arguments  and  and returns a tuple containing the quotient of  first and then the remainder .\n",
    "\n",
    "- For example:\n",
    "\n",
    "```\n",
    ">>> print divmod(177,10)\n",
    "(17, 7)\n",
    "```\n",
    "\n",
    "- Here, the integer division is 177/10 => 17 and the modulo operator is 177%10 => 7.\n",
    "\n",
    "\n",
    "- Task\n",
    "    - Read in two integers,  a and b, and print three lines.\n",
    "    - The first line is the integer division  a//b (While using Python2 remember to import division from __future__).\n",
    "    - The second line is the result of the modulo operator: a%b.\n",
    "    - The third line prints the divmod of  a and b.\n",
    "\n",
    "- Input Format\n",
    "    - The first line contains the first integer, a, and the second line contains the second integer, b.\n",
    "\n",
    "- Output Format\n",
    "    - Print the result as described above."
   ]
  },
  {
   "cell_type": "markdown",
   "metadata": {},
   "source": [
    "#### 문제 해설\n",
    "- python 내장 함수중에 divmod에 대한 이야기입니다.\n",
    "- a, b가 입력되면 \n",
    "- 첫번째 줄엔 a//b 즉, a 나누기 b의 몫을 출력 (177 / 10 -> 17)\n",
    "- 두번째 줄엔 a%b 즉, a 나누기 b의 나머지를 출력 (177 / 10 -> 7)\n",
    "- 세번째 줄엔 divmod(a, b)를 하여 (17, 7)을 출력 입니다.\n",
    "- 아주 쉬운 문제 입니다."
   ]
  },
  {
   "cell_type": "code",
   "execution_count": 6,
   "metadata": {
    "execution": {
     "iopub.execute_input": "2020-12-18T01:03:10.129449Z",
     "iopub.status.busy": "2020-12-18T01:03:10.129239Z",
     "iopub.status.idle": "2020-12-18T01:03:12.104379Z",
     "shell.execute_reply": "2020-12-18T01:03:12.103763Z",
     "shell.execute_reply.started": "2020-12-18T01:03:10.129426Z"
    }
   },
   "outputs": [
    {
     "name": "stdin",
     "output_type": "stream",
     "text": [
      " 177\n",
      " 10\n"
     ]
    },
    {
     "name": "stdout",
     "output_type": "stream",
     "text": [
      "17\n",
      "7\n",
      "(17, 7)\n"
     ]
    }
   ],
   "source": [
    "a = int(input())\n",
    "b = int(input())\n",
    "print(a//b)\n",
    "print(a % b)\n",
    "print(divmod(a, b))"
   ]
  },
  {
   "cell_type": "code",
   "execution_count": 11,
   "metadata": {
    "execution": {
     "iopub.execute_input": "2020-12-18T01:10:44.750539Z",
     "iopub.status.busy": "2020-12-18T01:10:44.750326Z",
     "iopub.status.idle": "2020-12-18T01:10:44.754413Z",
     "shell.execute_reply": "2020-12-18T01:10:44.753704Z",
     "shell.execute_reply.started": "2020-12-18T01:10:44.750517Z"
    }
   },
   "outputs": [
    {
     "data": {
      "text/plain": [
       "True"
      ]
     },
     "execution_count": 11,
     "metadata": {},
     "output_type": "execute_result"
    }
   ],
   "source": [
    "\n",
    "x**3 + x**2 + x + 1 == y"
   ]
  },
  {
   "cell_type": "code",
   "execution_count": 9,
   "metadata": {
    "execution": {
     "iopub.execute_input": "2020-12-18T01:10:35.627803Z",
     "iopub.status.busy": "2020-12-18T01:10:35.627556Z",
     "iopub.status.idle": "2020-12-18T01:10:35.630603Z",
     "shell.execute_reply": "2020-12-18T01:10:35.630001Z",
     "shell.execute_reply.started": "2020-12-18T01:10:35.627779Z"
    }
   },
   "outputs": [],
   "source": [
    "x = 1\n",
    "y = 4"
   ]
  },
  {
   "cell_type": "code",
   "execution_count": 12,
   "metadata": {
    "execution": {
     "iopub.execute_input": "2020-12-18T01:11:50.764961Z",
     "iopub.status.busy": "2020-12-18T01:11:50.764747Z",
     "iopub.status.idle": "2020-12-18T01:11:50.767989Z",
     "shell.execute_reply": "2020-12-18T01:11:50.767356Z",
     "shell.execute_reply.started": "2020-12-18T01:11:50.764939Z"
    }
   },
   "outputs": [],
   "source": [
    "f = x**3 + x**2 + x + 1"
   ]
  },
  {
   "cell_type": "code",
   "execution_count": 13,
   "metadata": {
    "execution": {
     "iopub.execute_input": "2020-12-18T01:11:52.552442Z",
     "iopub.status.busy": "2020-12-18T01:11:52.552229Z",
     "iopub.status.idle": "2020-12-18T01:11:52.555982Z",
     "shell.execute_reply": "2020-12-18T01:11:52.555387Z",
     "shell.execute_reply.started": "2020-12-18T01:11:52.552420Z"
    }
   },
   "outputs": [
    {
     "data": {
      "text/plain": [
       "4"
      ]
     },
     "execution_count": 13,
     "metadata": {},
     "output_type": "execute_result"
    }
   ],
   "source": [
    "f"
   ]
  },
  {
   "cell_type": "code",
   "execution_count": 14,
   "metadata": {
    "execution": {
     "iopub.execute_input": "2020-12-18T01:14:33.212044Z",
     "iopub.status.busy": "2020-12-18T01:14:33.211829Z",
     "iopub.status.idle": "2020-12-18T01:14:33.215928Z",
     "shell.execute_reply": "2020-12-18T01:14:33.215373Z",
     "shell.execute_reply.started": "2020-12-18T01:14:33.212022Z"
    }
   },
   "outputs": [
    {
     "data": {
      "text/plain": [
       "<function eval(source, globals=None, locals=None, /)>"
      ]
     },
     "execution_count": 14,
     "metadata": {},
     "output_type": "execute_result"
    }
   ],
   "source": [
    "eval"
   ]
  },
  {
   "cell_type": "code",
   "execution_count": null,
   "metadata": {},
   "outputs": [],
   "source": []
  }
 ],
 "metadata": {
  "kernelspec": {
   "display_name": "Python 3",
   "language": "python",
   "name": "python3"
  },
  "language_info": {
   "codemirror_mode": {
    "name": "ipython",
    "version": 3
   },
   "file_extension": ".py",
   "mimetype": "text/x-python",
   "name": "python",
   "nbconvert_exporter": "python",
   "pygments_lexer": "ipython3",
   "version": "3.8.3"
  }
 },
 "nbformat": 4,
 "nbformat_minor": 4
}

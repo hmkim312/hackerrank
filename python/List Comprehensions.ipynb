{
 "cells": [
  {
   "cell_type": "markdown",
   "metadata": {},
   "source": [
    "Let's learn about list comprehensions! You are given three integers x, y and z representing the dimensions of a cuboid along with an integer n. Print a list of all possible coordinates given by (i,j,k) on a 3D grid where the sum of i + j + k is not equal to n. Here, 0 <= i <= x; 0 <= j <= y; 0 <= k <= z;. Please use list comprehensions rather than multiple loops, as a learning exercise.\n",
    "\n",
    "- Example\n",
    "    - x = 1\n",
    "    - y = 1\n",
    "    - z = 2\n",
    "    - n = 3\n",
    "\n",
    "All permutations of [i,j,k] are:\n",
    "[[0,0,0],[0,0,1],[0,0,2],[0,1,0],[0,1,1],[0,1,2],[1,0,0],[1,0,1],[1,0,2],[1,1,0],[1,1,1],[1,1,2]].\n",
    "\n",
    "Print an array of the elements that do not sum to n = 3.\n",
    "[[0,0,0],[0,0,1],[0,0,2],[0,1,0],[0,1,1],[1,0,0],[1,0,1],[1,1,0],[1,1,2]].\n",
    "\n",
    "- Input Format\n",
    "    - Four integers  x, y, z and n, each on a separate line.\n",
    "\n",
    "- Constraints\n",
    "    - Print the list in lexicographic increasing order."
   ]
  },
  {
   "cell_type": "markdown",
   "metadata": {},
   "source": [
    "#### 문제풀이\n",
    "- 무언가 list comprehensions으로 풀어야할것 같지만.. 배움이 아직 짧은듯 싶다.\n",
    "- i,j,k는 x,y,z보다 숫자가 작거나 같고, 그 원소들로 [i,j,k]의 리스트를 만들면 되니, for문으로 각각 append 시켜주는 코드를 생성하였다."
   ]
  },
  {
   "cell_type": "code",
   "execution_count": 12,
   "metadata": {
    "execution": {
     "iopub.execute_input": "2020-07-28T01:20:55.505430Z",
     "iopub.status.busy": "2020-07-28T01:20:55.505430Z",
     "iopub.status.idle": "2020-07-28T01:20:58.198811Z",
     "shell.execute_reply": "2020-07-28T01:20:58.197835Z",
     "shell.execute_reply.started": "2020-07-28T01:20:55.505430Z"
    }
   },
   "outputs": [
    {
     "name": "stdin",
     "output_type": "stream",
     "text": [
      " 1\n",
      " 1\n",
      " 2\n",
      " 3\n"
     ]
    }
   ],
   "source": [
    "if __name__ == '__main__':\n",
    "    x = int(input())\n",
    "    y = int(input())\n",
    "    z = int(input())\n",
    "    n = int(input())"
   ]
  },
  {
   "cell_type": "code",
   "execution_count": 37,
   "metadata": {
    "execution": {
     "iopub.execute_input": "2020-07-28T01:29:07.039042Z",
     "iopub.status.busy": "2020-07-28T01:29:07.039042Z",
     "iopub.status.idle": "2020-07-28T01:29:07.045875Z",
     "shell.execute_reply": "2020-07-28T01:29:07.044899Z",
     "shell.execute_reply.started": "2020-07-28T01:29:07.039042Z"
    }
   },
   "outputs": [],
   "source": [
    "total_ls = []\n",
    "ls = []\n",
    "for i in range(x+1):\n",
    "    for j in range(y+1):\n",
    "        for k in range(z+1):\n",
    "            ls.append(i)\n",
    "            ls.append(j)\n",
    "            ls.append(k)\n",
    "            if sum(ls) != n:\n",
    "                total_ls.append(ls)\n",
    "            ls = []"
   ]
  },
  {
   "cell_type": "code",
   "execution_count": 38,
   "metadata": {
    "execution": {
     "iopub.execute_input": "2020-07-28T01:29:07.422485Z",
     "iopub.status.busy": "2020-07-28T01:29:07.422485Z",
     "iopub.status.idle": "2020-07-28T01:29:07.430293Z",
     "shell.execute_reply": "2020-07-28T01:29:07.429316Z",
     "shell.execute_reply.started": "2020-07-28T01:29:07.422485Z"
    }
   },
   "outputs": [
    {
     "data": {
      "text/plain": [
       "[[0, 0, 0],\n",
       " [0, 0, 1],\n",
       " [0, 0, 2],\n",
       " [0, 1, 0],\n",
       " [0, 1, 1],\n",
       " [1, 0, 0],\n",
       " [1, 0, 1],\n",
       " [1, 1, 0],\n",
       " [1, 1, 2]]"
      ]
     },
     "execution_count": 38,
     "metadata": {},
     "output_type": "execute_result"
    }
   ],
   "source": [
    "total_ls"
   ]
  },
  {
   "cell_type": "code",
   "execution_count": null,
   "metadata": {},
   "outputs": [],
   "source": []
  }
 ],
 "metadata": {
  "kernelspec": {
   "display_name": "Python 3",
   "language": "python",
   "name": "python3"
  },
  "language_info": {
   "codemirror_mode": {
    "name": "ipython",
    "version": 3
   },
   "file_extension": ".py",
   "mimetype": "text/x-python",
   "name": "python",
   "nbconvert_exporter": "python",
   "pygments_lexer": "ipython3",
   "version": "3.7.6"
  }
 },
 "nbformat": 4,
 "nbformat_minor": 4
}

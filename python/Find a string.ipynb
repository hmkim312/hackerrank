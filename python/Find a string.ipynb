{
 "cells": [
  {
   "cell_type": "markdown",
   "metadata": {},
   "source": [
    "- In this challenge, the user enters a string and a substring. You have to print the number of times that the substring occurs in the given string. String traversal will take place from left to right, not from right to left.\n",
    "\n",
    "- NOTE: String letters are case-sensitive.\n",
    "\n",
    "- Input Format\n",
    "    - The first line of input contains the original string. The next line contains the substring.\n",
    "\n",
    "- Constraints\n",
    "    - 1 <= len(stirng) <= 200\n",
    "    - Each character in the string is an ascii character.\n",
    "\n",
    "- Output Format\n",
    "    - Output the integer number indicating the total number of occurrences of the substring in the original string."
   ]
  },
  {
   "cell_type": "markdown",
   "metadata": {},
   "source": [
    "#### 문제풀이\n",
    "- 첫번째 문자가 주어지고, 두번째 문자가 주어졌을때 첫번쨰 문자가 두번째 문자로 시작하는 횟수를 반환\n",
    "- python의 startswith는 문자열이 특정문자로 시작하는지 여부를 알려줌, 해당 함수를 이용하여 for문으로 코드 작성"
   ]
  },
  {
   "cell_type": "code",
   "execution_count": 17,
   "metadata": {
    "execution": {
     "iopub.execute_input": "2020-08-01T04:56:05.382397Z",
     "iopub.status.busy": "2020-08-01T04:56:05.381400Z",
     "iopub.status.idle": "2020-08-01T04:56:05.389372Z",
     "shell.execute_reply": "2020-08-01T04:56:05.388381Z",
     "shell.execute_reply.started": "2020-08-01T04:56:05.382397Z"
    }
   },
   "outputs": [],
   "source": [
    "a = 'ABCDCDC'"
   ]
  },
  {
   "cell_type": "code",
   "execution_count": 18,
   "metadata": {
    "execution": {
     "iopub.execute_input": "2020-08-01T04:56:05.390370Z",
     "iopub.status.busy": "2020-08-01T04:56:05.390370Z",
     "iopub.status.idle": "2020-08-01T04:56:05.395361Z",
     "shell.execute_reply": "2020-08-01T04:56:05.394360Z",
     "shell.execute_reply.started": "2020-08-01T04:56:05.390370Z"
    }
   },
   "outputs": [],
   "source": [
    "b = 'CDC'"
   ]
  },
  {
   "cell_type": "code",
   "execution_count": 19,
   "metadata": {
    "execution": {
     "iopub.execute_input": "2020-08-01T04:56:05.399356Z",
     "iopub.status.busy": "2020-08-01T04:56:05.398348Z",
     "iopub.status.idle": "2020-08-01T04:56:05.405327Z",
     "shell.execute_reply": "2020-08-01T04:56:05.404359Z",
     "shell.execute_reply.started": "2020-08-01T04:56:05.399356Z"
    }
   },
   "outputs": [
    {
     "name": "stdout",
     "output_type": "stream",
     "text": [
      "2\n"
     ]
    }
   ],
   "source": [
    "# startswith는 문자열이 특정문자로 시작하는지 여부를 알려준다\n",
    "\n",
    "def count_substring(string, sub_string):\n",
    "    count = 0\n",
    "    for i in range(0, len(string)):\n",
    "        if string[i:].startswith(sub_string):\n",
    "            count += 1\n",
    "    return count\n",
    "\n",
    "if __name__ == '__main__':\n",
    "    string = input().strip()\n",
    "    sub_string = input().strip()\n",
    "    \n",
    "    count = count_substring(string, sub_string)\n",
    "    print(count)"
   ]
  },
  {
   "cell_type": "code",
   "execution_count": null,
   "metadata": {},
   "outputs": [],
   "source": [
    "a[]"
   ]
  }
 ],
 "metadata": {
  "kernelspec": {
   "display_name": "Python 3",
   "language": "python",
   "name": "python3"
  },
  "language_info": {
   "codemirror_mode": {
    "name": "ipython",
    "version": 3
   },
   "file_extension": ".py",
   "mimetype": "text/x-python",
   "name": "python",
   "nbconvert_exporter": "python",
   "pygments_lexer": "ipython3",
   "version": "3.7.6"
  }
 },
 "nbformat": 4,
 "nbformat_minor": 4
}

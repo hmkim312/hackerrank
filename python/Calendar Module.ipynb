{
 "cells": [
  {
   "cell_type": "markdown",
   "metadata": {},
   "source": [
    "## Calendar Module"
   ]
  },
  {
   "cell_type": "markdown",
   "metadata": {},
   "source": [
    "- Url : <https://www.hackerrank.com/challenges/calendar-module/problem>{:target=\"_blank\"}"
   ]
  },
  {
   "cell_type": "markdown",
   "metadata": {},
   "source": [
    "The calendar module allows you to output calendars and provides additional useful functions for them.\n",
    "class calendar.TextCalendar([firstweekday])\n",
    "This class can be used to generate plain text calendars.\n",
    "\n",
    "- Sample Code\n",
    "```\n",
    ">>> import calendar\n",
    ">>> \n",
    ">>> print calendar.TextCalendar(firstweekday=6).formatyear(2015)\n",
    "                                  2015\n",
    "\n",
    "      January                   February                   March\n",
    "Su Mo Tu We Th Fr Sa      Su Mo Tu We Th Fr Sa      Su Mo Tu We Th Fr Sa\n",
    "             1  2  3       1  2  3  4  5  6  7       1  2  3  4  5  6  7\n",
    " 4  5  6  7  8  9 10       8  9 10 11 12 13 14       8  9 10 11 12 13 14\n",
    "11 12 13 14 15 16 17      15 16 17 18 19 20 21      15 16 17 18 19 20 21\n",
    "18 19 20 21 22 23 24      22 23 24 25 26 27 28      22 23 24 25 26 27 28\n",
    "25 26 27 28 29 30 31                                29 30 31\n",
    "\n",
    "       April                      May                       June\n",
    "Su Mo Tu We Th Fr Sa      Su Mo Tu We Th Fr Sa      Su Mo Tu We Th Fr Sa\n",
    "          1  2  3  4                      1  2          1  2  3  4  5  6\n",
    " 5  6  7  8  9 10 11       3  4  5  6  7  8  9       7  8  9 10 11 12 13\n",
    "12 13 14 15 16 17 18      10 11 12 13 14 15 16      14 15 16 17 18 19 20\n",
    "19 20 21 22 23 24 25      17 18 19 20 21 22 23      21 22 23 24 25 26 27\n",
    "26 27 28 29 30            24 25 26 27 28 29 30      28 29 30\n",
    "                          31\n",
    "\n",
    "        July                     August                  September\n",
    "Su Mo Tu We Th Fr Sa      Su Mo Tu We Th Fr Sa      Su Mo Tu We Th Fr Sa\n",
    "          1  2  3  4                         1             1  2  3  4  5\n",
    " 5  6  7  8  9 10 11       2  3  4  5  6  7  8       6  7  8  9 10 11 12\n",
    "12 13 14 15 16 17 18       9 10 11 12 13 14 15      13 14 15 16 17 18 19\n",
    "19 20 21 22 23 24 25      16 17 18 19 20 21 22      20 21 22 23 24 25 26\n",
    "26 27 28 29 30 31         23 24 25 26 27 28 29      27 28 29 30\n",
    "                          30 31\n",
    "\n",
    "      October                   November                  December\n",
    "Su Mo Tu We Th Fr Sa      Su Mo Tu We Th Fr Sa      Su Mo Tu We Th Fr Sa\n",
    "             1  2  3       1  2  3  4  5  6  7             1  2  3  4  5\n",
    " 4  5  6  7  8  9 10       8  9 10 11 12 13 14       6  7  8  9 10 11 12\n",
    "11 12 13 14 15 16 17      15 16 17 18 19 20 21      13 14 15 16 17 18 19\n",
    "18 19 20 21 22 23 24      22 23 24 25 26 27 28      20 21 22 23 24 25 26\n",
    "25 26 27 28 29 30 31      29 30                     27 28 29 30 31\n",
    "```\n",
    "\n",
    "\n",
    "- Task\n",
    "    - You are given a date. Your task is to find what the day is on that date.\n",
    "\n",
    "- Input Format\n",
    "\n",
    "    - A single line of input containing the space separated month, day and year, respectively, in MM/DD/YYYY format.\n",
    "\n",
    "- Constraints\n",
    "    - 2000 < year < 3000\n",
    "\n",
    "- Output Format\n",
    " - Output the correct day in capital letters."
   ]
  },
  {
   "cell_type": "markdown",
   "metadata": {},
   "source": [
    "#### 문제 해설\n",
    "- MM/DD/YEAR (08 05 2015)로 이루어진 데이터를 입력받으면 해당 날짜에 맞는 요일을 출력하라는것\n",
    "- 위의 예시에 있는 calendar는 import가 되지 않는다.\n",
    "- 다른 패키지인 datetime을 import 하여 month, day, year를 저장 후 weekdays라는 리스트에 미리 (월 ~ 일)을 저장한다.(datetime은 0이 월요일)\n",
    "- datetime.date(year, month, day)를 넣으면 날짜가 생성되고, weekday 메서드로 해당 날짜에 맞는 요일을 숫자 (0 ~ 6)로 리턴받아 weekdays에 맞는 요일을 출력하게 작성하면 끝"
   ]
  },
  {
   "cell_type": "code",
   "execution_count": 2,
   "metadata": {
    "execution": {
     "iopub.execute_input": "2020-12-17T08:45:30.630537Z",
     "iopub.status.busy": "2020-12-17T08:45:30.630321Z",
     "iopub.status.idle": "2020-12-17T08:45:37.337308Z",
     "shell.execute_reply": "2020-12-17T08:45:37.336683Z",
     "shell.execute_reply.started": "2020-12-17T08:45:30.630514Z"
    }
   },
   "outputs": [
    {
     "name": "stdin",
     "output_type": "stream",
     "text": [
      " 08 05 2015\n"
     ]
    },
    {
     "name": "stdout",
     "output_type": "stream",
     "text": [
      "WEDNESDAY\n"
     ]
    }
   ],
   "source": [
    "import datetime\n",
    "n = input()\n",
    "month = int(n[0:2])\n",
    "day = int(n[3:5])\n",
    "year = int(n[6:])\n",
    "weekdays = ['MONDAY', 'TUESDAY', 'WEDNESDAY', 'THURSDAY', 'FRIDAY', 'SATURDAY', 'SUNDAY']\n",
    "date = datetime.date(year, month, day)\n",
    "print(weekdays[date.weekday()])"
   ]
  }
 ],
 "metadata": {
  "kernelspec": {
   "display_name": "Python 3",
   "language": "python",
   "name": "python3"
  },
  "language_info": {
   "codemirror_mode": {
    "name": "ipython",
    "version": 3
   },
   "file_extension": ".py",
   "mimetype": "text/x-python",
   "name": "python",
   "nbconvert_exporter": "python",
   "pygments_lexer": "ipython3",
   "version": "3.8.3"
  }
 },
 "nbformat": 4,
 "nbformat_minor": 4
}

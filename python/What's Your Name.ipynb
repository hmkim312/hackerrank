{
 "cells": [
  {
   "cell_type": "markdown",
   "metadata": {},
   "source": [
    "- You are given the firstname and lastname of a person on two different lines. Your task is to read them and print the following:\n",
    "```python\n",
    "`Hello firstname lastname! You just delved into python.`\n",
    "```\n",
    "\n",
    "- Input Format\n",
    "    - The first line contains the first name, and the second line contains the last name.\n",
    "\n",
    "- Constraints\n",
    "    - The length of the first and last name ≤ 10.\n",
    "\n",
    "- Output Format\n",
    "    - Print the output as mentioned above."
   ]
  },
  {
   "cell_type": "markdown",
   "metadata": {},
   "source": [
    "#### 문제풀이\n",
    "- first_name과 last_name을 입력받아, print하는 문제\n",
    "- f.formatting을 사용하여 해결 끗"
   ]
  },
  {
   "cell_type": "code",
   "execution_count": null,
   "metadata": {},
   "outputs": [],
   "source": [
    "def print_full_name(a, b):\n",
    "    print(f'Hello {a} {b}! You just delved into python.')\n",
    "\n",
    "if __name__ == '__main__':\n",
    "    first_name = input()\n",
    "    last_name = input()\n",
    "    print_full_name(first_name, last_name)"
   ]
  },
  {
   "cell_type": "code",
   "execution_count": null,
   "metadata": {},
   "outputs": [],
   "source": []
  }
 ],
 "metadata": {
  "kernelspec": {
   "display_name": "Python 3",
   "language": "python",
   "name": "python3"
  },
  "language_info": {
   "codemirror_mode": {
    "name": "ipython",
    "version": 3
   },
   "file_extension": ".py",
   "mimetype": "text/x-python",
   "name": "python",
   "nbconvert_exporter": "python",
   "pygments_lexer": "ipython3",
   "version": "3.7.6"
  }
 },
 "nbformat": 4,
 "nbformat_minor": 4
}

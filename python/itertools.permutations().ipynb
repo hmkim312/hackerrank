{
 "cells": [
  {
   "cell_type": "markdown",
   "metadata": {},
   "source": [
    "- This tool returns successive r length permutations of elements in an iterable.\n",
    "- If r is not specified or is None, then r defaults to the length of the iterable, and all possible full length permutations are generated.\n",
    "- Permutations are printed in a lexicographic sorted order. So, if the input iterable is sorted, the permutation tuples will be produced in a sorted order.\n",
    "\n",
    "- Sample Code\n",
    "\n",
    "```python\n",
    ">>> from itertools import permutations\n",
    ">>> print permutations(['1','2','3'])\n",
    "<itertools.permutations object at 0x02A45210>\n",
    ">>> \n",
    ">>> print list(permutations(['1','2','3']))\n",
    "[('1', '2', '3'), ('1', '3', '2'), ('2', '1', '3'), ('2', '3', '1'), ('3', '1', '2'), ('3', '2', '1')]\n",
    ">>> \n",
    ">>> print list(permutations(['1','2','3'],2))\n",
    "[('1', '2'), ('1', '3'), ('2', '1'), ('2', '3'), ('3', '1'), ('3', '2')]\n",
    ">>>\n",
    ">>> print list(permutations('abc',3))\n",
    "[('a', 'b', 'c'), ('a', 'c', 'b'), ('b', 'a', 'c'), ('b', 'c', 'a'), ('c', 'a', 'b'), ('c', 'b', 'a')]\n",
    "```\n",
    "\n",
    "- Task\n",
    "    - You are given a string S.\n",
    "    - Your task is to print all possible permutations of size k of the string in lexicographic sorted order.\n",
    "\n",
    "- Input Format\n",
    "    - A single line containing the space separated string s and the integer value k.\n",
    "\n",
    "- Constraints\n",
    "    - 0 < k <= len(s)\n",
    "    - The string contains only UPPERCASE characters.\n",
    "\n",
    "- Output Format\n",
    "    - Print the permutations of the string S on separate lines."
   ]
  },
  {
   "cell_type": "markdown",
   "metadata": {},
   "source": [
    "#### 문제풀이\n",
    "- 단어s와 반복될 숫자n이 주어지면, 해당 단어를 n개의 조합으로 만들어서 출력하면됨\n",
    "- n개의 조합은 itertools의 permutations를 사용하면 됨\n",
    "- for문으로 해당 조합을 하나하나 뽑고, join을 이용하여 합침,\n",
    "- 대신 s는 정렬이 되어있어야 해서 s를 sorted 시킨것을 출력함"
   ]
  },
  {
   "cell_type": "code",
   "execution_count": 16,
   "metadata": {
    "execution": {
     "iopub.execute_input": "2020-08-07T01:51:47.341444Z",
     "iopub.status.busy": "2020-08-07T01:51:47.341444Z",
     "iopub.status.idle": "2020-08-07T01:51:49.653184Z",
     "shell.execute_reply": "2020-08-07T01:51:49.652213Z",
     "shell.execute_reply.started": "2020-08-07T01:51:47.341444Z"
    }
   },
   "outputs": [
    {
     "name": "stdin",
     "output_type": "stream",
     "text": [
      " HACK 2\n"
     ]
    },
    {
     "name": "stdout",
     "output_type": "stream",
     "text": [
      "AC\n",
      "AH\n",
      "AK\n",
      "CA\n",
      "CH\n",
      "CK\n",
      "HA\n",
      "HC\n",
      "HK\n",
      "KA\n",
      "KC\n",
      "KH\n"
     ]
    }
   ],
   "source": [
    "from itertools import permutations\n",
    "s , n = input().split()\n",
    "\n",
    "for i in list(permutations(sorted(s),int(n))):\n",
    "    print(''.join(i))"
   ]
  },
  {
   "cell_type": "code",
   "execution_count": 8,
   "metadata": {
    "execution": {
     "iopub.execute_input": "2020-08-07T01:49:56.362579Z",
     "iopub.status.busy": "2020-08-07T01:49:56.362579Z",
     "iopub.status.idle": "2020-08-07T01:49:56.368435Z",
     "shell.execute_reply": "2020-08-07T01:49:56.368435Z",
     "shell.execute_reply.started": "2020-08-07T01:49:56.362579Z"
    }
   },
   "outputs": [
    {
     "data": {
      "text/plain": [
       "<map at 0x1c97d3d2808>"
      ]
     },
     "execution_count": 8,
     "metadata": {},
     "output_type": "execute_result"
    }
   ],
   "source": [
    "map(list,(permutations(s,int(i)))"
   ]
  },
  {
   "cell_type": "code",
   "execution_count": null,
   "metadata": {},
   "outputs": [],
   "source": []
  }
 ],
 "metadata": {
  "kernelspec": {
   "display_name": "Python 3",
   "language": "python",
   "name": "python3"
  },
  "language_info": {
   "codemirror_mode": {
    "name": "ipython",
    "version": 3
   },
   "file_extension": ".py",
   "mimetype": "text/x-python",
   "name": "python",
   "nbconvert_exporter": "python",
   "pygments_lexer": "ipython3",
   "version": "3.7.6"
  }
 },
 "nbformat": 4,
 "nbformat_minor": 4
}

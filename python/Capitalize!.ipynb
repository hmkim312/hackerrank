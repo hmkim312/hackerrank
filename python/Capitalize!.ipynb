{
 "cells": [
  {
   "cell_type": "markdown",
   "metadata": {},
   "source": [
    "- You are asked to ensure that the first and last names of people begin with a capital letter in their passports. For example, alison heck should be capitalised correctly as Alison Heck.\n",
    "    - alison heck => Alison Heck\n",
    "    - Given a full name, your task is to capitalize the name appropriately.\n",
    "\n",
    "- Input Format\n",
    "    - A single line of input containing the full name, S.\n",
    "\n",
    "- Constraints\n",
    "    - 0 < len(S) < 1000\n",
    "    - The string consists of alphanumeric characters and spaces.\n",
    "- Note: in a word only the first character is capitalized. Example 12abc when capitalized remains 12abc.\n",
    "\n",
    "- Output Format\n",
    "    - Print the capitalized string, ."
   ]
  },
  {
   "cell_type": "markdown",
   "metadata": {},
   "source": [
    "#### 문제 풀이\n",
    "- 주어진 s에 대해 공백뒤에 있는 소문자를 대문자로 바꾸기\n",
    "- 주어진 s를 split 함수를 통해 공백(' ')으로 나눈뒤, for문을 통해 해당 문자를 하나하나 앞에만 대문자로 만드는 capitalize()함수를 사용 한뒤 빈 리스트에 넣는다\n",
    "- 사실 s.title()을 쓰면 되기는하는데, 이거는 앞에 숫자나 특수문자가 있으면 그 뒤에있는 소문자가 대문자로 변경되기 때문에 이번 문제에선 사용하기 힘들었음"
   ]
  },
  {
   "cell_type": "code",
   "execution_count": 38,
   "metadata": {
    "execution": {
     "iopub.execute_input": "2020-08-05T11:23:58.952763Z",
     "iopub.status.busy": "2020-08-05T11:23:58.951788Z",
     "iopub.status.idle": "2020-08-05T11:23:58.957643Z",
     "shell.execute_reply": "2020-08-05T11:23:58.956667Z",
     "shell.execute_reply.started": "2020-08-05T11:23:58.952763Z"
    }
   },
   "outputs": [],
   "source": [
    "def solve(s):\n",
    "    ls = []\n",
    "    k = s.split(' ')\n",
    "    for i in k:\n",
    "        ls.append(i.capitalize())\n",
    "    return ' '.join(ls)"
   ]
  },
  {
   "cell_type": "code",
   "execution_count": 41,
   "metadata": {
    "execution": {
     "iopub.execute_input": "2020-08-05T11:24:48.731938Z",
     "iopub.status.busy": "2020-08-05T11:24:48.731938Z",
     "iopub.status.idle": "2020-08-05T11:24:48.740725Z",
     "shell.execute_reply": "2020-08-05T11:24:48.739749Z",
     "shell.execute_reply.started": "2020-08-05T11:24:48.731938Z"
    }
   },
   "outputs": [
    {
     "data": {
      "text/plain": [
       "'Hello World'"
      ]
     },
     "execution_count": 41,
     "metadata": {},
     "output_type": "execute_result"
    }
   ],
   "source": [
    "s = 'hello world'\n",
    "solve(s)"
   ]
  },
  {
   "cell_type": "code",
   "execution_count": null,
   "metadata": {},
   "outputs": [],
   "source": []
  }
 ],
 "metadata": {
  "kernelspec": {
   "display_name": "Python 3",
   "language": "python",
   "name": "python3"
  },
  "language_info": {
   "codemirror_mode": {
    "name": "ipython",
    "version": 3
   },
   "file_extension": ".py",
   "mimetype": "text/x-python",
   "name": "python",
   "nbconvert_exporter": "python",
   "pygments_lexer": "ipython3",
   "version": "3.7.6"
  }
 },
 "nbformat": 4,
 "nbformat_minor": 4
}

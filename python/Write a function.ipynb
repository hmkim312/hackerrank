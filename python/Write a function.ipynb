{
 "cells": [
  {
   "cell_type": "markdown",
   "metadata": {},
   "source": [
    "- An extra day is added to the calendar almost every four years as February 29, and the day is called a leap day. It corrects the calendar for the fact that our planet takes approximately 365.25 days to orbit the sun. A leap year contains a leap day.\n",
    "\n",
    "- In the Gregorian calendar, three conditions are used to identify leap years:\n",
    "    - The year can be evenly divided by 4, is a leap year, unless:\n",
    "        - The year can be evenly divided by 100, it is NOT a leap year, unless:\n",
    "            - The year is also evenly divisible by 400. Then it is a leap year.\n",
    "- This means that in the Gregorian calendar, the years 2000 and 2400 are leap years, while 1800, 1900, 2100, 2200, 2300 and 2500 are NOT leap years. Source\n",
    "\n",
    "- Task\n",
    "    - Given a year, determine whether it is a leap year. If it is a leap year, return the Boolean True, otherwise return False.\n",
    "    \n",
    "- Note that the code stub provided reads from STDIN and passes arguments to the is_leap function. It is only necessary to complete the is_leap function.\n",
    "\n",
    "- Input Format\n",
    "    - Read year, the year to test.\n",
    "\n",
    "- Constraints\n",
    "    - 1900 <= year <= 10^5\n",
    "\n",
    "- Output Format\n",
    "    - The function must return a Boolean value (True/False). Output is handled by the provided code stub."
   ]
  },
  {
   "cell_type": "markdown",
   "metadata": {},
   "source": [
    "#### 문제풀이\n",
    "- 윤년인지 확인하는 함수 작성\n",
    "- 윤년은 4년마다 한번씩 오지만, 100년단위로 끊어지면 (ex 1900)은 윤년이 아님.\n",
    "- 하지만 100년 단위 중에서 400년 마다 1번씩 윤년임\n",
    "- 아래의 조건들을 순차적으로 하나씩 필터링 하게 하는 함수를 만듬\n",
    "    - year를 400으로 나누어 0이 되면 윤년\n",
    "    - year를 100으로 나누어 0이 되면 윤년이 아님\n",
    "    - year를 4로 나누어 0이되면 윤년\n",
    "    - 위의 조건이 모두 맞지않으면 윤년이 아님"
   ]
  },
  {
   "cell_type": "code",
   "execution_count": 5,
   "metadata": {
    "execution": {
     "iopub.execute_input": "2020-07-29T00:43:53.513698Z",
     "iopub.status.busy": "2020-07-29T00:43:53.513698Z",
     "iopub.status.idle": "2020-07-29T00:43:54.865677Z",
     "shell.execute_reply": "2020-07-29T00:43:54.863684Z",
     "shell.execute_reply.started": "2020-07-29T00:43:53.513698Z"
    }
   },
   "outputs": [
    {
     "name": "stdin",
     "output_type": "stream",
     "text": [
      " 1994\n"
     ]
    },
    {
     "name": "stdout",
     "output_type": "stream",
     "text": [
      "False\n"
     ]
    }
   ],
   "source": [
    "def is_leap(year):\n",
    "    leap = False\n",
    "\n",
    "    # Write your logic here\n",
    "    if year % 400 == 0:\n",
    "        leap = True\n",
    "\n",
    "    elif year % 100 == 0:\n",
    "        leap = False\n",
    "\n",
    "    elif year % 4 == 0:\n",
    "        leap = True\n",
    "\n",
    "    return leap\n",
    "\n",
    "\n",
    "year = int(input())\n",
    "print(is_leap(year))"
   ]
  },
  {
   "cell_type": "code",
   "execution_count": null,
   "metadata": {},
   "outputs": [],
   "source": []
  }
 ],
 "metadata": {
  "kernelspec": {
   "display_name": "Python 3",
   "language": "python",
   "name": "python3"
  },
  "language_info": {
   "codemirror_mode": {
    "name": "ipython",
    "version": 3
   },
   "file_extension": ".py",
   "mimetype": "text/x-python",
   "name": "python",
   "nbconvert_exporter": "python",
   "pygments_lexer": "ipython3",
   "version": "3.7.6"
  }
 },
 "nbformat": 4,
 "nbformat_minor": 4
}

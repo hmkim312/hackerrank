{
 "cells": [
  {
   "cell_type": "markdown",
   "metadata": {},
   "source": [
    "- Given the participants' score sheet for your University Sports Day, you are required to find the runner-up score. You are given  scores. Store them in a list and find the score of the runner-up.\n",
    "\n",
    "- Input Format\n",
    "    - The first line contains n. The second line contains an array A[] of n integers each separated by a space.\n",
    "\n",
    "- Constraints\n",
    "    - 2 <= n <= 10\n",
    "    - -100 <= A[i] <= 100\n",
    "\n",
    "- Output Format\n",
    "    - Print the runner-up score."
   ]
  },
  {
   "cell_type": "markdown",
   "metadata": {},
   "source": [
    "#### 문제 풀이\n",
    "- 주어진 배열에서 준우승을 출력하는것\n",
    "- 배열을 set으로 중복제거 후 sort로 정렬하여 맨뒤에 하나를(최고점수) pop으로 제거 후 마지막것을 출력  "
   ]
  },
  {
   "cell_type": "code",
   "execution_count": 17,
   "metadata": {
    "execution": {
     "iopub.execute_input": "2020-07-29T23:36:35.222475Z",
     "iopub.status.busy": "2020-07-29T23:36:35.221461Z",
     "iopub.status.idle": "2020-07-29T23:36:35.231435Z",
     "shell.execute_reply": "2020-07-29T23:36:35.230455Z",
     "shell.execute_reply.started": "2020-07-29T23:36:35.222475Z"
    }
   },
   "outputs": [
    {
     "data": {
      "text/plain": [
       "5"
      ]
     },
     "execution_count": 17,
     "metadata": {},
     "output_type": "execute_result"
    }
   ],
   "source": [
    "if __name__ == '__main__':\n",
    "    n = int(input())\n",
    "    arr = map(int, input().split())\n",
    "    arr = list(arr)\n",
    "    ls= list(set(arr))\n",
    "    ls.sort()\n",
    "    ls.pop()\n",
    "    print(ls[-1])"
   ]
  },
  {
   "cell_type": "code",
   "execution_count": null,
   "metadata": {},
   "outputs": [],
   "source": []
  }
 ],
 "metadata": {
  "kernelspec": {
   "display_name": "Python 3",
   "language": "python",
   "name": "python3"
  },
  "language_info": {
   "codemirror_mode": {
    "name": "ipython",
    "version": 3
   },
   "file_extension": ".py",
   "mimetype": "text/x-python",
   "name": "python",
   "nbconvert_exporter": "python",
   "pygments_lexer": "ipython3",
   "version": "3.7.6"
  }
 },
 "nbformat": 4,
 "nbformat_minor": 4
}

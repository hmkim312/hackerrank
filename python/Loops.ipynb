{
 "cells": [
  {
   "cell_type": "markdown",
   "metadata": {},
   "source": [
    "- Task\n",
    "    - The provided code stub reads and integer, n, from STDIN. For all non-negative integers i < n, print i^2.\n",
    "\n",
    "- Example\n",
    "    - n = 3\n",
    "    - The list of non-negative integers that are less than n = 3 is [0,1,2]. Print the square of each number on a separate line.\n",
    "```python\n",
    "0\n",
    "1\n",
    "4\n",
    "```\n",
    "\n",
    "- Input Format\n",
    "    - The first and only line contains the integer, n.\n",
    "\n",
    "- Constraints\n",
    "    - 1 <= n <= 20\n",
    "\n",
    "- Output Format\n",
    "    - Print n lines, one corresponding to each i."
   ]
  },
  {
   "cell_type": "markdown",
   "metadata": {},
   "source": [
    "#### 문제풀이\n",
    "- n이 주어지면 0부터 n까지의 리스트를 만들고, 해당 원소들의 제곱을 프린트하는 코드를 작성\n",
    "- 그냥 for문으로 돌리고, i는 제곱한것을 프린트하면된다. 매우 easy"
   ]
  },
  {
   "cell_type": "code",
   "execution_count": 1,
   "metadata": {
    "execution": {
     "iopub.execute_input": "2020-07-29T00:30:44.499393Z",
     "iopub.status.busy": "2020-07-29T00:30:44.499393Z",
     "iopub.status.idle": "2020-07-29T00:30:45.312220Z",
     "shell.execute_reply": "2020-07-29T00:30:45.312220Z",
     "shell.execute_reply.started": "2020-07-29T00:30:44.499393Z"
    }
   },
   "outputs": [
    {
     "name": "stdin",
     "output_type": "stream",
     "text": [
      " 5\n"
     ]
    }
   ],
   "source": [
    "if __name__ == '__main__':\n",
    "    n = int(input())\n",
    "    for i in range(n):\n",
    "        print(i ** 2)"
   ]
  },
  {
   "cell_type": "code",
   "execution_count": null,
   "metadata": {},
   "outputs": [],
   "source": []
  }
 ],
 "metadata": {
  "kernelspec": {
   "display_name": "Python 3",
   "language": "python",
   "name": "python3"
  },
  "language_info": {
   "codemirror_mode": {
    "name": "ipython",
    "version": 3
   },
   "file_extension": ".py",
   "mimetype": "text/x-python",
   "name": "python",
   "nbconvert_exporter": "python",
   "pygments_lexer": "ipython3",
   "version": "3.7.6"
  }
 },
 "nbformat": 4,
 "nbformat_minor": 4
}

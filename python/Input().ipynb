{
 "cells": [
  {
   "cell_type": "markdown",
   "metadata": {},
   "source": [
    "## input()"
   ]
  },
  {
   "cell_type": "markdown",
   "metadata": {},
   "source": [
    "URL : <https://www.hackerrank.com/challenges/input/problem>{:target=\"_blank\"}\n",
    "\n",
    "\n",
    "\n",
    "- Code\n",
    "```\n",
    ">>> input()  \n",
    "1+2\n",
    "3\n",
    ">>> company = 'HackerRank'\n",
    ">>> website = 'www.hackerrank.com'\n",
    ">>> input()\n",
    "'The company name: '+company+' and website: '+website\n",
    "'The company name: HackerRank and website: www.hackerrank.com'\n",
    "```\n",
    "\n",
    "- Task\n",
    "    - You are given a polynomial P of a single indeterminate (or variable), x.\n",
    "    - You are also given the values of x and k. Your task is to verify if P(x) = k.\n",
    "\n",
    "- Constraints\n",
    "    - All coefficients of polynomial P are integers.\n",
    "    - x and y are also integers.\n",
    "\n",
    "- Input Format\n",
    "\n",
    "    - The first line contains the space separated values of x and k.\n",
    "    - The second line contains the polynomial P.\n",
    "\n",
    "- Output Format\n",
    "    - Print True if P(x) = k. Otherwise, print False."
   ]
  },
  {
   "cell_type": "markdown",
   "metadata": {},
   "source": [
    "#### 문제 해설\n",
    "- input을 사용하여 2가지의 입력을 받습니다.\n",
    "- 첫번째 input은 는 x와 다항식의 정답으로 예측되는 k\n",
    "- 두번째 input은 다항식 입니다.\n",
    "- 다항식 p를 입력받고 x를 적용시켜 나오는 정닶과 예측된 k값이 일치하면 true, 아니면 false를 출력하면 됩니다.\n",
    "- 첫번째 input은 한줄로 들어오기 때문에 공백으로 split해준뒤 int형으로 변환합니다.\n",
    "- 두번째 다항식은 그대로 input 받은 뒤 python에 eval함수를 통해 다항식에 x를 대입하여 결과를 출력하면 됩니다."
   ]
  },
  {
   "cell_type": "code",
   "execution_count": 7,
   "metadata": {
    "execution": {
     "iopub.execute_input": "2020-12-18T01:25:27.739516Z",
     "iopub.status.busy": "2020-12-18T01:25:27.739302Z",
     "iopub.status.idle": "2020-12-18T01:25:30.398754Z",
     "shell.execute_reply": "2020-12-18T01:25:30.398048Z",
     "shell.execute_reply.started": "2020-12-18T01:25:27.739493Z"
    }
   },
   "outputs": [
    {
     "name": "stdin",
     "output_type": "stream",
     "text": [
      " 1 4\n",
      " x**3 + x**2 + x + 1\n"
     ]
    },
    {
     "name": "stdout",
     "output_type": "stream",
     "text": [
      "True\n"
     ]
    }
   ],
   "source": [
    "x,k=map(int, input().split())\n",
    "p = input()\n",
    "print(k==eval(p))"
   ]
  }
 ],
 "metadata": {
  "kernelspec": {
   "display_name": "Python 3",
   "language": "python",
   "name": "python3"
  },
  "language_info": {
   "codemirror_mode": {
    "name": "ipython",
    "version": 3
   },
   "file_extension": ".py",
   "mimetype": "text/x-python",
   "name": "python",
   "nbconvert_exporter": "python",
   "pygments_lexer": "ipython3",
   "version": "3.8.3"
  }
 },
 "nbformat": 4,
 "nbformat_minor": 4
}

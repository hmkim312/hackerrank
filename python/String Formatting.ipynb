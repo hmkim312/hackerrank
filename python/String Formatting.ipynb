{
 "cells": [
  {
   "cell_type": "markdown",
   "metadata": {},
   "source": [
    "- Given an integer, n, print the following values for each integer i from 1 to n:\n",
    "    - 1. Decimal\n",
    "    - 2. Octal\n",
    "    - 3. Hexadecimal (capitalized)\n",
    "    - 4. Binary\n",
    "\n",
    "- The four values must be printed on a single line in the order specified above for each i from 1 to n. Each value should be space-padded to match the width of the binary value of n.\n",
    "\n",
    "- Input Format\n",
    "    - A single integer denoting .\n",
    "\n",
    "- Constraints\n",
    "    - 1 <= n <= 99\n",
    "    \n",
    "- Output Format\n",
    "    - Print n lines where each line i (in the range 1 <= i <= n) contains the respective decimal, octal, capitalized hexadecimal, and binary values of . Each printed value must be formatted to the width of the binary value of n."
   ]
  },
  {
   "cell_type": "markdown",
   "metadata": {},
   "source": [
    "#### 문제풀이\n",
    "- 주어진 n에 대하여 1 ~ n까지 10진법, 8진법, 2진법, 16진법으로 각각 순서대로 출력하여, 각 공객은 n의 17진수의 길이(len)만큼 띄움\n",
    "- format함수를 사용하여 숫자들을 바꾸고, 공백은 format함수로 변환 후 rjust로 주었다."
   ]
  },
  {
   "cell_type": "code",
   "execution_count": 69,
   "metadata": {
    "execution": {
     "iopub.execute_input": "2020-08-04T03:44:15.337801Z",
     "iopub.status.busy": "2020-08-04T03:44:15.337801Z",
     "iopub.status.idle": "2020-08-04T03:44:17.205007Z",
     "shell.execute_reply": "2020-08-04T03:44:17.204058Z",
     "shell.execute_reply.started": "2020-08-04T03:44:15.337801Z"
    }
   },
   "outputs": [
    {
     "name": "stdin",
     "output_type": "stream",
     "text": [
      " 17\n"
     ]
    },
    {
     "name": "stdout",
     "output_type": "stream",
     "text": [
      "    1     1     1     1\n",
      "    2     2     2    10\n",
      "    3     3     3    11\n",
      "    4     4     4   100\n",
      "    5     5     5   101\n",
      "    6     6     6   110\n",
      "    7     7     7   111\n",
      "    8    10     8  1000\n",
      "    9    11     9  1001\n",
      "   10    12     A  1010\n",
      "   11    13     B  1011\n",
      "   12    14     C  1100\n",
      "   13    15     D  1101\n",
      "   14    16     E  1110\n",
      "   15    17     F  1111\n",
      "   16    20    10 10000\n",
      "   17    21    11 10001\n"
     ]
    }
   ],
   "source": [
    "def print_formatted(number):\n",
    "    w = len(format(number, 'b'))\n",
    "    for i in range(1, number+1):\n",
    "        print(str(i).rjust(w,' '), format(i, 'o').rjust(w,' '), format(i, 'x').rjust(w,' ').upper(), format(i, 'b').rjust(w,' '))\n",
    "        \n",
    "if __name__ == '__main__':\n",
    "    n = int(input())\n",
    "    print_formatted(n)"
   ]
  },
  {
   "cell_type": "code",
   "execution_count": 68,
   "metadata": {
    "execution": {
     "iopub.execute_input": "2020-08-04T03:25:25.501131Z",
     "iopub.status.busy": "2020-08-04T03:25:25.501131Z",
     "iopub.status.idle": "2020-08-04T03:25:25.509916Z",
     "shell.execute_reply": "2020-08-04T03:25:25.508940Z",
     "shell.execute_reply.started": "2020-08-04T03:25:25.501131Z"
    }
   },
   "outputs": [
    {
     "name": "stdout",
     "output_type": "stream",
     "text": [
      "    1     1     1     1\n",
      "    2     2     2    10\n",
      "    3     3     3    11\n",
      "    4     4     4   100\n",
      "    5     5     5   101\n",
      "    6     6     6   110\n",
      "    7     7     7   111\n",
      "    8    10     8  1000\n",
      "    9    11     9  1001\n",
      "   10    12     A  1010\n",
      "   11    13     B  1011\n",
      "   12    14     C  1100\n",
      "   13    15     D  1101\n",
      "   14    16     E  1110\n",
      "   15    17     F  1111\n",
      "   16    20    10 10000\n",
      "   17    21    11 10001\n"
     ]
    }
   ],
   "source": [
    "print_formatted(17)"
   ]
  },
  {
   "cell_type": "code",
   "execution_count": 34,
   "metadata": {
    "execution": {
     "iopub.execute_input": "2020-08-04T03:13:58.052924Z",
     "iopub.status.busy": "2020-08-04T03:13:58.052924Z",
     "iopub.status.idle": "2020-08-04T03:13:58.057805Z",
     "shell.execute_reply": "2020-08-04T03:13:58.056830Z",
     "shell.execute_reply.started": "2020-08-04T03:13:58.052924Z"
    }
   },
   "outputs": [],
   "source": [
    "number = 17"
   ]
  },
  {
   "cell_type": "code",
   "execution_count": 49,
   "metadata": {
    "execution": {
     "iopub.execute_input": "2020-08-04T03:21:35.230700Z",
     "iopub.status.busy": "2020-08-04T03:21:35.230700Z",
     "iopub.status.idle": "2020-08-04T03:21:35.248268Z",
     "shell.execute_reply": "2020-08-04T03:21:35.247296Z",
     "shell.execute_reply.started": "2020-08-04T03:21:35.230700Z"
    }
   },
   "outputs": [
    {
     "ename": "TypeError",
     "evalue": "'str' object cannot be interpreted as an integer",
     "output_type": "error",
     "traceback": [
      "\u001b[1;31m---------------------------------------------------------------------------\u001b[0m",
      "\u001b[1;31mTypeError\u001b[0m                                 Traceback (most recent call last)",
      "\u001b[1;32m<ipython-input-49-525c88a013e8>\u001b[0m in \u001b[0;36m<module>\u001b[1;34m\u001b[0m\n\u001b[1;32m----> 1\u001b[1;33m \u001b[0mstr\u001b[0m\u001b[1;33m(\u001b[0m\u001b[1;36m17\u001b[0m\u001b[1;33m)\u001b[0m\u001b[1;33m.\u001b[0m\u001b[0mrjust\u001b[0m\u001b[1;33m(\u001b[0m\u001b[0mw\u001b[0m\u001b[1;33m,\u001b[0m\u001b[1;34m' '\u001b[0m\u001b[1;33m)\u001b[0m\u001b[1;33m\u001b[0m\u001b[1;33m\u001b[0m\u001b[0m\n\u001b[0m",
      "\u001b[1;31mTypeError\u001b[0m: 'str' object cannot be interpreted as an integer"
     ]
    }
   ],
   "source": [
    "str(17).rjust(w,' ')"
   ]
  },
  {
   "cell_type": "code",
   "execution_count": 24,
   "metadata": {
    "execution": {
     "iopub.execute_input": "2020-08-04T02:54:45.475855Z",
     "iopub.status.busy": "2020-08-04T02:54:45.475855Z",
     "iopub.status.idle": "2020-08-04T02:54:45.483667Z",
     "shell.execute_reply": "2020-08-04T02:54:45.482688Z",
     "shell.execute_reply.started": "2020-08-04T02:54:45.475855Z"
    }
   },
   "outputs": [
    {
     "data": {
      "text/plain": [
       "'10001'"
      ]
     },
     "execution_count": 24,
     "metadata": {},
     "output_type": "execute_result"
    }
   ],
   "source": [
    "format(17, 'b')"
   ]
  },
  {
   "cell_type": "code",
   "execution_count": 26,
   "metadata": {
    "execution": {
     "iopub.execute_input": "2020-08-04T02:56:33.242461Z",
     "iopub.status.busy": "2020-08-04T02:56:33.242461Z",
     "iopub.status.idle": "2020-08-04T02:56:33.249292Z",
     "shell.execute_reply": "2020-08-04T02:56:33.248317Z",
     "shell.execute_reply.started": "2020-08-04T02:56:33.242461Z"
    }
   },
   "outputs": [
    {
     "name": "stdout",
     "output_type": "stream",
     "text": [
      "10001\n"
     ]
    }
   ],
   "source": [
    "print(format(17, 'b'),sep = len(format(17, 'b')) * ' ')"
   ]
  },
  {
   "cell_type": "code",
   "execution_count": 50,
   "metadata": {
    "execution": {
     "iopub.execute_input": "2020-08-04T03:22:15.844785Z",
     "iopub.status.busy": "2020-08-04T03:22:15.844785Z",
     "iopub.status.idle": "2020-08-04T03:22:15.850647Z",
     "shell.execute_reply": "2020-08-04T03:22:15.849664Z",
     "shell.execute_reply.started": "2020-08-04T03:22:15.844785Z"
    }
   },
   "outputs": [],
   "source": [
    "w = len(str(bin(number)).replace('0b',''))\n",
    "d = str(17).rjust(w,' ')"
   ]
  },
  {
   "cell_type": "code",
   "execution_count": 59,
   "metadata": {
    "execution": {
     "iopub.execute_input": "2020-08-04T03:24:33.849776Z",
     "iopub.status.busy": "2020-08-04T03:24:33.849776Z",
     "iopub.status.idle": "2020-08-04T03:24:33.855633Z",
     "shell.execute_reply": "2020-08-04T03:24:33.855633Z",
     "shell.execute_reply.started": "2020-08-04T03:24:33.849776Z"
    }
   },
   "outputs": [
    {
     "data": {
      "text/plain": [
       "str"
      ]
     },
     "execution_count": 59,
     "metadata": {},
     "output_type": "execute_result"
    }
   ],
   "source": [
    "type(bin(number))"
   ]
  },
  {
   "cell_type": "code",
   "execution_count": 61,
   "metadata": {
    "execution": {
     "iopub.execute_input": "2020-08-04T03:24:43.241774Z",
     "iopub.status.busy": "2020-08-04T03:24:43.241774Z",
     "iopub.status.idle": "2020-08-04T03:24:43.247631Z",
     "shell.execute_reply": "2020-08-04T03:24:43.246674Z",
     "shell.execute_reply.started": "2020-08-04T03:24:43.241774Z"
    }
   },
   "outputs": [
    {
     "data": {
      "text/plain": [
       "'10001'"
      ]
     },
     "execution_count": 61,
     "metadata": {},
     "output_type": "execute_result"
    }
   ],
   "source": [
    "format(number, 'b')"
   ]
  },
  {
   "cell_type": "code",
   "execution_count": 62,
   "metadata": {
    "execution": {
     "iopub.execute_input": "2020-08-04T03:24:53.532215Z",
     "iopub.status.busy": "2020-08-04T03:24:53.532215Z",
     "iopub.status.idle": "2020-08-04T03:24:53.538077Z",
     "shell.execute_reply": "2020-08-04T03:24:53.537099Z",
     "shell.execute_reply.started": "2020-08-04T03:24:53.532215Z"
    }
   },
   "outputs": [],
   "source": []
  },
  {
   "cell_type": "code",
   "execution_count": null,
   "metadata": {},
   "outputs": [],
   "source": []
  }
 ],
 "metadata": {
  "kernelspec": {
   "display_name": "Python 3",
   "language": "python",
   "name": "python3"
  },
  "language_info": {
   "codemirror_mode": {
    "name": "ipython",
    "version": 3
   },
   "file_extension": ".py",
   "mimetype": "text/x-python",
   "name": "python",
   "nbconvert_exporter": "python",
   "pygments_lexer": "ipython3",
   "version": "3.7.6"
  }
 },
 "nbformat": 4,
 "nbformat_minor": 4
}

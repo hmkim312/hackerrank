{
 "cells": [
  {
   "cell_type": "markdown",
   "metadata": {},
   "source": [
    "- Consider a list (list = []). You can perform the following commands:\n",
    "    - insert i e: Insert integer e at position i.\n",
    "    - print: Print the list.\n",
    "    - remove e: Delete the first occurrence of integer e.\n",
    "    - append e: Insert integer e at the end of the list.\n",
    "    - sort: Sort the list.\n",
    "    - pop: Pop the last element from the list.\n",
    "    - reverse: Reverse the list.\n",
    "\n",
    "- Initialize your list and read in the value of n followed by n lines of commands where each command will be of the 7 types listed above. Iterate through each command in order and perform the corresponding operation on your list.\n",
    "\n",
    "- Example\n",
    "    - N = 4\n",
    "    - append 1\n",
    "    - append 2\n",
    "    - insert 3 1\n",
    "    - print\n",
    "        - append 1: Append 1 to the list, arr = [1].\n",
    "        - append 2: Append 2 to the list, arr = [1,2].\n",
    "        - insert 3 1: Insert 3 at index 1, arr = [1,3,2].\n",
    "        - print : Print the array.\n",
    "- Output:\n",
    "```\n",
    "[1, 3, 2]\n",
    "```\n",
    "\n",
    "- Input Format\n",
    "    - The first line contains an integer, n, denoting the number of commands.\n",
    "    - Each line i of the n subsequent lines contains one of the commands described above.\n",
    "\n",
    "- Constraints\n",
    "    - The elements added to the list must be integers.\n",
    "    \n",
    "- Output Format\n",
    "    - For each command of type print, print the list on a new line."
   ]
  },
  {
   "cell_type": "code",
   "execution_count": null,
   "metadata": {},
   "outputs": [],
   "source": []
  },
  {
   "cell_type": "markdown",
   "metadata": {},
   "source": [
    "#### 문제 풀이\n",
    "- 빈 list를 만들고, 입력되는 리스트의 함수에 맞게 작동을 시키는것\n",
    "- if문을 활용하여 코드를 작성하였다."
   ]
  },
  {
   "cell_type": "code",
   "execution_count": 7,
   "metadata": {
    "execution": {
     "iopub.execute_input": "2020-07-29T23:57:21.773842Z",
     "iopub.status.busy": "2020-07-29T23:57:21.773842Z",
     "iopub.status.idle": "2020-07-29T23:57:21.777831Z",
     "shell.execute_reply": "2020-07-29T23:57:21.776846Z",
     "shell.execute_reply.started": "2020-07-29T23:57:21.773842Z"
    }
   },
   "outputs": [],
   "source": [
    "if __name__ == '__main__':\n",
    "    N = int(input())\n",
    "    arr = []\n",
    "    for i in range(N):\n",
    "        k = input().split()\n",
    "        if k[0] == 'insert':\n",
    "            arr.insert(int(k[1]), int(k[2]))\n",
    "\n",
    "        elif k[0] == 'print':\n",
    "            print(arr)\n",
    "\n",
    "        elif k[0] == 'remove':\n",
    "            arr.remove(int(k[1]))\n",
    "\n",
    "        elif k[0] == 'append':\n",
    "            arr.append(int(k[1]))\n",
    "\n",
    "        elif k[0] == 'sort':\n",
    "            arr.sort()\n",
    "\n",
    "        elif k[0] == 'reverse':\n",
    "            arr.reverse()\n",
    "\n",
    "        elif k[0] == 'pop':\n",
    "            arr.pop()"
   ]
  },
  {
   "cell_type": "code",
   "execution_count": null,
   "metadata": {},
   "outputs": [],
   "source": []
  }
 ],
 "metadata": {
  "kernelspec": {
   "display_name": "Python 3",
   "language": "python",
   "name": "python3"
  },
  "language_info": {
   "codemirror_mode": {
    "name": "ipython",
    "version": 3
   },
   "file_extension": ".py",
   "mimetype": "text/x-python",
   "name": "python",
   "nbconvert_exporter": "python",
   "pygments_lexer": "ipython3",
   "version": "3.7.6"
  }
 },
 "nbformat": 4,
 "nbformat_minor": 4
}

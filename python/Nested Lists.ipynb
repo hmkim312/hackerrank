{
 "cells": [
  {
   "cell_type": "markdown",
   "metadata": {},
   "source": [
    "- Given the names and grades for each student in a class of N students, store them in a nested list and print the name(s) of any student(s) having the second lowest grade.\n",
    "\n",
    "- Note: If there are multiple students with the second lowest grade, order their names alphabetically and print each name on a new line.\n",
    "\n",
    "- Example\n",
    "    - recode = [['chi',20.0],['beta','50.0],['alpha', 50.0]]\n",
    "\n",
    "    - The ordered list of scores is [20.0, 50.0], so the second lowest score is 50.0. There are two students with that score: ['beta','alpha']. Ordered alphabetically, the names are printed as:\n",
    "    \n",
    "```python\n",
    "alpha\n",
    "beta\n",
    "```\n",
    "\n",
    "- Input Format\n",
    "\n",
    "- The first line contains an integer, N, the number of students.\n",
    "- The 2N subsequent lines describe each student over 2 lines.\n",
    "    - The first line contains a student's name.\n",
    "    - The second line contains their grade.\n",
    "\n",
    "- Constraints\n",
    "    - 2 <= N <= 5\n",
    "    - There will always be one or more students having the second lowest grade.\n",
    "    \n",
    "- Output Format\n",
    "    - Print the name(s) of any student(s) having the second lowest grade in. If there are multiple students, order their names alphabetically and print each one on a new line."
   ]
  },
  {
   "cell_type": "markdown",
   "metadata": {
    "execution": {
     "iopub.execute_input": "2020-07-29T02:01:03.896268Z",
     "iopub.status.busy": "2020-07-29T02:01:03.895295Z",
     "iopub.status.idle": "2020-07-29T02:01:03.907003Z",
     "shell.execute_reply": "2020-07-29T02:01:03.906027Z",
     "shell.execute_reply.started": "2020-07-29T02:01:03.896268Z"
    }
   },
   "source": [
    "#### 문제풀이\n",
    "- 학생과 점수가 주어졌을때 2번째로 낮은 점수의 학생 이름을 출력하기 (동점자가 있을경우 이름순으로 출력)\n",
    "- 전체 recodes를 담을 리스트를 생성 후, 입력받는 name과 score를 저장\n",
    "- 전체 recodes를 학생 이름순으로 정렬 (동점자가 있을 경우 이름순으로 출력하기 위해)\n",
    "- 전체 recodes에서 아래에서 2등 점수를 가져옴 (set을 하는 이유는 꼴등이 여러명일 경우가 있을수 있으므로)\n",
    "    - [score for name, score in recodes] : recodes에서 이름과 점수로 분리 후 점수만 list에 저장\n",
    "    - set[score for name, score in recodes] : list에 저장한것을 다시 set(중복제거)\n",
    "    - sorted(list(set([score for name, score in recodes])))[1] : 중복제거된 집합을 다시 list로 바꾸고, 정렬시킨뒤 그중 2번째애만 저장\n",
    "    - 위의 점수가 score가 같으면 name을 출력하게 함"
   ]
  },
  {
   "cell_type": "code",
   "execution_count": 17,
   "metadata": {
    "execution": {
     "iopub.execute_input": "2020-07-29T02:01:12.352468Z",
     "iopub.status.busy": "2020-07-29T02:01:12.352468Z",
     "iopub.status.idle": "2020-07-29T02:01:53.890956Z",
     "shell.execute_reply": "2020-07-29T02:01:53.889971Z",
     "shell.execute_reply.started": "2020-07-29T02:01:12.352468Z"
    }
   },
   "outputs": [
    {
     "name": "stdin",
     "output_type": "stream",
     "text": [
      " 5\n",
      " Harry\n",
      " 37.21\n",
      " Berry\n",
      " 37.21\n",
      " Tina\n",
      " 37.2\n",
      " Akriti\n",
      " 41\n",
      " Harsh\n",
      " 39\n"
     ]
    },
    {
     "name": "stdout",
     "output_type": "stream",
     "text": [
      "Berry\n",
      "Harry\n"
     ]
    }
   ],
   "source": [
    "recodes = []\n",
    "if __name__ == '__main__':\n",
    "    for _ in range(int(input())):\n",
    "        name = input()\n",
    "        score = float(input())\n",
    "        recodes.append([name, score])\n",
    "    recodes = sorted(recodes)\n",
    "    for name, socre in recodes:\n",
    "        if socre == sorted(list(set([score for name, score in recodes])))[1]:\n",
    "            print(name)"
   ]
  },
  {
   "cell_type": "code",
   "execution_count": null,
   "metadata": {},
   "outputs": [],
   "source": []
  }
 ],
 "metadata": {
  "kernelspec": {
   "display_name": "Python 3",
   "language": "python",
   "name": "python3"
  },
  "language_info": {
   "codemirror_mode": {
    "name": "ipython",
    "version": 3
   },
   "file_extension": ".py",
   "mimetype": "text/x-python",
   "name": "python",
   "nbconvert_exporter": "python",
   "pygments_lexer": "ipython3",
   "version": "3.7.6"
  }
 },
 "nbformat": 4,
 "nbformat_minor": 4
}

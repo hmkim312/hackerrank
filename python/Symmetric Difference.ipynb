{
 "cells": [
  {
   "cell_type": "markdown",
   "metadata": {},
   "source": [
    "URL : <https://www.hackerrank.com/challenges/symmetric-difference/problem>{:target=\"_blank\"}\n",
    "\n",
    "- Objective\n",
    "    - Today, we're learning about a new data type: sets.\n",
    "\n",
    "- Concept\n",
    "    - If the inputs are given on one line separated by a space character, use split() to get the separate values in the form of a list:\n",
    "```\n",
    ">> a = raw_input()\n",
    "5 4 3 2\n",
    ">> lis = a.split()\n",
    ">> print (lis)\n",
    "['5', '4', '3', '2']\n",
    "```\n",
    "\n",
    "- If the list values are all integer types, use the map() method to convert all the strings to integers.\n",
    "    \n",
    "```\n",
    ">> newlis = list(map(int, lis))\n",
    ">> print (newlis)\n",
    "[5, 4, 3, 2]\n",
    "\n",
    "```\n",
    "- Sets are an unordered bag of unique values. A single set contains values of any immutable data type.\n",
    "\n",
    "- CREATING SETS\n",
    "```\n",
    ">> myset = {1, 2} # Directly assigning values to a set\n",
    ">> myset = set()  # Initializing a set\n",
    ">> myset = set(['a', 'b']) # Creating a set from a list\n",
    ">> myset\n",
    "{'a', 'b'}\n",
    "```\n",
    "\n",
    "- MODIFYING SETS\n",
    "    - Using the add() function:\n",
    "\n",
    "```\n",
    ">> myset.add('c')\n",
    ">> myset\n",
    "{'a', 'c', 'b'}\n",
    ">> myset.add('a') # As 'a' already exists in the set, nothing happens\n",
    ">> myset.add((5, 4))\n",
    ">> myset\n",
    "{'a', 'c', 'b', (5, 4)}\n",
    "```\n",
    "\n",
    "- Using the update() function:\n",
    "\n",
    "```\n",
    ">> myset.update([1, 2, 3, 4]) # update() only works for iterable objects\n",
    ">> myset\n",
    "{'a', 1, 'c', 'b', 4, 2, (5, 4), 3}\n",
    ">> myset.update({1, 7, 8})\n",
    ">> myset\n",
    "{'a', 1, 'c', 'b', 4, 7, 8, 2, (5, 4), 3}\n",
    ">> myset.update({1, 6}, [5, 13])\n",
    ">> myset\n",
    "{'a', 1, 'c', 'b', 4, 5, 6, 7, 8, 2, (5, 4), 13, 3}\n",
    "```\n",
    "\n",
    "- REMOVING ITEMS\n",
    "    - Both the discard() and remove() functions take a single value as an argument and removes that value from the set. If that value is not present, discard() does nothing, but remove() will raise a KeyError exception.\n",
    "\n",
    "```\n",
    ">> myset.discard(10)\n",
    ">> myset\n",
    "{'a', 1, 'c', 'b', 4, 5, 7, 8, 2, 12, (5, 4), 13, 11, 3}\n",
    ">> myset.remove(13)\n",
    ">> myset\n",
    "{'a', 1, 'c', 'b', 4, 5, 7, 8, 2, 12, (5, 4), 11, 3}\n",
    "```\n",
    "\n",
    "- COMMON SET OPERATIONS Using union(), intersection() and difference() functions.\n",
    "\n",
    "```\n",
    ">> a = {2, 4, 5, 9}\n",
    ">> b = {2, 4, 11, 12}\n",
    ">> a.union(b) # Values which exist in a or b\n",
    "{2, 4, 5, 9, 11, 12}\n",
    ">> a.intersection(b) # Values which exist in a and b\n",
    "{2, 4}\n",
    ">> a.difference(b) # Values which exist in a but not in b\n",
    "{9, 5}\n",
    "```\n",
    "\n",
    "- The union() and intersection() functions are symmetric methods:\n",
    "\n",
    "```\n",
    ">> a.union(b) == b.union(a)\n",
    "True\n",
    ">> a.intersection(b) == b.intersection(a)\n",
    "True\n",
    ">> a.difference(b) == b.difference(a)\n",
    "False\n",
    "These other built-in data structures in Python are also useful.\n",
    "```\n",
    "\n",
    "- Task\n",
    "    - Given  sets of integers,  and , print their symmetric difference in ascending order. The term symmetric difference indicates those values that exist in either  or  but do not exist in both.\n",
    "\n",
    "- Input Format\n",
    "    - The first line of input contains an integer, .\n",
    "    - The second line contains  space-separated integers.\n",
    "    - The third line contains an integer, .\n",
    "    - The fourth line contains  space-separated integers.\n",
    "\n",
    "- Output Format\n",
    "    - Output the symmetric difference integers in ascending order, one per line."
   ]
  },
  {
   "cell_type": "markdown",
   "metadata": {},
   "source": [
    "#### 문제풀이\n",
    "- 총 4번의 input중 짝수번째 input의 n과 m\n",
    "- n과 m에서 서로 없는 데이터를 찾아 순서대로 출력하면 됨\n",
    "- difference와 update, sorted, map을 사용했음"
   ]
  },
  {
   "cell_type": "code",
   "execution_count": 38,
   "metadata": {
    "execution": {
     "iopub.execute_input": "2020-12-22T02:07:10.831768Z",
     "iopub.status.busy": "2020-12-22T02:07:10.831567Z",
     "iopub.status.idle": "2020-12-22T02:07:26.631981Z",
     "shell.execute_reply": "2020-12-22T02:07:26.631274Z",
     "shell.execute_reply.started": "2020-12-22T02:07:10.831747Z"
    }
   },
   "outputs": [
    {
     "name": "stdin",
     "output_type": "stream",
     "text": [
      " 4\n",
      " 2 4 5 9\n",
      " 4\n",
      " 2 4 11 12\n"
     ]
    },
    {
     "name": "stdout",
     "output_type": "stream",
     "text": [
      "5\n",
      "9\n",
      "11\n",
      "12\n"
     ]
    }
   ],
   "source": [
    "_ = input()\n",
    "a = set(input().split())\n",
    "_ = input()\n",
    "b = set(input().split())\n",
    "c = a.difference(b)\n",
    "d = b.difference(a)\n",
    "c.update(d)\n",
    "k = sorted(list(map(int, c)))\n",
    "for i in k:\n",
    "    print(i)"
   ]
  }
 ],
 "metadata": {
  "kernelspec": {
   "display_name": "Python 3",
   "language": "python",
   "name": "python3"
  },
  "language_info": {
   "codemirror_mode": {
    "name": "ipython",
    "version": 3
   },
   "file_extension": ".py",
   "mimetype": "text/x-python",
   "name": "python",
   "nbconvert_exporter": "python",
   "pygments_lexer": "ipython3",
   "version": "3.8.3"
  }
 },
 "nbformat": 4,
 "nbformat_minor": 4
}

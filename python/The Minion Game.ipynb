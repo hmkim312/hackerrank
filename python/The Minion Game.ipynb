{
 "cells": [
  {
   "cell_type": "markdown",
   "metadata": {},
   "source": [
    "- Kevin and Stuart want to play the 'The Minion Game'.\n",
    "\n",
    "- Game Rules\n",
    "    - Both players are given the same string, S.\n",
    "    - Both players have to make substrings using the letters of the string S.\n",
    "    - Stuart has to make words starting with consonants.\n",
    "    - Kevin has to make words starting with vowels.\n",
    "    - The game ends when both players have made all possible substrings.\n",
    "\n",
    "- Scoring\n",
    "    - A player gets +1 point for each occurrence of the substring in the string S.\n",
    "\n",
    "- For Example:\n",
    "    - String S = BANANA\n",
    "    - Kevin's vowel beginning word = ANA\n",
    "    - Here, ANA occurs twice in BANANA. Hence, Kevin will get 2 Points.\n",
    "\n",
    "- Input Format\n",
    "    - A single line of input containing the string S.\n",
    "    - Note: The string  will contain only uppercase letters: [A-Z].\n",
    "\n",
    "- Constraints\n",
    "    - 0 <len(s) <= 10^6\n",
    "\n",
    "\n",
    "- Output Format\n",
    "    - Print one line: the name of the winner and their score separated by a space.\n",
    "    - If the game is a draw, print Draw."
   ]
  },
  {
   "cell_type": "markdown",
   "metadata": {},
   "source": [
    "#### 문제풀이\n",
    "- Stuart는 자음으로 시작하는 단어를 만들고, Kevin은 모음으로 시작하는 단어를 만들어서, 그 갯수만큼을 점수로 가져감\n",
    "- 모음 혹은 자음이니, 모음(AEIOU)로 시작하는 단어와 아닌 단어만 구분하면됨(자음을 따로 구성할 필요없음)\n",
    "- len(string) - idx를 하는 이유는 모음이나 자음으로 시작하는 단어 수가 필요하기 때문.\n",
    "- 단어 \"BANANA\"의 경우, 첫 번째 모음 'A'는 위치 1, len(\"BANANA\") = 6에서 발생하므로이 문자 'A'로 시작하는 6-1 = 5 개의 하위 문자열이 있습니다. ['A', ' AN ', 'ANA ', 'ANAN ', 'ANANA '], 단어 끝에 도달 할 때까지 특정 문자'A '에 하나의 추가 문자를 추가하게됨\n",
    "- 위의 내용을 기반으로 for문을 돌려서 점수를 만들어냄\n",
    "- 솔직히 많이 어려웠음 특히 len(s) - i 하는 부분은 어떻게 해야하나 고민하다가 결국 구글링으로 찾아냄"
   ]
  },
  {
   "cell_type": "code",
   "execution_count": 29,
   "metadata": {
    "execution": {
     "iopub.execute_input": "2020-08-06T02:08:14.921778Z",
     "iopub.status.busy": "2020-08-06T02:08:14.921778Z",
     "iopub.status.idle": "2020-08-06T02:08:14.929570Z",
     "shell.execute_reply": "2020-08-06T02:08:14.928590Z",
     "shell.execute_reply.started": "2020-08-06T02:08:14.921778Z"
    }
   },
   "outputs": [],
   "source": [
    "def minion_game(s):\n",
    "    Kevin = 0\n",
    "    Stuart = 0\n",
    "\n",
    "    for idx, c in enumerate(s):\n",
    "        if c in \"AEIOU\":\n",
    "            Kevin += len(s) - idx\n",
    "        else:\n",
    "            Stuart += len(s) - idx\n",
    "\n",
    "    if Kevin > Stuart:\n",
    "        print('Kevin', Kevin)\n",
    "    elif Kevin < Stuart:\n",
    "        print('Stuart', Stuart)\n",
    "    else :\n",
    "        print('Draw')"
   ]
  },
  {
   "cell_type": "code",
   "execution_count": 31,
   "metadata": {
    "execution": {
     "iopub.execute_input": "2020-08-06T02:08:27.395998Z",
     "iopub.status.busy": "2020-08-06T02:08:27.395022Z",
     "iopub.status.idle": "2020-08-06T02:08:27.400881Z",
     "shell.execute_reply": "2020-08-06T02:08:27.399907Z",
     "shell.execute_reply.started": "2020-08-06T02:08:27.395998Z"
    }
   },
   "outputs": [
    {
     "name": "stdout",
     "output_type": "stream",
     "text": [
      "Stuart 12\n"
     ]
    }
   ],
   "source": [
    "s = 'BANANA'\n",
    "minion_game(s)"
   ]
  }
 ],
 "metadata": {
  "kernelspec": {
   "display_name": "Python 3",
   "language": "python",
   "name": "python3"
  },
  "language_info": {
   "codemirror_mode": {
    "name": "ipython",
    "version": 3
   },
   "file_extension": ".py",
   "mimetype": "text/x-python",
   "name": "python",
   "nbconvert_exporter": "python",
   "pygments_lexer": "ipython3",
   "version": "3.7.6"
  }
 },
 "nbformat": 4,
 "nbformat_minor": 4
}

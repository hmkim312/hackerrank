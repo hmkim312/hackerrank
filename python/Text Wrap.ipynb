{
 "cells": [
  {
   "cell_type": "markdown",
   "metadata": {},
   "source": [
    "- You are given a string s and width w.\n",
    "- Your task is to wrap the string into a paragraph of width w.\n",
    "\n",
    "- Input Format\n",
    "    - The first line contains a string, s.\n",
    "    - The second line contains the width, w.\n",
    "\n",
    "- Constraints\n",
    "    - 0 < len(s) <= 1000\n",
    "    - 0 < w <= len(s)\n",
    "    \n",
    "- Output Format\n",
    "    - Print the text wrapped paragraph."
   ]
  },
  {
   "cell_type": "markdown",
   "metadata": {},
   "source": [
    "#### 문제풀이\n",
    "- textwrap을 이용하여 주어진 width의 갯수만큼씩 출력하는 함수를 작성\n",
    "- textwrap의 fill 메서드를 사용하여 해결"
   ]
  },
  {
   "cell_type": "code",
   "execution_count": 2,
   "metadata": {
    "execution": {
     "iopub.execute_input": "2020-08-03T02:12:06.246056Z",
     "iopub.status.busy": "2020-08-03T02:12:06.246056Z",
     "iopub.status.idle": "2020-08-03T02:12:06.255032Z",
     "shell.execute_reply": "2020-08-03T02:12:06.253037Z",
     "shell.execute_reply.started": "2020-08-03T02:12:06.246056Z"
    }
   },
   "outputs": [],
   "source": [
    "import textwrap\n",
    "\n",
    "def wrap(string, max_width):\n",
    "    return textwrap.fill(string, max_width)\n",
    "\n",
    "if __name__ == '__main__':\n",
    "    string, max_width = input(), int(input())\n",
    "    result = wrap(string, max_width)\n",
    "    print(result)"
   ]
  },
  {
   "cell_type": "code",
   "execution_count": null,
   "metadata": {},
   "outputs": [],
   "source": []
  }
 ],
 "metadata": {
  "kernelspec": {
   "display_name": "Python 3",
   "language": "python",
   "name": "python3"
  },
  "language_info": {
   "codemirror_mode": {
    "name": "ipython",
    "version": 3
   },
   "file_extension": ".py",
   "mimetype": "text/x-python",
   "name": "python",
   "nbconvert_exporter": "python",
   "pygments_lexer": "ipython3",
   "version": "3.7.6"
  }
 },
 "nbformat": 4,
 "nbformat_minor": 4
}

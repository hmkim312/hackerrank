{
 "cells": [
  {
   "cell_type": "markdown",
   "metadata": {},
   "source": [
    "- Task\n",
    "    - Given an integer, n, and n space-separated integers as input, create a tuple, t, of those n integers. Then compute and print the result of hash(t).\n",
    "\n",
    "- Note: hash() is one of the functions in the __builtins__ module, so it need not be imported.\n",
    "\n",
    "- Input Format\n",
    "    - The first line contains an integer, n, denoting the number of elements in the tuple.\n",
    "    - The second line contains n space-separated integers describing the elements in tuple t.\n",
    "\n",
    "- Output Format\n",
    "    - Print the result of hash(t)."
   ]
  },
  {
   "cell_type": "markdown",
   "metadata": {},
   "source": [
    "#### 문제풀이\n",
    "- 주어진 숫자를 tuple로 만들고, hash값을 출력하는것\n",
    "- hash()는 객체의 hash 값을 반환함."
   ]
  },
  {
   "cell_type": "code",
   "execution_count": 1,
   "metadata": {
    "execution": {
     "iopub.execute_input": "2020-07-30T00:19:09.549350Z",
     "iopub.status.busy": "2020-07-30T00:19:09.549350Z",
     "iopub.status.idle": "2020-07-30T00:19:10.945455Z",
     "shell.execute_reply": "2020-07-30T00:19:10.943487Z",
     "shell.execute_reply.started": "2020-07-30T00:19:09.549350Z"
    }
   },
   "outputs": [
    {
     "name": "stdin",
     "output_type": "stream",
     "text": [
      " 1\n",
      " 2\n"
     ]
    },
    {
     "name": "stdout",
     "output_type": "stream",
     "text": [
      "3430020387561\n"
     ]
    }
   ],
   "source": [
    "if __name__ == '__main__':\n",
    "    n = int(input())\n",
    "    integer_list = map(int, input().split())\n",
    "    print(hash(tuple(integer_list)))"
   ]
  },
  {
   "cell_type": "code",
   "execution_count": null,
   "metadata": {},
   "outputs": [],
   "source": []
  }
 ],
 "metadata": {
  "kernelspec": {
   "display_name": "Python 3",
   "language": "python",
   "name": "python3"
  },
  "language_info": {
   "codemirror_mode": {
    "name": "ipython",
    "version": 3
   },
   "file_extension": ".py",
   "mimetype": "text/x-python",
   "name": "python",
   "nbconvert_exporter": "python",
   "pygments_lexer": "ipython3",
   "version": "3.7.6"
  }
 },
 "nbformat": 4,
 "nbformat_minor": 4
}

{
 "cells": [
  {
   "cell_type": "markdown",
   "metadata": {},
   "source": [
    "- The provided code stub will read in a dictionary containing key/value pairs of name:[marks] for a list of students. Print the average of the marks array for the student name provided, showing 2 places after the decimal.\n",
    "\n",
    "- Example\n",
    "    - marks key : value pairs are\n",
    "    - 'alpha' : [20, 30, 40]\n",
    "    - 'beta' : [30, 50, 70]\n",
    "    - query_name : 'beta'\n",
    "\n",
    "- The query_name is 'beta'. beta's average score is (30 + 50 + 70) / 3 = 50.0.\n",
    "\n",
    "- Input Format\n",
    "    - The first line contains the integer n, the number of students' records. The next n lines contain the names and marks obtained by a student, each value separated by a space. The final line contains query_name, the name of a student to query.\n",
    "\n",
    "- Constraints\n",
    "    - 2 <= n <= 10\n",
    "    - 0 <= marks[i] <= 100\n",
    "    - lenth of marks array = 3\n",
    "\n",
    "- Output Format\n",
    "    - Print one line: The average of the marks obtained by the particular student correct to 2 decimal places."
   ]
  },
  {
   "cell_type": "markdown",
   "metadata": {},
   "source": [
    "#### 문제풀이\n",
    "- 이름과 숫자가 주어지고, 마지막에 입력된 이름에 대해 숫자에 대한 평균을 구하는것\n",
    "- sum과 len 함수를 이용하여 평균을 구하였다."
   ]
  },
  {
   "cell_type": "code",
   "execution_count": 43,
   "metadata": {
    "execution": {
     "iopub.execute_input": "2020-07-31T00:48:48.046799Z",
     "iopub.status.busy": "2020-07-31T00:48:48.046799Z",
     "iopub.status.idle": "2020-07-31T00:49:24.896059Z",
     "shell.execute_reply": "2020-07-31T00:49:24.895079Z",
     "shell.execute_reply.started": "2020-07-31T00:48:48.046799Z"
    }
   },
   "outputs": [
    {
     "name": "stdin",
     "output_type": "stream",
     "text": [
      " 2\n",
      " Harsh 25 26.5 28\n",
      " Anurag 26 28 30\n",
      " Harsh\n"
     ]
    },
    {
     "name": "stdout",
     "output_type": "stream",
     "text": [
      "26.50\n"
     ]
    }
   ],
   "source": [
    "if __name__ == '__main__':\n",
    "    n = int(input())\n",
    "    student_marks = {}\n",
    "    for _ in range(n):\n",
    "        name, *line = input().split()\n",
    "        scores = list(map(float, line))\n",
    "        student_marks[name] = scores\n",
    "    query_name = input()\n",
    "    print('%0.2f' % (sum(student_marks[query_name])/len(student_marks[query_name])))"
   ]
  },
  {
   "cell_type": "code",
   "execution_count": null,
   "metadata": {},
   "outputs": [],
   "source": []
  }
 ],
 "metadata": {
  "kernelspec": {
   "display_name": "Python 3",
   "language": "python",
   "name": "python3"
  },
  "language_info": {
   "codemirror_mode": {
    "name": "ipython",
    "version": 3
   },
   "file_extension": ".py",
   "mimetype": "text/x-python",
   "name": "python",
   "nbconvert_exporter": "python",
   "pygments_lexer": "ipython3",
   "version": "3.7.6"
  }
 },
 "nbformat": 4,
 "nbformat_minor": 4
}

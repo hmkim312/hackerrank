{
 "cells": [
  {
   "cell_type": "markdown",
   "metadata": {},
   "source": [
    "- This tool computes the cartesian product of input iterables.\n",
    "- It is equivalent to nested for-loops.\n",
    "- For example, product(A, B) returns the same as ((x,y) for x in A for y in B).\n",
    "\n",
    "- Sample Code\n",
    "```python\n",
    ">>> from itertools import product\n",
    ">>>\n",
    ">>> print list(product([1,2,3],repeat = 2))\n",
    "[(1, 1), (1, 2), (1, 3), (2, 1), (2, 2), (2, 3), (3, 1), (3, 2), (3, 3)]\n",
    ">>>\n",
    ">>> print list(product([1,2,3],[3,4]))\n",
    "[(1, 3), (1, 4), (2, 3), (2, 4), (3, 3), (3, 4)]\n",
    ">>>\n",
    ">>> A = [[1,2,3],[3,4,5]]\n",
    ">>> print list(product(*A))\n",
    "[(1, 3), (1, 4), (1, 5), (2, 3), (2, 4), (2, 5), (3, 3), (3, 4), (3, 5)]\n",
    ">>>\n",
    ">>> B = [[1,2,3],[3,4,5],[7,8]]\n",
    ">>> print list(product(*B))\n",
    "[(1, 3, 7), (1, 3, 8), (1, 4, 7), (1, 4, 8), (1, 5, 7), (1, 5, 8), (2, 3, 7), (2, 3, 8), (2, 4, 7), (2, 4, 8), (2, 5, 7), (2, 5, 8), (3, 3, 7), (3, 3, 8), (3, 4, 7), (3, 4, 8), (3, 5, 7), (3, 5, 8)]\n",
    "```\n",
    "- Task\n",
    "    - You are given a two lists A and B. Your task is to compute their cartesian product A X B.\n",
    "\n",
    "- Example\n",
    "```python\n",
    "A = [1, 2]\n",
    "B = [3, 4]\n",
    "\n",
    "AxB = [(1, 3), (1, 4), (2, 3), (2, 4)]\n",
    "```\n",
    "- Note: A and B are sorted lists, and the cartesian product's tuples should be output in sorted order.\n",
    "\n",
    "- Input Format\n",
    "    - The first line contains the space separated elements of list A.\n",
    "    - The second line contains the space separated elements of list B.\n",
    "    - Both lists have no duplicate integer elements.\n",
    "\n",
    "- Constraints\n",
    "    - 0 < A < 30\n",
    "    - 0 < B < 30\n",
    "\n",
    "- Output Format\n",
    "    - Output the space separated tuples of the cartesian product."
   ]
  },
  {
   "cell_type": "markdown",
   "metadata": {},
   "source": [
    "#### 문제풀이\n",
    "- list A와 B가 주어졌을때 A X B 의 데카르트의 곱을 구하는 것\n",
    "- python의 product를 사용하였고, list형태로 받은뒤 해당 list의 원소를 for문으로 print하는 형식으로 만듬\n",
    "- 아마 다른방법도 있을듯 하다.."
   ]
  },
  {
   "cell_type": "code",
   "execution_count": 24,
   "metadata": {
    "execution": {
     "iopub.execute_input": "2020-08-07T00:48:00.166600Z",
     "iopub.status.busy": "2020-08-07T00:48:00.165603Z",
     "iopub.status.idle": "2020-08-07T00:48:02.829537Z",
     "shell.execute_reply": "2020-08-07T00:48:02.827545Z",
     "shell.execute_reply.started": "2020-08-07T00:48:00.166600Z"
    }
   },
   "outputs": [
    {
     "name": "stdin",
     "output_type": "stream",
     "text": [
      " 1 2\n",
      " 3 4\n"
     ]
    },
    {
     "name": "stdout",
     "output_type": "stream",
     "text": [
      "(1, 3) (1, 4) (2, 3) (2, 4) "
     ]
    }
   ],
   "source": [
    "from itertools import product\n",
    "A = list(map(int,(input().split())))\n",
    "B = list(map(int,(input().split())))\n",
    "p = list(product(A,B))\n",
    "for i in p:\n",
    "    print(i, end=' ')"
   ]
  },
  {
   "cell_type": "code",
   "execution_count": null,
   "metadata": {},
   "outputs": [],
   "source": []
  }
 ],
 "metadata": {
  "kernelspec": {
   "display_name": "Python 3",
   "language": "python",
   "name": "python3"
  },
  "language_info": {
   "codemirror_mode": {
    "name": "ipython",
    "version": 3
   },
   "file_extension": ".py",
   "mimetype": "text/x-python",
   "name": "python",
   "nbconvert_exporter": "python",
   "pygments_lexer": "ipython3",
   "version": "3.7.6"
  }
 },
 "nbformat": 4,
 "nbformat_minor": 4
}

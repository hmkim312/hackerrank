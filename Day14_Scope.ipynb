{
 "cells": [
  {
   "cell_type": "markdown",
   "metadata": {},
   "source": [
    "- Objective\n",
    "    - Today we're discussing scope. Check out the Tutorial tab for learning materials and an instructional video!\n",
    "\n",
    "    - The absolute difference between two integers, a and b, is written as |a-b|. The maximum absolute difference between two integers in a set of positive integers, elements, is the largest absolute difference between any two integers in elements.\n",
    "\n",
    "    - The Difference class is started for you in the editor. It has a private integer array (elements) for storing N non-negative integers, and a public integer (MaximumDifference) for storing the maximum absolute difference.\n",
    "\n",
    "- Task\n",
    "    - Complete the Difference class by writing the following:\n",
    "        - A class constructor that takes an array of integers as a parameter and saves it to the elements instance variable.\n",
    "        - A computeDifference method that finds the maximum absolute difference between any 2 numbers in N and stores it in the MaximumDifference instance variable.\n",
    "\n",
    "- Input Format\n",
    "    - You are not responsible for reading any input from stdin. The locked Solution class in your editor reads in 2 lines of input; the first line contains N, and the second line describes the elements array.\n",
    "\n",
    "- Constraints\n",
    "    - 1 <= N <= 10\n",
    "    - 1 <= elements[i] <= 100, where 0 <= i <= N-1\n",
    "    \n",
    "- Output Format\n",
    "    - You are not responsible for printing any output; the Solution class will print the value of the MaximumDifference instance variable."
   ]
  },
  {
   "cell_type": "markdown",
   "metadata": {},
   "source": [
    "#### 문제풀이\n",
    "- array a에서의 2개의 원소들의 차중에 가장 큰 값을 찾는것, 가장큰값에서 가장 작은값을 빼면됨."
   ]
  },
  {
   "cell_type": "code",
   "execution_count": 1,
   "metadata": {
    "execution": {
     "iopub.execute_input": "2020-07-08T04:25:20.600959Z",
     "iopub.status.busy": "2020-07-08T04:25:20.599983Z",
     "iopub.status.idle": "2020-07-08T04:25:20.607787Z",
     "shell.execute_reply": "2020-07-08T04:25:20.606844Z",
     "shell.execute_reply.started": "2020-07-08T04:25:20.600959Z"
    }
   },
   "outputs": [],
   "source": [
    "class Difference:\n",
    "    def __init__(self, a):\n",
    "        self.__elements = a\n",
    "\t# Add your code here\n",
    "    def computeDifference(self):\n",
    "        self.maximumDifference = max(self.__elements)-min(self.__elements)\n",
    "        return self.maximumDifference"
   ]
  },
  {
   "cell_type": "code",
   "execution_count": null,
   "metadata": {},
   "outputs": [],
   "source": []
  }
 ],
 "metadata": {
  "kernelspec": {
   "display_name": "Python 3",
   "language": "python",
   "name": "python3"
  },
  "language_info": {
   "codemirror_mode": {
    "name": "ipython",
    "version": 3
   },
   "file_extension": ".py",
   "mimetype": "text/x-python",
   "name": "python",
   "nbconvert_exporter": "python",
   "pygments_lexer": "ipython3",
   "version": "3.7.6"
  }
 },
 "nbformat": 4,
 "nbformat_minor": 4
}

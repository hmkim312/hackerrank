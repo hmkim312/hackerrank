{
 "cells": [
  {
   "cell_type": "markdown",
   "metadata": {},
   "source": [
    "Given an array of integers, find the sum of its elements.\n",
    "\n",
    "For example, if the array ar = [1,2,3] 1 + 2+ 3 = 6 so return 6.\n",
    "\n",
    "#### Function Description\n",
    "\n",
    "- Complete the simpleArraySum function in the editor below. It must return the sum of the array elements as an integer.\n",
    "\n",
    "- simpleArraySum has the following parameter(s):\n",
    "\n",
    "- ar: an array of integers\n",
    "\n",
    "#### Input Format\n",
    "\n",
    "- The first line contains an integer, , denoting the size of the array.\n",
    "- The second line contains  space-separated integers representing the array's elements."
   ]
  },
  {
   "cell_type": "code",
   "execution_count": 1,
   "metadata": {
    "execution": {
     "iopub.execute_input": "2020-06-25T15:39:52.683033Z",
     "iopub.status.busy": "2020-06-25T15:39:52.683033Z",
     "iopub.status.idle": "2020-06-25T15:39:52.688034Z",
     "shell.execute_reply": "2020-06-25T15:39:52.687022Z",
     "shell.execute_reply.started": "2020-06-25T15:39:52.683033Z"
    }
   },
   "outputs": [],
   "source": [
    "ar = [1,2,3]"
   ]
  },
  {
   "cell_type": "code",
   "execution_count": 5,
   "metadata": {
    "execution": {
     "iopub.execute_input": "2020-06-25T15:41:12.393194Z",
     "iopub.status.busy": "2020-06-25T15:41:12.392205Z",
     "iopub.status.idle": "2020-06-25T15:41:12.404123Z",
     "shell.execute_reply": "2020-06-25T15:41:12.401132Z",
     "shell.execute_reply.started": "2020-06-25T15:41:12.393194Z"
    }
   },
   "outputs": [],
   "source": [
    "def simpleArraySum(ar):\n",
    "    num = 0\n",
    "    for i in ar:\n",
    "        num+= i\n",
    "    return num"
   ]
  }
 ],
 "metadata": {
  "kernelspec": {
   "display_name": "Python 3",
   "language": "python",
   "name": "python3"
  },
  "language_info": {
   "codemirror_mode": {
    "name": "ipython",
    "version": 3
   },
   "file_extension": ".py",
   "mimetype": "text/x-python",
   "name": "python",
   "nbconvert_exporter": "python",
   "pygments_lexer": "ipython3",
   "version": "3.7.6"
  }
 },
 "nbformat": 4,
 "nbformat_minor": 4
}

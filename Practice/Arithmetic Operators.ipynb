{
 "cells": [
  {
   "cell_type": "markdown",
   "metadata": {},
   "source": [
    "- Task\n",
    "    - The provided code stub reads two integers from STDIN,  and . Add code to print three lines where:\n",
    "        - 1. The first line contains the sum of the two numbers.\n",
    "        - 2. The second line contains the difference of the two numbers (first - second).\n",
    "        - 3. The third line contains the product of the two numbers.\n",
    "- Example\n",
    "    - a = 3\n",
    "    - b = 5\n",
    "\n",
    "- Print the following:\n",
    "    - 8\n",
    "    - -2\n",
    "    - 15\n",
    "    \n",
    "- Input Format\n",
    "    - The first line contains the first integer, a.\n",
    "    - The second line contains the second integer, b.\n",
    "\n",
    "- Constraints\n",
    "    - 1 <= a <= 10^10\n",
    "    - 1 <= b <= 10^10\n",
    "\n",
    "- Output Format\n",
    "    - Print the three lines as explained above."
   ]
  },
  {
   "cell_type": "code",
   "execution_count": 2,
   "metadata": {
    "execution": {
     "iopub.execute_input": "2020-07-27T00:24:10.760801Z",
     "iopub.status.busy": "2020-07-27T00:24:10.759825Z",
     "iopub.status.idle": "2020-07-27T00:24:13.511705Z",
     "shell.execute_reply": "2020-07-27T00:24:13.510847Z",
     "shell.execute_reply.started": "2020-07-27T00:24:10.760801Z"
    }
   },
   "outputs": [
    {
     "name": "stdin",
     "output_type": "stream",
     "text": [
      " 3\n",
      " 5\n"
     ]
    },
    {
     "name": "stdout",
     "output_type": "stream",
     "text": [
      "8\n",
      "-2\n",
      "15\n"
     ]
    }
   ],
   "source": [
    "if __name__ == '__main__':\n",
    "    a = int(input())\n",
    "    b = int(input())\n",
    "    print(a + b)\n",
    "    print(a - b)\n",
    "    print(a * b)"
   ]
  },
  {
   "cell_type": "code",
   "execution_count": null,
   "metadata": {},
   "outputs": [],
   "source": []
  }
 ],
 "metadata": {
  "kernelspec": {
   "display_name": "Python 3",
   "language": "python",
   "name": "python3"
  },
  "language_info": {
   "codemirror_mode": {
    "name": "ipython",
    "version": 3
   },
   "file_extension": ".py",
   "mimetype": "text/x-python",
   "name": "python",
   "nbconvert_exporter": "python",
   "pygments_lexer": "ipython3",
   "version": "3.7.6"
  }
 },
 "nbformat": 4,
 "nbformat_minor": 4
}

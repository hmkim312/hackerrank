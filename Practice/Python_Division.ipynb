{
 "cells": [
  {
   "cell_type": "markdown",
   "metadata": {},
   "source": [
    "- Task\n",
    "    - The provided code stub reads two integers, a and b, from STDIN.\n",
    "\n",
    "    - Add logic to print two lines. The first line should contain the result of integer division, a // b. The second line should contain the result of float division, a / b.\n",
    "\n",
    "    - No rounding or formatting is necessary.\n",
    "\n",
    "- Example\n",
    "    - a = 3\n",
    "    - b = 5\n",
    "\n",
    "    - The result of the integer division 3//5 = 0.\n",
    "    - The result of the float division is 3/5 = 0.6.\n",
    "    \n",
    "- Print:\n",
    "    - 0\n",
    "    - 0.6\n",
    "    \n",
    "- Input Format\n",
    "    - The first line contains the first integer, a.\n",
    "    - The second line contains the second integer, b.\n",
    "\n",
    "- Output Format\n",
    "    - Print the two lines as described above."
   ]
  },
  {
   "cell_type": "code",
   "execution_count": null,
   "metadata": {},
   "outputs": [],
   "source": []
  }
 ],
 "metadata": {
  "kernelspec": {
   "display_name": "Python 3",
   "language": "python",
   "name": "python3"
  },
  "language_info": {
   "codemirror_mode": {
    "name": "ipython",
    "version": 3
   },
   "file_extension": ".py",
   "mimetype": "text/x-python",
   "name": "python",
   "nbconvert_exporter": "python",
   "pygments_lexer": "ipython3",
   "version": "3.7.6"
  }
 },
 "nbformat": 4,
 "nbformat_minor": 4
}

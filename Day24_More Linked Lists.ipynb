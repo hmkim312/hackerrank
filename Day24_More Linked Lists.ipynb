{
 "cells": [
  {
   "cell_type": "markdown",
   "metadata": {},
   "source": [
    "- Objective\n",
    "    - Check out the Tutorial tab for learning materials and an instructional video!\n",
    "\n",
    "- Task\n",
    "    - A Node class is provided for you in the editor. A Node object has an integer data field, data, and a Node instance pointer, next, pointing to another node(i.e.: the next node in a list).\n",
    "\n",
    "    - A removeDuplicates function is declared in your editor, which takes a pointer to the head node of a linked list as a parameter. Complete removeDuplicates so that it deletes any duplicate nodes from the list and returns the head of the updated list.\n",
    "\n",
    "- Note: The head pointer may be null, indicating that the list is empty. Be sure to reset your next pointer when performing deletions to avoid breaking the list.\n",
    "\n",
    "- Input Format\n",
    "    - You do not need to read any input from stdin. The following input is handled by the locked stub code and passed to the removeDuplicates function:\n",
    "    - The first line contains an integer, N, the number of nodes to be inserted.\n",
    "    - The N subsequent lines each contain an integer describing the data value of a node being inserted at the list's tail.\n",
    "\n",
    "- Constraints\n",
    "    - The data elements of the linked list argument will always be in non-decreasing order.\n",
    "\n",
    "- Output Format\n",
    "    - Your removeDuplicates function should return the head of the updated linked list. The locked stub code in your editor will print the returned list to stdout."
   ]
  },
  {
   "cell_type": "code",
   "execution_count": 1,
   "metadata": {
    "execution": {
     "iopub.execute_input": "2020-07-20T01:37:02.821116Z",
     "iopub.status.busy": "2020-07-20T01:37:02.820118Z",
     "iopub.status.idle": "2020-07-20T01:37:02.828119Z",
     "shell.execute_reply": "2020-07-20T01:37:02.827099Z",
     "shell.execute_reply.started": "2020-07-20T01:37:02.821116Z"
    }
   },
   "outputs": [],
   "source": [
    "def removeDuplicates(self,head):\n",
    "    #Write your code here\n",
    "    if head is None:\n",
    "        return None\n",
    "    ls = [head.data]\n",
    "    node = head\n",
    "    while node.next is not None:\n",
    "        if node.next.data not in ls:\n",
    "            node = node.next\n",
    "        else :\n",
    "            snode = node.next\n",
    "            node.next = snode.next\n",
    "            del snode\n",
    "        ls.append(node.data)\n",
    "    return head"
   ]
  },
  {
   "cell_type": "code",
   "execution_count": null,
   "metadata": {},
   "outputs": [],
   "source": []
  }
 ],
 "metadata": {
  "kernelspec": {
   "display_name": "Python 3",
   "language": "python",
   "name": "python3"
  },
  "language_info": {
   "codemirror_mode": {
    "name": "ipython",
    "version": 3
   },
   "file_extension": ".py",
   "mimetype": "text/x-python",
   "name": "python",
   "nbconvert_exporter": "python",
   "pygments_lexer": "ipython3",
   "version": "3.7.6"
  }
 },
 "nbformat": 4,
 "nbformat_minor": 4
}

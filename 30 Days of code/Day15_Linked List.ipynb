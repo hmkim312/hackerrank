{
 "cells": [
  {
   "cell_type": "markdown",
   "metadata": {},
   "source": [
    "- Objective\n",
    "    - Today we're working with Linked Lists. Check out the Tutorial tab for learning materials and an instructional video!\n",
    "\n",
    "    - A Node class is provided for you in the editor. A Node object has an integer data field, data, and a Node instance pointer, next, pointing to another node (i.e.: the next node in a list).\n",
    "\n",
    "    - A Node insert function is also declared in your editor. It has two parameters: a pointer, head, pointing to the first node of a linked list, and an integer data value that must be added to the end of the list as a new Node object.\n",
    "\n",
    "- Task\n",
    "    - Complete the insert function in your editor so that it creates a new Node (pass data as the Node constructor argument) and inserts it at the tail of the linked list referenced by the head parameter. Once the new node is added, return the reference to the head node.\n",
    "\n",
    "- Note: If the head argument passed to the insert function is null, then the initial list is empty.\n",
    "\n",
    "- Input Format\n",
    "    - The insert function has 2 parameters: a pointer to a Node named head, and an integer value, data.\n",
    "    - The constructor for Node has 1 parameter: an integer value for the data field.\n",
    "    - You do not need to read anything from stdin.\n",
    "\n",
    "- Output Format\n",
    "    - Your insert function should return a reference to the head node of the linked list."
   ]
  },
  {
   "cell_type": "code",
   "execution_count": null,
   "metadata": {},
   "outputs": [],
   "source": [
    "class Node:\n",
    "    def __init__(self,data):\n",
    "        self.data = data\n",
    "        self.next = None \n",
    "class Solution: \n",
    "    def display(self,head):\n",
    "        current = head\n",
    "        while current:\n",
    "            print(current.data,end=' ')\n",
    "            current = current.next\n",
    "\n",
    "    def insert(self,head,data):\n",
    "        newnode = Node(data)\n",
    "        if not head:\n",
    "            return newnode\n",
    "        else:\n",
    "            current = head\n",
    "            while(current.next):\n",
    "                current = current.next\n",
    "            current.next = newnode\n",
    "        return head"
   ]
  }
 ],
 "metadata": {
  "kernelspec": {
   "display_name": "Python 3",
   "language": "python",
   "name": "python3"
  },
  "language_info": {
   "codemirror_mode": {
    "name": "ipython",
    "version": 3
   },
   "file_extension": ".py",
   "mimetype": "text/x-python",
   "name": "python",
   "nbconvert_exporter": "python",
   "pygments_lexer": "ipython3",
   "version": "3.7.6"
  }
 },
 "nbformat": 4,
 "nbformat_minor": 4
}

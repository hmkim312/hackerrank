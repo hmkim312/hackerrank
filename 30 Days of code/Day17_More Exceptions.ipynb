{
 "cells": [
  {
   "cell_type": "markdown",
   "metadata": {},
   "source": [
    "- Objective\n",
    "    - Yesterday's challenge taught you to manage exceptional situations by using try and catch blocks. In today's challenge, you're going to practice throwing and propagating an exception. Check out the Tutorial tab for learning materials and an instructional video!\n",
    "\n",
    "- Task\n",
    "    - Write a Calculator class with a single method: int power(int,int). The power method takes two integers, n and p, as parameters and returns the integer result of n^p. If either n or p is negative, then the method must throw an exception with the message: n and p should be non-negative.\n",
    "\n",
    "- Note: Do not use an access modifier (e.g.: public) in the declaration for your Calculator class.\n",
    "\n",
    "- Input Format\n",
    "    - Input from stdin is handled for you by the locked stub code in your editor. The first line contains an integer, T, the number of test cases. Each of the T subsequent lines describes a test case in 2 space-separated integers denoting n and p, respectively.\n",
    "\n",
    "- Constraints\n",
    "    - No Test Case will result in overflow for correctly written code.\n",
    "    \n",
    "- Output Format\n",
    "    - Output to stdout is handled for you by the locked stub code in your editor. There are T lines of output, where each line contains the result of n^p as calculated by your Calculator class' power method."
   ]
  },
  {
   "cell_type": "markdown",
   "metadata": {},
   "source": [
    "#### 문제풀이\n",
    "- n과 p가 주어지고, n과 p가 모두 0보다 크면(둘중에 하나가 0보다 작다면 false) n ** p를 리턴\n",
    "- false라면 에러를 생성 (raise Exception(\"n and p should be non-negative\"))"
   ]
  },
  {
   "cell_type": "code",
   "execution_count": 3,
   "metadata": {
    "execution": {
     "iopub.execute_input": "2020-07-13T03:01:04.188508Z",
     "iopub.status.busy": "2020-07-13T03:01:04.188508Z",
     "iopub.status.idle": "2020-07-13T03:01:04.193363Z",
     "shell.execute_reply": "2020-07-13T03:01:04.193363Z",
     "shell.execute_reply.started": "2020-07-13T03:01:04.188508Z"
    }
   },
   "outputs": [],
   "source": [
    "class Calculator:\n",
    "    def power(self, n, p):\n",
    "        if n >= 0 and p >= 0:\n",
    "            return n ** p\n",
    "        else:\n",
    "            raise Exception(\"n and p should be non-negative\")"
   ]
  },
  {
   "cell_type": "code",
   "execution_count": 5,
   "metadata": {
    "execution": {
     "iopub.execute_input": "2020-07-13T03:01:08.212620Z",
     "iopub.status.busy": "2020-07-13T03:01:08.212620Z",
     "iopub.status.idle": "2020-07-13T03:01:16.525316Z",
     "shell.execute_reply": "2020-07-13T03:01:16.525316Z",
     "shell.execute_reply.started": "2020-07-13T03:01:08.212620Z"
    }
   },
   "outputs": [
    {
     "name": "stdin",
     "output_type": "stream",
     "text": [
      " 4\n",
      " 10 0\n"
     ]
    },
    {
     "name": "stdout",
     "output_type": "stream",
     "text": [
      "1\n"
     ]
    },
    {
     "name": "stdin",
     "output_type": "stream",
     "text": [
      " 0 10\n"
     ]
    },
    {
     "name": "stdout",
     "output_type": "stream",
     "text": [
      "0\n"
     ]
    },
    {
     "name": "stdin",
     "output_type": "stream",
     "text": [
      " -1 -3\n"
     ]
    },
    {
     "name": "stdout",
     "output_type": "stream",
     "text": [
      "n and p should be non-negative\n"
     ]
    },
    {
     "name": "stdin",
     "output_type": "stream",
     "text": [
      " 1 -3\n"
     ]
    },
    {
     "name": "stdout",
     "output_type": "stream",
     "text": [
      "n and p should be non-negative\n"
     ]
    }
   ],
   "source": [
    "myCalculator=Calculator()\n",
    "T=int(input())\n",
    "for i in range(T):\n",
    "    n,p = map(int, input().split())\n",
    "    try:\n",
    "        ans=myCalculator.power(n,p)\n",
    "        print(ans)\n",
    "    except Exception as e:\n",
    "        print(e)   "
   ]
  },
  {
   "cell_type": "code",
   "execution_count": null,
   "metadata": {},
   "outputs": [],
   "source": []
  }
 ],
 "metadata": {
  "kernelspec": {
   "display_name": "Python 3",
   "language": "python",
   "name": "python3"
  },
  "language_info": {
   "codemirror_mode": {
    "name": "ipython",
    "version": 3
   },
   "file_extension": ".py",
   "mimetype": "text/x-python",
   "name": "python",
   "nbconvert_exporter": "python",
   "pygments_lexer": "ipython3",
   "version": "3.7.6"
  }
 },
 "nbformat": 4,
 "nbformat_minor": 4
}

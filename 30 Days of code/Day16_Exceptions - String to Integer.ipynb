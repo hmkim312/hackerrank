{
 "cells": [
  {
   "cell_type": "markdown",
   "metadata": {},
   "source": [
    "- Objective\n",
    "    - Today, we're getting started with Exceptions by learning how to parse an integer from a string and print a custom error message. Check out the Tutorial tab for learning materials and an instructional video!\n",
    "\n",
    "- Task\n",
    "    - Read a string, S, and print its integer value; if S cannot be converted to an integer, print Bad String.\n",
    "\n",
    "- Note: You must use the String-to-Integer and exception handling constructs built into your submission language. If you attempt to use loops/conditional statements, you will get a 0 score.\n",
    "\n",
    "- Input Format\n",
    "    - A single string, S.\n",
    "\n",
    "- Constraints\n",
    "    - 1 <= |S| <= 6, where |S| is the length of string .\n",
    "    - S is composed of either lowercase letters (a-z) or decimal digits (0-9).\n",
    "- Output Format\n",
    "    - Print the parsed integer value of S, or Bad String if S cannot be converted to an integer."
   ]
  },
  {
   "cell_type": "markdown",
   "metadata": {},
   "source": [
    "#### 문제풀이\n",
    "- 입력되는 S가 문자형이면 Bad String, 숫자형이면 숫자를 출력하는 내용\n",
    "- int형으로 변환되면 그대로 출력, 안되면 Bad String을 출력하는 코드를 짬"
   ]
  },
  {
   "cell_type": "code",
   "execution_count": 2,
   "metadata": {
    "execution": {
     "iopub.execute_input": "2020-07-09T23:52:34.858525Z",
     "iopub.status.busy": "2020-07-09T23:52:34.857528Z",
     "iopub.status.idle": "2020-07-09T23:52:35.886270Z",
     "shell.execute_reply": "2020-07-09T23:52:35.884272Z",
     "shell.execute_reply.started": "2020-07-09T23:52:34.858525Z"
    }
   },
   "outputs": [
    {
     "name": "stdin",
     "output_type": "stream",
     "text": [
      " 3\n"
     ]
    },
    {
     "name": "stdout",
     "output_type": "stream",
     "text": [
      "3\n"
     ]
    }
   ],
   "source": [
    "#!/bin/python3\n",
    "\n",
    "import sys\n",
    "\n",
    "\n",
    "S = input().strip()\n",
    "try :\n",
    "    print(int(S))\n",
    "except:\n",
    "    print('Bad String')"
   ]
  },
  {
   "cell_type": "code",
   "execution_count": null,
   "metadata": {},
   "outputs": [],
   "source": []
  }
 ],
 "metadata": {
  "kernelspec": {
   "display_name": "Python 3",
   "language": "python",
   "name": "python3"
  },
  "language_info": {
   "codemirror_mode": {
    "name": "ipython",
    "version": 3
   },
   "file_extension": ".py",
   "mimetype": "text/x-python",
   "name": "python",
   "nbconvert_exporter": "python",
   "pygments_lexer": "ipython3",
   "version": "3.7.6"
  }
 },
 "nbformat": 4,
 "nbformat_minor": 4
}

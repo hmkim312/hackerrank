{
 "cells": [
  {
   "cell_type": "markdown",
   "metadata": {},
   "source": [
    "- This problem is all about unit testing.\n",
    "- Your company needs a function that meets the following requirements:\n",
    "    - For a given array of n integers, the function returns the index of the element with the minimum value in the array. If there is more than one element with the minimum value, the returned index should be the smallest one.\n",
    "    - If an empty array is passed to the function, it should raise an Exception.\n",
    "- Note: The arrays are indexed from 0.\n",
    "\n",
    "- A colleague has written that function, and your task is to design 3 separated unit tests, testing if the function behaves correctly. The implementation in Python is listed below (Implementations in other languages can be found in the code template):\n",
    "\n",
    "```\n",
    "def minimum_index(seq):\n",
    "    if len(seq) == 0:\n",
    "        raise ValueError(\"Cannot get the minimum value index from an empty sequence\")\n",
    "    min_idx = 0\n",
    "    for i in range(1, len(seq)):\n",
    "        if a[i] < a[min_idx]:\n",
    "            min_idx = i\n",
    "    return min_idx\n",
    "```\n",
    "\n",
    "- Another co-worker has prepared functions that will perform the testing and validate returned results with expectations. Your task is to implement 3 classes that will produce test data and the expected results for the testing functions. More specifically: function get_array() in TestDataEmptyArray class and functions get_array() and get_expected_result() in classes TestDataUniqueValues and TestDataExactlyTwoDifferentMinimums following the below specifications:\n",
    "    - get_array() method in class TestDataEmptyArray has to return an empty array.\n",
    "    - get_array() method in class TestDataUniqueValues has to return an array of size at least 2 with all unique elements, while method get_expected_result() of this class has to return the expected minimum value index for this array.\n",
    "    - get_array() method in class TestDataExactlyTwoDifferentMinimums has to return an array where there are exactly two different minimum values, while method get_expected_result() of this class has to return the expected minimum value index for this array.\n",
    "- Take a look at the code template to see the exact implementation of functions that your colleagues already implemented."
   ]
  },
  {
   "cell_type": "code",
   "execution_count": 3,
   "metadata": {
    "execution": {
     "iopub.execute_input": "2020-07-21T05:03:42.177409Z",
     "iopub.status.busy": "2020-07-21T05:03:42.177409Z",
     "iopub.status.idle": "2020-07-21T05:03:42.185218Z",
     "shell.execute_reply": "2020-07-21T05:03:42.185218Z",
     "shell.execute_reply.started": "2020-07-21T05:03:42.177409Z"
    }
   },
   "outputs": [],
   "source": [
    "class TestDataEmptyArray(object):\n",
    "    \n",
    "    @staticmethod\n",
    "    def get_array():\n",
    "        # complete this function\n",
    "        return []\n",
    "\n",
    "class TestDataUniqueValues(object):\n",
    "    ls = []\n",
    "    for i in range(5):\n",
    "        ls.append(i)\n",
    "    ls[::-1] \n",
    "    @staticmethod\n",
    "    def get_array():\n",
    "        # complete this function\n",
    "        return TestDataUniqueValues.ls\n",
    "    @staticmethod\n",
    "    def get_expected_result():\n",
    "        # complete this function\n",
    "        data = TestDataUniqueValues.get_array()\n",
    "        return data.index(min(data))\n",
    "class TestDataExactlyTwoDifferentMinimums(object):\n",
    "    ls = []\n",
    "    for i in range(5):\n",
    "        ls.append(i)\n",
    "    ls[::-1] \n",
    "    ls.insert(0,0)\n",
    "    @staticmethod\n",
    "    def get_array():\n",
    "        # complete this function\n",
    "        return TestDataExactlyTwoDifferentMinimums.ls\n",
    "    @staticmethod\n",
    "    def get_expected_result():\n",
    "        data = TestDataExactlyTwoDifferentMinimums.get_array()\n",
    "        return data.index(min(data))"
   ]
  },
  {
   "cell_type": "code",
   "execution_count": null,
   "metadata": {},
   "outputs": [],
   "source": []
  }
 ],
 "metadata": {
  "kernelspec": {
   "display_name": "Python 3",
   "language": "python",
   "name": "python3"
  },
  "language_info": {
   "codemirror_mode": {
    "name": "ipython",
    "version": 3
   },
   "file_extension": ".py",
   "mimetype": "text/x-python",
   "name": "python",
   "nbconvert_exporter": "python",
   "pygments_lexer": "ipython3",
   "version": "3.7.6"
  }
 },
 "nbformat": 4,
 "nbformat_minor": 4
}

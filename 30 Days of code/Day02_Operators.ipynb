{
 "cells": [
  {
   "cell_type": "markdown",
   "metadata": {},
   "source": [
    "- Objective\n",
    "    - In this challenge, you'll work with arithmetic operators. Check out the Tutorial tab for learning materials and an instructional video!\n",
    "\n",
    "- Task\n",
    "    - Given the meal price (base cost of a meal), tip percent (the percentage of the meal price being added as tip), and tax percent (the percentage of the meal price being added as tax) for a meal, find and print the meal's total cost.\n",
    "\n",
    "- Note\n",
    "    - Be sure to use precise values for your calculations, or you may end up with an incorrectly rounded result!\n",
    "\n",
    "- Input Format\n",
    "    - There are 3 lines of numeric input:\n",
    "    - The first line has a double,  mealcost (the cost of the meal before tax and tip).\n",
    "    - The second line has an integer, tippercent (the percentage of mealcost being added as tip).\n",
    "    - The third line has an integer, taxpercent (the percentage of mealcost being added as tax).\n",
    "\n",
    "- Output Format\n",
    "    - Print the total meal cost, where totalcost is the rounded integer result of the entire bill (mealcost with added tax and tip)."
   ]
  },
  {
   "cell_type": "code",
   "execution_count": 7,
   "metadata": {
    "execution": {
     "iopub.execute_input": "2020-06-25T16:15:17.210733Z",
     "iopub.status.busy": "2020-06-25T16:15:17.209728Z",
     "iopub.status.idle": "2020-06-25T16:15:17.215694Z",
     "shell.execute_reply": "2020-06-25T16:15:17.215694Z",
     "shell.execute_reply.started": "2020-06-25T16:15:17.210733Z"
    }
   },
   "outputs": [],
   "source": [
    "import math\n",
    "import os\n",
    "import random\n",
    "import re\n",
    "import sys\n",
    "\n",
    "# Complete the solve function below.\n",
    "def solve(meal_cost, tip_percent, tax_percent):\n",
    "    totalcost = round((meal_cost) + (meal_cost *(tip_percent / 100)) + (meal_cost *(tax_percent / 100)))\n",
    "    print(totalcost)"
   ]
  },
  {
   "cell_type": "code",
   "execution_count": 8,
   "metadata": {
    "execution": {
     "iopub.execute_input": "2020-06-25T16:15:17.794746Z",
     "iopub.status.busy": "2020-06-25T16:15:17.794746Z",
     "iopub.status.idle": "2020-06-25T16:15:17.798701Z",
     "shell.execute_reply": "2020-06-25T16:15:17.797750Z",
     "shell.execute_reply.started": "2020-06-25T16:15:17.794746Z"
    }
   },
   "outputs": [
    {
     "name": "stdout",
     "output_type": "stream",
     "text": [
      "15\n"
     ]
    }
   ],
   "source": [
    "meal_cost = 12\n",
    "tip_percent = 20\n",
    "tax_percent = 8\n",
    "solve(meal_cost, tip_percent, tax_percent)"
   ]
  },
  {
   "cell_type": "code",
   "execution_count": null,
   "metadata": {},
   "outputs": [],
   "source": []
  }
 ],
 "metadata": {
  "kernelspec": {
   "display_name": "Python 3",
   "language": "python",
   "name": "python3"
  },
  "language_info": {
   "codemirror_mode": {
    "name": "ipython",
    "version": 3
   },
   "file_extension": ".py",
   "mimetype": "text/x-python",
   "name": "python",
   "nbconvert_exporter": "python",
   "pygments_lexer": "ipython3",
   "version": "3.7.6"
  }
 },
 "nbformat": 4,
 "nbformat_minor": 4
}

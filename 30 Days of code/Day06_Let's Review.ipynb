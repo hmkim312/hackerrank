{
 "cells": [
  {
   "cell_type": "markdown",
   "metadata": {},
   "source": [
    "- Objective\n",
    "    - Today we're expanding our knowledge of Strings and combining it with what we've already learned about loops. Check out the Tutorial tab for learning materials and an instructional video!\n",
    "\n",
    "- Task\n",
    "    - Given a string, S, of length N that is indexed from 0 to N-1, print its even-indexed and odd-indexed characters as  space-separated strings on a single line (see the Sample below for more detail).\n",
    "\n",
    "- Note: 0 is considered to be an even index.\n",
    "\n",
    "- Input Format\n",
    "    - The first line contains an integer, T (the number of test cases).\n",
    "    - Each line i of the T subsequent lines contain a String, S.\n",
    "\n",
    "- Constraints\n",
    "    - 1 <= T <= 10\n",
    "    - 2 <= lenthofs <= 10000\n",
    "\n",
    "- Output Format\n",
    "    - For each String Si (where 0 <= j <= T - 1 ), print Si's even-indexed characters, followed by a space, followed by Si's odd-indexed characters."
   ]
  },
  {
   "cell_type": "code",
   "execution_count": 1,
   "metadata": {
    "execution": {
     "iopub.execute_input": "2020-06-30T07:01:00.930740Z",
     "iopub.status.busy": "2020-06-30T07:01:00.929070Z",
     "iopub.status.idle": "2020-06-30T07:08:01.503468Z",
     "shell.execute_reply": "2020-06-30T07:08:01.501209Z",
     "shell.execute_reply.started": "2020-06-30T07:01:00.930660Z"
    }
   },
   "outputs": [
    {
     "name": "stdin",
     "output_type": "stream",
     "text": [
      " 3\n",
      " hi\n"
     ]
    },
    {
     "name": "stdout",
     "output_type": "stream",
     "text": [
      "h i\n"
     ]
    },
    {
     "name": "stdin",
     "output_type": "stream",
     "text": [
      " hyunmin\n"
     ]
    },
    {
     "name": "stdout",
     "output_type": "stream",
     "text": [
      "humn yni\n"
     ]
    },
    {
     "name": "stdin",
     "output_type": "stream",
     "text": [
      " sdjkasld\n"
     ]
    },
    {
     "name": "stdout",
     "output_type": "stream",
     "text": [
      "sjal dksd\n"
     ]
    }
   ],
   "source": [
    "t = int(input())\n",
    "for i in range(t):\n",
    "    s = input()\n",
    "    a, b= s[::2], s[1::2]\n",
    "    print(a, b)"
   ]
  },
  {
   "cell_type": "code",
   "execution_count": null,
   "metadata": {},
   "outputs": [],
   "source": []
  }
 ],
 "metadata": {
  "kernelspec": {
   "display_name": "Python 3",
   "language": "python",
   "name": "python3"
  },
  "language_info": {
   "codemirror_mode": {
    "name": "ipython",
    "version": 3
   },
   "file_extension": ".py",
   "mimetype": "text/x-python",
   "name": "python",
   "nbconvert_exporter": "python",
   "pygments_lexer": "ipython3",
   "version": "3.7.6"
  }
 },
 "nbformat": 4,
 "nbformat_minor": 4
}

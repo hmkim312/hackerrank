{
 "cells": [
  {
   "cell_type": "markdown",
   "metadata": {},
   "source": [
    "- Objective\n",
    "    - Today, we're going further with Binary Search Trees. Check out the Tutorial tab for learning materials and an instructional video!\n",
    "\n",
    "- Task\n",
    "    - A level-order traversal, also known as a breadth-first search, visits each level of a tree's nodes from left to right, top to bottom. You are given a pointer, root, pointing to the root of a binary search tree. Complete the levelOrder function provided in your editor so that it prints the level-order traversal of the binary search tree.\n",
    "\n",
    "- Hint: You'll find a queue helpful in completing this challenge.\n",
    "\n",
    "- Input Format\n",
    "    - The locked stub code in your editor reads the following inputs and assembles them into a BST:\n",
    "    - The first line contains an integer, T (the number of test cases).\n",
    "    - The T subsequent lines each contain an integer, data, denoting the value of an element that must be added to the BST.\n",
    "\n",
    "- Output Format\n",
    "    - Print the data value of each node in the tree's level-order traversal as a single line of N space-separated integers."
   ]
  },
  {
   "cell_type": "code",
   "execution_count": 2,
   "metadata": {
    "execution": {
     "iopub.execute_input": "2020-07-17T02:46:14.588011Z",
     "iopub.status.busy": "2020-07-17T02:46:14.587037Z",
     "iopub.status.idle": "2020-07-17T02:46:14.595820Z",
     "shell.execute_reply": "2020-07-17T02:46:14.595820Z",
     "shell.execute_reply.started": "2020-07-17T02:46:14.587037Z"
    }
   },
   "outputs": [],
   "source": [
    "import sys\n",
    "\n",
    "class Node:\n",
    "    def __init__(self,data):\n",
    "        self.right=self.left=None\n",
    "        self.data = data\n",
    "class Solution:\n",
    "    def insert(self,root,data):\n",
    "        if root==None:\n",
    "            return Node(data)\n",
    "        else:\n",
    "            if data<=root.data:\n",
    "                cur=self.insert(root.left,data)\n",
    "                root.left=cur\n",
    "            else:\n",
    "                cur=self.insert(root.right,data)\n",
    "                root.right=cur\n",
    "        return root\n",
    "\n",
    "    def levelOrder(self,root):\n",
    "        #Write your code here\n",
    "        queue = [root]\n",
    "        while queue:\n",
    "            node = queue.pop()\n",
    "            print(node.data, end =' ')\n",
    "\n",
    "            if node.left:\n",
    "                queue.insert(False, node.left)\n",
    "            if node.right:\n",
    "                queue.insert(False, node.right)"
   ]
  }
 ],
 "metadata": {
  "kernelspec": {
   "display_name": "Python 3",
   "language": "python",
   "name": "python3"
  },
  "language_info": {
   "codemirror_mode": {
    "name": "ipython",
    "version": 3
   },
   "file_extension": ".py",
   "mimetype": "text/x-python",
   "name": "python",
   "nbconvert_exporter": "python",
   "pygments_lexer": "ipython3",
   "version": "3.7.6"
  }
 },
 "nbformat": 4,
 "nbformat_minor": 4
}

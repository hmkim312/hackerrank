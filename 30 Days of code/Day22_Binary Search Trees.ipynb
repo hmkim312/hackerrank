{
 "cells": [
  {
   "cell_type": "markdown",
   "metadata": {},
   "source": [
    "- Objective\n",
    "    - Today, we're working with Binary Search Trees (BSTs). Check out the Tutorial tab for learning materials and an instructional video!\n",
    "\n",
    "- Task\n",
    "    - The height of a binary search tree is the number of edges between the tree's root and its furthest leaf. You are given a pointer, root, pointing to the root of a binary search tree. Complete the getHeight function provided in your editor so that it returns the height of the binary search tree.\n",
    "\n",
    "- Input Format\n",
    "    - The locked stub code in your editor reads the following inputs and assembles them into a binary search tree:\n",
    "    - The first line contains an integer, n, denoting the number of nodes in the tree.\n",
    "    - Each of the  subsequent lines contains an integer, data, denoting the value of an element that must be added to the BST.\n",
    "\n",
    "- Output Format\n",
    "    - The locked stub code in your editor will print the integer returned by your getHeight function denoting the height of the BST."
   ]
  },
  {
   "cell_type": "markdown",
   "metadata": {
    "execution": {
     "iopub.execute_input": "2020-07-16T00:13:22.320606Z",
     "iopub.status.busy": "2020-07-16T00:13:22.319627Z",
     "iopub.status.idle": "2020-07-16T00:13:22.329393Z",
     "shell.execute_reply": "2020-07-16T00:13:22.328410Z",
     "shell.execute_reply.started": "2020-07-16T00:13:22.320606Z"
    }
   },
   "source": [
    "#### 문제풀이\n",
    "- 주어진 root값을 시작으로 왼쪽, 오른쪽으로 크고 작은 값을 넣는 이진트리에 관련된 문제였다.\n",
    "- 사실 이진트리가 무엇인지 제대로 알지못해 문제는 푸는데 조금 어려움이 있었고, 구글링 결과 어느정도 개념은 잡을수 있었다.\n",
    "- 다행히 hackerrank에서 주어지는 문제는 node의 height를 구하는 문제였으며, 나머지 구조들은 대부분 이미 짜여져있는 상태였다.\n",
    "- 해당 문제에서 root는 height로 취급하지 않는다.\n",
    "- root가 none이면 Node 클래스를 생성하여 data를 받고, 이후에 주어지는 인자들이 data보다 작으면 왼쪽으로, 크면 오른쪽으로 가는 형식으로 되어있다.\n",
    "- getHeight는 왼쪽데이터와 오른쪽 데이터를 비교하여 더 큰쪽에 1씩 더해주어 height를 만들어내는 함수이다.\n",
    "- 22일차가 되니 점점 알고리즘이 어려워져서 사실 잘 이해가 가지않는 부분이 있어 학습하는데 애를 먹었다.\n",
    "- 이러한 알고리즘이 있다는것을 알게 되었으니, 반복 학습이 필요할듯 싶다."
   ]
  },
  {
   "cell_type": "code",
   "execution_count": 2,
   "metadata": {
    "execution": {
     "iopub.execute_input": "2020-07-15T23:29:04.214116Z",
     "iopub.status.busy": "2020-07-15T23:29:04.213113Z",
     "iopub.status.idle": "2020-07-15T23:29:04.220920Z",
     "shell.execute_reply": "2020-07-15T23:29:04.219956Z",
     "shell.execute_reply.started": "2020-07-15T23:29:04.214116Z"
    }
   },
   "outputs": [],
   "source": [
    "class Node:\n",
    "    def __init__(self,data):\n",
    "        self.right=self.left=None\n",
    "        self.data = data\n",
    "class Solution:\n",
    "    def insert(self,root,data):\n",
    "        if root==None:\n",
    "            return Node(data)\n",
    "        else:\n",
    "            if data<=root.data:\n",
    "                cur=self.insert(root.left,data)\n",
    "                root.left=cur\n",
    "            else:\n",
    "                cur=self.insert(root.right,data)\n",
    "                root.right=cur\n",
    "        return root\n",
    "\n",
    "    def getHeight(self,root):\n",
    "        if root:\n",
    "            leftnode = self.getHeight(root.left)\n",
    "            rightnode = self.getHeight(root.right)\n",
    "            \n",
    "            if leftnode > rightnode:\n",
    "                return leftnode + 1\n",
    "            else :\n",
    "                return rightnode + 1\n",
    "        else:\n",
    "            return -1"
   ]
  }
 ],
 "metadata": {
  "kernelspec": {
   "display_name": "Python 3",
   "language": "python",
   "name": "python3"
  },
  "language_info": {
   "codemirror_mode": {
    "name": "ipython",
    "version": 3
   },
   "file_extension": ".py",
   "mimetype": "text/x-python",
   "name": "python",
   "nbconvert_exporter": "python",
   "pygments_lexer": "ipython3",
   "version": "3.7.6"
  }
 },
 "nbformat": 4,
 "nbformat_minor": 4
}

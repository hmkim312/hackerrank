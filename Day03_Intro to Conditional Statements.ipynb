{
 "cells": [
  {
   "cell_type": "markdown",
   "metadata": {},
   "source": [
    "- Objective\n",
    "    - In this challenge, we're getting started with conditional statements. Check out the Tutorial tab for learning materials and an instructional video!\n",
    "\n",
    "- Task\n",
    "    - Given an integer, n , perform the following conditional actions:\n",
    "\n",
    "        - If  is odd, print Weird\n",
    "        - If  is even and in the inclusive range of 2 to 5 , print Not Weird\n",
    "        - If  is even and in the inclusive range of 6 to 20, print Weird\n",
    "        - If  is even and greater than 20, print Not Weird\n",
    "    - Complete the stub code provided in your editor to print whether or not n is weird.\n",
    "\n",
    "- Input Format\n",
    "\n",
    "    - A single line containing a positive integer, n.\n",
    "\n",
    "- Constraints\n",
    "    - 1 <= n <=100\n",
    "- Output Format\n",
    "    - Print Weird if the number is weird; otherwise, print Not Weird."
   ]
  },
  {
   "cell_type": "code",
   "execution_count": 1,
   "metadata": {
    "execution": {
     "iopub.execute_input": "2020-06-27T06:08:44.582829Z",
     "iopub.status.busy": "2020-06-27T06:08:44.582829Z",
     "iopub.status.idle": "2020-06-27T06:08:46.028770Z",
     "shell.execute_reply": "2020-06-27T06:08:46.028770Z",
     "shell.execute_reply.started": "2020-06-27T06:08:44.582829Z"
    }
   },
   "outputs": [
    {
     "name": "stdin",
     "output_type": "stream",
     "text": [
      " 24\n"
     ]
    }
   ],
   "source": [
    "import math\n",
    "import os\n",
    "import random\n",
    "import re\n",
    "import sys\n",
    "\n",
    "if __name__ == '__main__':\n",
    "    N = int(input())"
   ]
  },
  {
   "cell_type": "code",
   "execution_count": 9,
   "metadata": {
    "execution": {
     "iopub.execute_input": "2020-06-27T06:12:01.060111Z",
     "iopub.status.busy": "2020-06-27T06:12:01.060111Z",
     "iopub.status.idle": "2020-06-27T06:12:01.066094Z",
     "shell.execute_reply": "2020-06-27T06:12:01.066094Z",
     "shell.execute_reply.started": "2020-06-27T06:12:01.060111Z"
    }
   },
   "outputs": [
    {
     "name": "stdout",
     "output_type": "stream",
     "text": [
      "Not Weird\n"
     ]
    }
   ],
   "source": [
    "N = 24\n",
    "if N % 2 != 0:\n",
    "    print('Weird')\n",
    "elif N <= 5:\n",
    "    print('Not Weird')\n",
    "elif N <= 20:\n",
    "    print('Weird')\n",
    "else:\n",
    "    print('Not Weird')"
   ]
  },
  {
   "cell_type": "code",
   "execution_count": 10,
   "metadata": {
    "execution": {
     "iopub.execute_input": "2020-06-27T06:12:04.310863Z",
     "iopub.status.busy": "2020-06-27T06:12:04.310863Z",
     "iopub.status.idle": "2020-06-27T06:12:04.315847Z",
     "shell.execute_reply": "2020-06-27T06:12:04.315847Z",
     "shell.execute_reply.started": "2020-06-27T06:12:04.310863Z"
    }
   },
   "outputs": [
    {
     "name": "stdout",
     "output_type": "stream",
     "text": [
      "Weird\n"
     ]
    }
   ],
   "source": [
    "N = 3\n",
    "if N % 2 != 0:\n",
    "    print('Weird')\n",
    "elif N <= 5:\n",
    "    print('Not Weird')\n",
    "elif N <= 20:\n",
    "    print('Weird')\n",
    "else:\n",
    "    print('Not Weird')"
   ]
  },
  {
   "cell_type": "code",
   "execution_count": null,
   "metadata": {},
   "outputs": [],
   "source": []
  }
 ],
 "metadata": {
  "kernelspec": {
   "display_name": "Python 3",
   "language": "python",
   "name": "python3"
  },
  "language_info": {
   "codemirror_mode": {
    "name": "ipython",
    "version": 3
   },
   "file_extension": ".py",
   "mimetype": "text/x-python",
   "name": "python",
   "nbconvert_exporter": "python",
   "pygments_lexer": "ipython3",
   "version": "3.7.6"
  }
 },
 "nbformat": 4,
 "nbformat_minor": 4
}

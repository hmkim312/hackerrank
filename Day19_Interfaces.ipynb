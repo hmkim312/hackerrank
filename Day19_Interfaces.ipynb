{
 "cells": [
  {
   "cell_type": "markdown",
   "metadata": {},
   "source": [
    "- Objective\n",
    "    - Today, we're learning about Interfaces. Check out the Tutorial tab for learning materials and an instructional video!\n",
    "\n",
    "- Task\n",
    "    - The AdvancedArithmetic interface and the method declaration for the abstract divisorSum(n) method are provided for you in the editor below.\n",
    "    - Complete the implementation of Calculator class, which implements the AdvancedArithmetic interface. The implementation for the divisorSum(n) method must return the sum of all divisors of n.\n",
    "\n",
    "- Input Format\n",
    "    - A single line containing an integer, n.\n",
    "\n",
    "- Constraints\n",
    "    - 1 <= n <= 1000\n",
    "\n",
    "- Output Format\n",
    "    - You are not responsible for printing anything to stdout. The locked template code in the editor below will call your code and print the necessary output."
   ]
  },
  {
   "cell_type": "markdown",
   "metadata": {},
   "source": [
    "#### 문제풀이\n",
    "- 주어진 정수 n의 약수를 모두 더하면 된다.\n",
    "- 주어진 수 만큼 for문을 돌고 나누어서 0이되는 i만 더하는 함수를 작성"
   ]
  },
  {
   "cell_type": "code",
   "execution_count": 6,
   "metadata": {
    "execution": {
     "iopub.execute_input": "2020-07-13T11:15:15.360676Z",
     "iopub.status.busy": "2020-07-13T11:15:15.360676Z",
     "iopub.status.idle": "2020-07-13T11:15:15.364698Z",
     "shell.execute_reply": "2020-07-13T11:15:15.364698Z",
     "shell.execute_reply.started": "2020-07-13T11:15:15.360676Z"
    }
   },
   "outputs": [],
   "source": [
    "class AdvancedArithmetic(object):\n",
    "    def divisorSum(n):\n",
    "        raise NotImplementedError\n",
    "\n",
    "    def divisorSum(self, n):\n",
    "        num = 0\n",
    "        for i in range(1, n+1):\n",
    "            if n % i == 0:\n",
    "                num += i\n",
    "        return num"
   ]
  },
  {
   "cell_type": "code",
   "execution_count": null,
   "metadata": {},
   "outputs": [],
   "source": []
  }
 ],
 "metadata": {
  "kernelspec": {
   "display_name": "Python 3",
   "language": "python",
   "name": "python3"
  },
  "language_info": {
   "codemirror_mode": {
    "name": "ipython",
    "version": 3
   },
   "file_extension": ".py",
   "mimetype": "text/x-python",
   "name": "python",
   "nbconvert_exporter": "python",
   "pygments_lexer": "ipython3",
   "version": "3.7.6"
  }
 },
 "nbformat": 4,
 "nbformat_minor": 4
}

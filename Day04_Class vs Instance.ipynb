{
 "cells": [
  {
   "cell_type": "markdown",
   "metadata": {},
   "source": [
    "- Objective\n",
    "    - In this challenge, we're going to learn about the difference between a class and an instance; because this is an Object Oriented concept, it's only enabled in certain languages. Check out the Tutorial tab for learning materials and an instructional video!\n",
    "\n",
    "- Task\n",
    "    - Write a Person class with an instance variable, age , and a constructor that takes an integer, initialAge, as a parameter. The constructor must assign initialAge to age after confirming the argument passed as initialAge is not negative; if a negative argument is passed as initialAge, the constructor should set age to 0 and print Age is not valid, setting age to 0.. In addition, you must write the following instance methods:\n",
    "\n",
    "    - 1. yearPasses() should increase the age instance variable by 1.\n",
    "    - 2. amIOld() should perform the following conditional actions:\n",
    "        - If age < 13, print You are young..\n",
    "        - If  age >= 13 and age < 18, print You are a teenager..\n",
    "        - Otherwise, print You are old..\n",
    "- To help you learn by example and complete this challenge, much of the code is provided for you, but you'll be writing everything in the future. The code that creates each instance of your Person class is in the main method. Don't worry if you don't understand it all quite yet!\n",
    "\n",
    "- Note\n",
    "    - Do not remove or alter the stub code in the editor.\n",
    "\n",
    "- Input Format\n",
    "\n",
    "    - Input is handled for you by the stub code in the editor.\n",
    "\n",
    "    - The first line contains an integer, T (the number of test cases), and the T subsequent lines each contain an integer denoting the age of a Person instance.\n",
    "\n",
    "- Constraints\n",
    "    - 1 <= T <= 4\n",
    "    - -5 <= age <= 30\n",
    "- Output Format\n",
    "    - Complete the method definitions provided in the editor so they meet the specifications outlined above; the code to test your work is already in the editor. If your methods are implemented correctly, each test case will print  or  lines (depending on whether or not a valid initialAge was passed to the constructor)."
   ]
  },
  {
   "cell_type": "code",
   "execution_count": 1,
   "metadata": {
    "execution": {
     "iopub.execute_input": "2020-06-28T08:21:34.107532Z",
     "iopub.status.busy": "2020-06-28T08:21:34.106535Z",
     "iopub.status.idle": "2020-06-28T08:21:34.114512Z",
     "shell.execute_reply": "2020-06-28T08:21:34.114512Z",
     "shell.execute_reply.started": "2020-06-28T08:21:34.107532Z"
    }
   },
   "outputs": [],
   "source": [
    "class Person:\n",
    "    def __init__(self,initialAge):\n",
    "        # Add some more code to run some checks on initialAge\n",
    "        if initialAge > 0:\n",
    "            self.age = initialAge\n",
    "        else :\n",
    "            print('Age is not valid, setting age to 0.')\n",
    "            self.age = 0\n",
    "        \n",
    "    def amIOld(self):\n",
    "        # Do some computations in here and print out the correct statement to the console\n",
    "        if self.age < 13:\n",
    "            print('You are young.')\n",
    "        elif self.age < 18:\n",
    "            print('You are a teenager.')\n",
    "        else:\n",
    "            print('You are old.')\n",
    "    def yearPasses(self):\n",
    "        # Increment the age of the person in here\n",
    "        self.age += 1"
   ]
  },
  {
   "cell_type": "code",
   "execution_count": null,
   "metadata": {},
   "outputs": [],
   "source": []
  }
 ],
 "metadata": {
  "kernelspec": {
   "display_name": "Python 3",
   "language": "python",
   "name": "python3"
  },
  "language_info": {
   "codemirror_mode": {
    "name": "ipython",
    "version": 3
   },
   "file_extension": ".py",
   "mimetype": "text/x-python",
   "name": "python",
   "nbconvert_exporter": "python",
   "pygments_lexer": "ipython3",
   "version": "3.7.6"
  }
 },
 "nbformat": 4,
 "nbformat_minor": 4
}

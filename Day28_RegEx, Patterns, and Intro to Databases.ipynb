{
 "cells": [
  {
   "cell_type": "markdown",
   "metadata": {},
   "source": [
    "- Objective\n",
    "    - Today, we're working with regular expressions. Check out the Tutorial tab for learning materials and an instructional video!\n",
    "\n",
    "- Task\n",
    "    - Consider a database table, Emails, which has the attributes First Name and Email ID. Given N rows of data simulating the Emails table, print an alphabetically-ordered list of people whose email address ends in @gmai.com.\n",
    "\n",
    "- Input Format\n",
    "    - The first line contains an integer, N, total number of rows in the table.\n",
    "    - Each of the N subsequent lines contains 2 space-separated strings denoting a person's first name and email ID, respectively.\n",
    "\n",
    "- Constraints\n",
    "    - 2 <= N <= 30 \n",
    "    - Each of the first names consists of lower case letters [a-z] only.\n",
    "    - Each of the email IDs consists of lower case letters [a-z],@  and  only.\n",
    "    - The length of the first name is no longer than 20.\n",
    "    - The length of the email ID is no longer than 50.\n",
    "\n",
    "- Output Format\n",
    "    - Print an alphabetically-ordered list of first names for every user with a gmail account. Each name must be printed on a new line."
   ]
  },
  {
   "cell_type": "markdown",
   "metadata": {},
   "source": [
    "#### 문제풀이\n",
    "- 정규표현식을 사용해서 이메일의 도메인이 gmail.com인 id만 가져와서 출력\n",
    "- 그냥 emailID에 '@gmail.com' 이 있는지 확인해서 있으면 firstName을 append 시키는것도 가능하지만.. 그냥 정규표현식을 써보긴했다.."
   ]
  },
  {
   "cell_type": "code",
   "execution_count": 92,
   "metadata": {
    "execution": {
     "iopub.execute_input": "2020-07-22T01:02:17.907013Z",
     "iopub.status.busy": "2020-07-22T01:02:17.906043Z",
     "iopub.status.idle": "2020-07-22T01:02:32.239651Z",
     "shell.execute_reply": "2020-07-22T01:02:32.238673Z",
     "shell.execute_reply.started": "2020-07-22T01:02:17.907013Z"
    }
   },
   "outputs": [
    {
     "name": "stdin",
     "output_type": "stream",
     "text": [
      " 2\n",
      " julia julia@julia.me\n",
      " julia sjulia@gmail.com\n"
     ]
    },
    {
     "name": "stdout",
     "output_type": "stream",
     "text": [
      "julia\n"
     ]
    }
   ],
   "source": [
    "import math\n",
    "import os\n",
    "import random\n",
    "import re\n",
    "import sys\n",
    "\n",
    "if __name__ == '__main__':\n",
    "    N = int(input())\n",
    "\n",
    "    firstNamelist = []\n",
    "    for N_itr in range(N):\n",
    "        firstNameEmailID = input().split()\n",
    "\n",
    "        firstName = firstNameEmailID[0]\n",
    "\n",
    "        emailID = firstNameEmailID[1]\n",
    "\n",
    "        emaillist = re.compile('[a-z]+@gmail.com').finditer(emailID)\n",
    "        for email in emaillist:\n",
    "            if len(email.group()) >= 1:\n",
    "                firstNamelist.append(firstName)\n",
    "    firstNamelist = sorted(firstNamelist)\n",
    "    for i in firstNamelist:\n",
    "        print(i)"
   ]
  },
  {
   "cell_type": "code",
   "execution_count": null,
   "metadata": {},
   "outputs": [],
   "source": []
  }
 ],
 "metadata": {
  "kernelspec": {
   "display_name": "Python 3",
   "language": "python",
   "name": "python3"
  },
  "language_info": {
   "codemirror_mode": {
    "name": "ipython",
    "version": 3
   },
   "file_extension": ".py",
   "mimetype": "text/x-python",
   "name": "python",
   "nbconvert_exporter": "python",
   "pygments_lexer": "ipython3",
   "version": "3.7.6"
  }
 },
 "nbformat": 4,
 "nbformat_minor": 4
}

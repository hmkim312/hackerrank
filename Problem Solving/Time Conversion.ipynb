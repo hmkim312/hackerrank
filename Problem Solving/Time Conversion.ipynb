{
 "cells": [
  {
   "cell_type": "markdown",
   "metadata": {},
   "source": [
    "- Given a time in 12-hour AM/PM format, convert it to military (24-hour) time.\n",
    "- Note: Midnight is 12:00:00AM on a 12-hour clock, and 00:00:00 on a 24-hour clock. Noon is 12:00:00PM on a 12-hour clock, and 12:00:00 on a 24-hour clock.\n",
    "\n",
    "- Function Description\n",
    "    - Complete the timeConversion function in the editor below. It should return a new string representing the input time in 24 hour format.\n",
    "\n",
    "- timeConversion has the following parameter(s):\n",
    "    - s: a string representing time in 12 hour format\n",
    "    \n",
    "- Input Format\n",
    "    - A single string s containing a time in 12-hour clock format (i.e.: hh:mm:ssAM or hh:mm:ssPM), where 01 <= hh <= 12 and 00<= mm,ss <= 59.\n",
    "\n",
    "- Constraints\n",
    "    - All input times are valid\n",
    "    \n",
    "- Output Format\n",
    "    - Convert and print the given time in 24-hour format, where 00 <= hh <= 23."
   ]
  },
  {
   "cell_type": "markdown",
   "metadata": {},
   "source": [
    "#### 문제 풀이\n",
    "- 12시간 형식 hh:mm:ssAM or hh:mm:ssPM 으로 되어있는 날짜 타입을 24시간 형식으로 바꾸는 함수 작성\n",
    "- 파이썬에는 datetime 모듈로 해결하면됨\n",
    "- 12시간 형식이 저장된 s를 받고, datetime 형식으로 변경 뒤, H:M:S 형식을 리턴"
   ]
  },
  {
   "cell_type": "code",
   "execution_count": null,
   "metadata": {
    "execution": {
     "iopub.execute_input": "2020-07-31T07:52:30.740284Z",
     "iopub.status.busy": "2020-07-31T07:52:30.740284Z",
     "iopub.status.idle": "2020-07-31T07:52:30.768238Z",
     "shell.execute_reply": "2020-07-31T07:52:30.767056Z",
     "shell.execute_reply.started": "2020-07-31T07:52:30.740284Z"
    }
   },
   "outputs": [],
   "source": [
    "#!/bin/python3\n",
    "\n",
    "import os\n",
    "import sys\n",
    "from datetime import *\n",
    "#\n",
    "# Complete the timeConversion function below.\n",
    "#\n",
    "def timeConversion(s):\n",
    "    #\n",
    "    # Write your code here.\n",
    "    #\n",
    "    m2 = datetime.strptime(s, '%I:%M:%S%p')\n",
    "    return m2.strftime('%H:%M:%S')\n",
    "         \n",
    "\n",
    "if __name__ == '__main__':\n",
    "    f = open(os.environ['OUTPUT_PATH'], 'w')\n",
    "\n",
    "    s = input()\n",
    "\n",
    "    result = timeConversion(s)\n",
    "\n",
    "    f.write(result + '\\n')\n",
    "\n",
    "    f.close()"
   ]
  },
  {
   "cell_type": "code",
   "execution_count": null,
   "metadata": {},
   "outputs": [],
   "source": []
  }
 ],
 "metadata": {
  "kernelspec": {
   "display_name": "Python 3",
   "language": "python",
   "name": "python3"
  },
  "language_info": {
   "codemirror_mode": {
    "name": "ipython",
    "version": 3
   },
   "file_extension": ".py",
   "mimetype": "text/x-python",
   "name": "python",
   "nbconvert_exporter": "python",
   "pygments_lexer": "ipython3",
   "version": "3.7.6"
  }
 },
 "nbformat": 4,
 "nbformat_minor": 4
}

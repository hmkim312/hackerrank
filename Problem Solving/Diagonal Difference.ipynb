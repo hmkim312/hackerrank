{
 "cells": [
  {
   "cell_type": "markdown",
   "metadata": {},
   "source": [
    "- Given a square matrix, calculate the absolute difference between the sums of its diagonals.\n",
    "\n",
    "- For example, the square matrix arr is shown below:\n",
    "```\n",
    "1 2 3\n",
    "4 5 6\n",
    "9 8 9 \n",
    "```\n",
    "- The left-to-right diagonal = 1 + 5 + 9 = 15. The right to left diagonal = 3 + 5 + 9 = 17. Their absolute difference is |15 - 17| = 2.\n",
    "\n",
    "- Function description\n",
    "    - Complete the diagonalDifference function in the editor below.\n",
    "    - diagonalDifference takes the following parameter:\n",
    "    - int arr[n][m]: an array of integers\n",
    "    \n",
    "- Return\n",
    "    - int: the absolute diagonal difference\n",
    "\n",
    "- Input Format\n",
    "    - The first line contains a single integer, n, the number of rows and columns in the square matrix arr.\n",
    "    - Each of the next n lines describes a row, arr[i], and consists of n space-separated integers arr[i][j].\n",
    "\n",
    "- Constraints\n",
    "    - -100 <= arr[i][j] <= 100\n",
    "\n",
    "- Output Format\n",
    "    - Return the absolute difference between the sums of the matrix's two diagonals as a single integer."
   ]
  },
  {
   "cell_type": "markdown",
   "metadata": {},
   "source": [
    "#### 문제풀이\n",
    "- 정방행렬이 주어지고, 해당 행렬을 대각선 방향으로 다 더한 원소들끼리의 차를 절대값으로 뱉는 함수를 작성\n",
    "- 정방행렬이니 arr[1][1], arr[2][2] 처럼 같은 숫자의 위치를 더하면됨, 반대쪽 행렬은 arr[0][-1], arr[1][-2] 처럼 뒤의 숫자만 -1씩 더해짐\n",
    "- 위의 설명을 for문을 이용하여 코드로 작성 "
   ]
  },
  {
   "cell_type": "code",
   "execution_count": 25,
   "metadata": {
    "execution": {
     "iopub.execute_input": "2020-07-31T02:12:36.734736Z",
     "iopub.status.busy": "2020-07-31T02:12:36.733759Z",
     "iopub.status.idle": "2020-07-31T02:12:36.758163Z",
     "shell.execute_reply": "2020-07-31T02:12:36.757184Z",
     "shell.execute_reply.started": "2020-07-31T02:12:36.734736Z"
    }
   },
   "outputs": [
    {
     "data": {
      "text/plain": [
       "15"
      ]
     },
     "execution_count": 25,
     "metadata": {},
     "output_type": "execute_result"
    }
   ],
   "source": [
    "def diagonalDifference(arr):\n",
    "    a = 0\n",
    "    b = 0\n",
    "    for i in range(len(arr)):\n",
    "        a += arr[i][i]\n",
    "        b += arr[i][-(i+1)]\n",
    "\n",
    "    return abs(a - b)\n",
    "if __name__ == '__main__':\n",
    "    fptr = open(os.environ['OUTPUT_PATH'], 'w')\n",
    "\n",
    "    n = int(input().strip())\n",
    "\n",
    "    arr = []\n",
    "\n",
    "    for _ in range(n):\n",
    "        arr.append(list(map(int, input().rstrip().split())))\n",
    "\n",
    "    result = diagonalDifference(arr)\n",
    "\n",
    "    fptr.write(str(result) + '\\n')\n",
    "\n",
    "    fptr.close()"
   ]
  },
  {
   "cell_type": "code",
   "execution_count": null,
   "metadata": {},
   "outputs": [],
   "source": []
  }
 ],
 "metadata": {
  "kernelspec": {
   "display_name": "Python 3",
   "language": "python",
   "name": "python3"
  },
  "language_info": {
   "codemirror_mode": {
    "name": "ipython",
    "version": 3
   },
   "file_extension": ".py",
   "mimetype": "text/x-python",
   "name": "python",
   "nbconvert_exporter": "python",
   "pygments_lexer": "ipython3",
   "version": "3.7.6"
  }
 },
 "nbformat": 4,
 "nbformat_minor": 4
}

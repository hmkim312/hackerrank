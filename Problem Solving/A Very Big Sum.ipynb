{
 "cells": [
  {
   "cell_type": "markdown",
   "metadata": {},
   "source": [
    "- In this challenge, you are required to calculate and print the sum of the elements in an array, keeping in mind that some of those integers may be quite large.\n",
    "\n",
    "- Function Description\n",
    "    - Complete the aVeryBigSum function in the editor below. It must return the sum of all array elements.\n",
    "    - aVeryBigSum has the following parameter(s):\n",
    "        - int ar[n]: an array of integers.\n",
    "        \n",
    "- Return\n",
    "    - int: the sum of all array elements\n",
    "\n",
    "- Input Format\n",
    "    - The first line of the input consists of an integer n.\n",
    "    - The next line contains n space-separated integers contained in the array.\n",
    "\n",
    "- Output Format\n",
    "    - Return the integer sum of the elements in the array.\n",
    "\n",
    "- Constraints\n",
    "    - 1 <= n <= 10\n",
    "    - 0 <= ar[i] <= 10^10"
   ]
  },
  {
   "cell_type": "markdown",
   "metadata": {},
   "source": [
    "#### 문제풀이\n",
    "- arr가 주어지고, 그것의 합을 구하라는 문제\n",
    "- 그냥 sum함수 쓰면됨"
   ]
  },
  {
   "cell_type": "code",
   "execution_count": 2,
   "metadata": {
    "execution": {
     "iopub.execute_input": "2020-07-31T01:53:07.766107Z",
     "iopub.status.busy": "2020-07-31T01:53:07.766107Z",
     "iopub.status.idle": "2020-07-31T01:53:07.770010Z",
     "shell.execute_reply": "2020-07-31T01:53:07.770010Z",
     "shell.execute_reply.started": "2020-07-31T01:53:07.766107Z"
    }
   },
   "outputs": [],
   "source": [
    "#!/bin/python3\n",
    "\n",
    "import math\n",
    "import os\n",
    "import random\n",
    "import re\n",
    "import sys\n",
    "\n",
    "# Complete the aVeryBigSum function below.\n",
    "def aVeryBigSum(ar):\n",
    "    return(sum(ar))\n",
    "if __name__ == '__main__':\n",
    "    fptr = open(os.environ['OUTPUT_PATH'], 'w')\n",
    "\n",
    "    ar_count = int(input())\n",
    "\n",
    "    ar = list(map(int, input().rstrip().split()))\n",
    "\n",
    "    result = aVeryBigSum(ar)\n",
    "\n",
    "    fptr.write(str(result) + '\\n')\n",
    "\n",
    "    fptr.close()"
   ]
  },
  {
   "cell_type": "code",
   "execution_count": null,
   "metadata": {},
   "outputs": [],
   "source": []
  }
 ],
 "metadata": {
  "kernelspec": {
   "display_name": "Python 3",
   "language": "python",
   "name": "python3"
  },
  "language_info": {
   "codemirror_mode": {
    "name": "ipython",
    "version": 3
   },
   "file_extension": ".py",
   "mimetype": "text/x-python",
   "name": "python",
   "nbconvert_exporter": "python",
   "pygments_lexer": "ipython3",
   "version": "3.7.6"
  }
 },
 "nbformat": 4,
 "nbformat_minor": 4
}

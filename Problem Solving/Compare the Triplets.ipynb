{
 "cells": [
  {
   "cell_type": "markdown",
   "metadata": {},
   "source": [
    "- Alice and Bob each created one problem for HackerRank. A reviewer rates the two challenges, awarding points on a scale from 1 to 100 for three categories: problem clarity, originality, and difficulty.\n",
    "- The rating for Alice's challenge is the triplet a = (a[0], a[1], a[2]), and the rating for Bob's challenge is the triplet b = (b[0], b[1], b[2]).\n",
    "\n",
    "- The task is to find their comparison points by comparing a[0] with b[0], a[1] with b[1], and a[2] with b[2].\n",
    "    - If a[i] > b[i], then Alice is awarded 1 point.\n",
    "    - If a[i] < b[i], then Bob is awarded 1 point.\n",
    "    - If a[i] = b[i], then neither person receives a point.\n",
    "- Comparison points is the total points a person earned.\n",
    "- Given a and b, determine their respective comparison points.\n",
    "\n",
    "- Example\n",
    "   - a = [1, 2, 3]\n",
    "   - b = [3, 2, 1]\n",
    "\n",
    "    - For elements *0*, Bob is awarded a point because a[0] .\n",
    "    - For the equal elements a[1] and b[1], no points are earned.\n",
    "    - Finally, for elements 2, a[2] > b[2] so Alice receives a point.\n",
    "- The return array is [1, 1] with Alice's score first and Bob's second.\n",
    "\n",
    "- Function Description\n",
    "    - Complete the function compareTriplets in the editor below.\n",
    "    - compareTriplets has the following parameter(s):\n",
    "        - int a[3]: Alice's challenge rating\n",
    "        - int b[3]: Bob's challenge rating\n",
    "- Return\n",
    "    - int[2]: Alice's score is in the first position, and Bob's score is in the second.\n",
    "    \n",
    "- Input Format\n",
    "    - The first line contains 3 space-separated integers, a[0], a[1], and a[2], the respective values in triplet a.\n",
    "    - The second line contains 3 space-separated integers, b[0], b[1], and b[2], the respective values in triplet b.\n",
    "\n",
    "- Constraints\n",
    "    - 1 ≤ a[i] ≤ 100\n",
    "    - 1 ≤ b[i] ≤ 100"
   ]
  },
  {
   "cell_type": "markdown",
   "metadata": {},
   "source": [
    "#### 문제풀이\n",
    "- a,b의 배열의 원소의 크기를 확인후, 더 큰쪽에 점수를 +1씩 하는 함수를 작성\n",
    "- 배열의 index를 for문으로 돌려서 if문으로 더 큰쪽에 +1를 하는 코드를 작성 후 해당 점수들을 return하는 함수를 작성하였다."
   ]
  },
  {
   "cell_type": "code",
   "execution_count": 8,
   "metadata": {
    "execution": {
     "iopub.execute_input": "2020-07-30T00:35:16.440282Z",
     "iopub.status.busy": "2020-07-30T00:35:16.440282Z",
     "iopub.status.idle": "2020-07-30T00:35:16.447237Z",
     "shell.execute_reply": "2020-07-30T00:35:16.446240Z",
     "shell.execute_reply.started": "2020-07-30T00:35:16.440282Z"
    }
   },
   "outputs": [],
   "source": [
    "def compareTriplets(a, b):\n",
    "    alice = 0\n",
    "    bob = 0\n",
    "    for i in range(len(a)):\n",
    "        if a[i] > b[i]:\n",
    "            alice += 1\n",
    "        elif a[i] < b[i]:\n",
    "            bob += 1\n",
    "    return alice, bob"
   ]
  },
  {
   "cell_type": "code",
   "execution_count": 7,
   "metadata": {
    "execution": {
     "iopub.execute_input": "2020-07-30T00:32:54.315308Z",
     "iopub.status.busy": "2020-07-30T00:32:54.314312Z",
     "iopub.status.idle": "2020-07-30T00:32:54.323314Z",
     "shell.execute_reply": "2020-07-30T00:32:54.322289Z",
     "shell.execute_reply.started": "2020-07-30T00:32:54.315308Z"
    }
   },
   "outputs": [
    {
     "data": {
      "text/plain": [
       "(1, 1)"
      ]
     },
     "execution_count": 7,
     "metadata": {},
     "output_type": "execute_result"
    }
   ],
   "source": [
    "compareTriplets([1,2,3],[3,2,1])"
   ]
  },
  {
   "cell_type": "code",
   "execution_count": null,
   "metadata": {},
   "outputs": [],
   "source": []
  }
 ],
 "metadata": {
  "kernelspec": {
   "display_name": "Python 3",
   "language": "python",
   "name": "python3"
  },
  "language_info": {
   "codemirror_mode": {
    "name": "ipython",
    "version": 3
   },
   "file_extension": ".py",
   "mimetype": "text/x-python",
   "name": "python",
   "nbconvert_exporter": "python",
   "pygments_lexer": "ipython3",
   "version": "3.7.6"
  }
 },
 "nbformat": 4,
 "nbformat_minor": 4
}

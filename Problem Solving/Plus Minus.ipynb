{
 "cells": [
  {
   "cell_type": "markdown",
   "metadata": {},
   "source": [
    "Given an array of integers, calculate the ratios of its elements that are positive, negative, and zero. Print the decimal value of each fraction on a new line with 6 places after the decimal.\n",
    "\n",
    "- Note: This challenge introduces precision problems. The test cases are scaled to six decimal places, though answers with absolute error of up to 10^-4 are acceptable.\n",
    "\n",
    "- Example\n",
    "    - arr = [1,1,0,-1,-1]\n",
    "    - There are n = 5 elements, two positive, two negative and one zero. Their ratios are 2/5 = 0.400000, 2/5 = 0.400000 and 1/5 = 0.200000. Results are printed as:\n",
    "\n",
    "```python\n",
    "0.400000\n",
    "0.400000\n",
    "0.200000\n",
    "```\n",
    "\n",
    "- Function Description\n",
    "    - Complete the plusMinus function in the editor below.\n",
    "    - plusMinus has the following parameter(s):\n",
    "        - int arr[n]: an array of integers\n",
    "- Print\n",
    "    - Print the ratios of positive, negative and zero values in the array. Each value should be printed on a separate line with  6 digits after the decimal. The function should not return a value.\n",
    "\n",
    "- Input Format\n",
    "    - The first line contains an integer, n, the size of the array.\n",
    "    - The second line contains n space-separated integers that describe arr[n].\n",
    "\n",
    "- Constraints\n",
    "    - 0 < n <= 100\n",
    "    - -100 <= arr[i] <= 100\n",
    "\n",
    "- Output Format\n",
    "    - Print the following 3 lines, each to 6 decimals:\n",
    "    1. proportion of positive values\n",
    "    2. proportion of negative values\n",
    "    3. proportion of zeros"
   ]
  },
  {
   "cell_type": "markdown",
   "metadata": {},
   "source": [
    "#### 문제풀이\n",
    "- 주어진 arr에서 음수, 양수, 0을 확인하고  전체 갯수를 음수, 양수, 0의 갯수로 나눈 값을 출력하기\n",
    "- for문을 돌면서 음수면 음수,양수면 양수 등 할수있으나, fillter 함수와 lambda 함수를 통해 양, 음, 0을 더 빠르게 확인.\n",
    "- fillter 후에 list시키고 그 갯수(len)만큼 나누는 코드를 생성"
   ]
  },
  {
   "cell_type": "code",
   "execution_count": 19,
   "metadata": {
    "execution": {
     "iopub.execute_input": "2020-07-28T02:05:20.720329Z",
     "iopub.status.busy": "2020-07-28T02:05:20.719353Z",
     "iopub.status.idle": "2020-07-28T02:05:22.685100Z",
     "shell.execute_reply": "2020-07-28T02:05:22.683189Z",
     "shell.execute_reply.started": "2020-07-28T02:05:20.720329Z"
    }
   },
   "outputs": [
    {
     "name": "stdin",
     "output_type": "stream",
     "text": [
      " 6\n",
      " -4 3 -9 0 4 1\n"
     ]
    },
    {
     "name": "stdout",
     "output_type": "stream",
     "text": [
      "0.5\n",
      "0.5\n",
      "0.5\n"
     ]
    }
   ],
   "source": [
    "import math\n",
    "import os\n",
    "import random\n",
    "import re\n",
    "import sys\n",
    "\n",
    "# Complete the plusMinus function below.\n",
    "def plusMinus(arr):\n",
    "    print(round(len(list(filter(lambda x : x > 0, arr))) / len(arr), 6))\n",
    "    print(round(len(list(filter(lambda x : x < 0, arr))) / len(arr), 6))\n",
    "    print(round(len(list(filter(lambda x : x == 0, arr))) / len(arr), 6))\n",
    "\n",
    "if __name__ == '__main__':\n",
    "    n = int(input())\n",
    "\n",
    "    arr = list(map(int, input().rstrip().split()))\n",
    "\n",
    "    plusMinus(arr)"
   ]
  },
  {
   "cell_type": "code",
   "execution_count": 16,
   "metadata": {
    "execution": {
     "iopub.execute_input": "2020-07-28T02:03:37.573853Z",
     "iopub.status.busy": "2020-07-28T02:03:37.573853Z",
     "iopub.status.idle": "2020-07-28T02:03:37.583616Z",
     "shell.execute_reply": "2020-07-28T02:03:37.582649Z",
     "shell.execute_reply.started": "2020-07-28T02:03:37.573853Z"
    }
   },
   "outputs": [
    {
     "data": {
      "text/plain": [
       "1.0"
      ]
     },
     "execution_count": 16,
     "metadata": {},
     "output_type": "execute_result"
    }
   ],
   "source": []
  },
  {
   "cell_type": "code",
   "execution_count": null,
   "metadata": {},
   "outputs": [],
   "source": []
  }
 ],
 "metadata": {
  "kernelspec": {
   "display_name": "Python 3",
   "language": "python",
   "name": "python3"
  },
  "language_info": {
   "codemirror_mode": {
    "name": "ipython",
    "version": 3
   },
   "file_extension": ".py",
   "mimetype": "text/x-python",
   "name": "python",
   "nbconvert_exporter": "python",
   "pygments_lexer": "ipython3",
   "version": "3.7.6"
  }
 },
 "nbformat": 4,
 "nbformat_minor": 4
}

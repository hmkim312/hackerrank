{
 "cells": [
  {
   "cell_type": "markdown",
   "metadata": {},
   "source": [
    "- Consider a staircase of size n = 4:\n",
    "```\n",
    "   #\n",
    "  ##\n",
    " ###\n",
    "####\n",
    "```\n",
    "\n",
    "- Observe that its base and height are both equal to n, and the image is drawn using # symbols and spaces. The last line is not preceded by any spaces.\n",
    "- Write a program that prints a staircase of size n.\n",
    "\n",
    "- Function Description\n",
    "    - Complete the staircase function in the editor below. It should print a staircase as described above.\n",
    "    - staircase has the following parameter(s):\n",
    "    - n: an integer\n",
    "\n",
    "- Input Format\n",
    "    - A single integer, n, denoting the size of the staircase.\n",
    "\n",
    "- Constraints\n",
    "    - 0 <= n <= 100\n",
    "\n",
    "- Output Format\n",
    "    - Print a staircase of size n using # symbols and spaces.\n",
    "\n",
    "- Note: The last line must have 0 spaces in it."
   ]
  },
  {
   "cell_type": "markdown",
   "metadata": {},
   "source": [
    "#### 문제풀이\n",
    "- n이 주어지면 오른쪽 정렬이 된 '#' 모양의 계단을 만드는 문제\n",
    "- (n - i)는 ' '공백으로, i는 '#'로 출력하면됨\n",
    "- 주의할점은 print할때 sep =''을 주어야 한다는것"
   ]
  },
  {
   "cell_type": "code",
   "execution_count": 69,
   "metadata": {
    "execution": {
     "iopub.execute_input": "2020-07-31T03:18:52.286629Z",
     "iopub.status.busy": "2020-07-31T03:18:52.285654Z",
     "iopub.status.idle": "2020-07-31T03:18:55.577365Z",
     "shell.execute_reply": "2020-07-31T03:18:55.576398Z",
     "shell.execute_reply.started": "2020-07-31T03:18:52.286629Z"
    }
   },
   "outputs": [
    {
     "name": "stdin",
     "output_type": "stream",
     "text": [
      " 6\n"
     ]
    },
    {
     "name": "stdout",
     "output_type": "stream",
     "text": [
      "     #\n",
      "    ##\n",
      "   ###\n",
      "  ####\n",
      " #####\n",
      "######\n"
     ]
    }
   ],
   "source": [
    "def staircase(n):\n",
    "    for i in range(1, n+1):\n",
    "        print((n - i) * ' ', (i) * '#', sep = '')\n",
    "if __name__ == '__main__':\n",
    "    n = int(input())\n",
    "\n",
    "    staircase(n)"
   ]
  },
  {
   "cell_type": "code",
   "execution_count": null,
   "metadata": {},
   "outputs": [],
   "source": []
  }
 ],
 "metadata": {
  "kernelspec": {
   "display_name": "Python 3",
   "language": "python",
   "name": "python3"
  },
  "language_info": {
   "codemirror_mode": {
    "name": "ipython",
    "version": 3
   },
   "file_extension": ".py",
   "mimetype": "text/x-python",
   "name": "python",
   "nbconvert_exporter": "python",
   "pygments_lexer": "ipython3",
   "version": "3.7.6"
  }
 },
 "nbformat": 4,
 "nbformat_minor": 4
}

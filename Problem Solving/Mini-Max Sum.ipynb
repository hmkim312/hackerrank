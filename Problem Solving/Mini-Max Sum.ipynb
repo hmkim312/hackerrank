{
 "cells": [
  {
   "cell_type": "markdown",
   "metadata": {},
   "source": [
    "- Given five positive integers, find the minimum and maximum values that can be calculated by summing exactly four of the five integers. Then print the respective minimum and maximum values as a single line of two space-separated long integers.\n",
    "\n",
    "- Example\n",
    "    - arr = [1,3,5,7,9]\n",
    "    - The minimum sum is 1 + 3 + 5 + 7 = 16  and the maximum sum is 3 + 5 + 7 + 9 = 24. The function prints\n",
    "```python\n",
    "16 24\n",
    "```\n",
    "\n",
    "- Function Description\n",
    "    - Complete the miniMaxSum function in the editor below.\n",
    "    - miniMaxSum has the following parameter(s):\n",
    "    - arr: an array of 5 integers\n",
    "    \n",
    "- Print\n",
    "    - Print two space-separated integers on one line: the minimum sum and the maximum sum of 4 of 5 elements.\n",
    "\n",
    "- Input Format\n",
    "    - A single line of five space-separated integers.\n",
    "\n",
    "- Constraints\n",
    "    - 1 <= arr[i] <= 10^9\n",
    "\n",
    "- Output Format\n",
    "    - Print two space-separated long integers denoting the respective minimum and maximum values that can be calculated by summing exactly four of the five integers. (The output can be greater than a 32 bit integer.)"
   ]
  },
  {
   "cell_type": "markdown",
   "metadata": {},
   "source": [
    "#### 문제풀이\n",
    "- 5개의 원소로 이루어진 배열 arr이 주어졌을때 4개를 더해서 가장 작은수와 가장 큰수를 구하는것\n",
    "- 그냥 5개를 모두 더한뒤 가장 큰 수는 배열 중 가장 작은 수를 뺀것이고 가장 작은 수는 배열중 가장 큰수를 빼면됨\n",
    "- 위의 내용을 코드로 작성하여 return 시키는 함수를 작성"
   ]
  },
  {
   "cell_type": "code",
   "execution_count": 5,
   "metadata": {
    "execution": {
     "iopub.execute_input": "2020-07-29T02:10:34.930213Z",
     "iopub.status.busy": "2020-07-29T02:10:34.929204Z",
     "iopub.status.idle": "2020-07-29T02:10:35.483557Z",
     "shell.execute_reply": "2020-07-29T02:10:35.482581Z",
     "shell.execute_reply.started": "2020-07-29T02:10:34.930213Z"
    }
   },
   "outputs": [
    {
     "name": "stdin",
     "output_type": "stream",
     "text": [
      " 1 2 3 4 5\n"
     ]
    },
    {
     "name": "stdout",
     "output_type": "stream",
     "text": [
      "10 14\n"
     ]
    }
   ],
   "source": [
    "#!/bin/python3\n",
    "\n",
    "import math\n",
    "import os\n",
    "import random\n",
    "import re\n",
    "import sys\n",
    "\n",
    "# Complete the miniMaxSum function below.\n",
    "def miniMaxSum(arr):\n",
    "    total_arr = sum(arr)\n",
    "    arr = sorted(arr)\n",
    "    max_arr = total_arr - arr[0]\n",
    "    min_arr = total_arr - arr[4]\n",
    "    return print(min_arr, max_arr)\n",
    "\n",
    "if __name__ == '__main__':\n",
    "    arr = list(map(int, input().rstrip().split()))\n",
    "\n",
    "    miniMaxSum(arr)"
   ]
  },
  {
   "cell_type": "code",
   "execution_count": null,
   "metadata": {},
   "outputs": [],
   "source": []
  }
 ],
 "metadata": {
  "kernelspec": {
   "display_name": "Python 3",
   "language": "python",
   "name": "python3"
  },
  "language_info": {
   "codemirror_mode": {
    "name": "ipython",
    "version": 3
   },
   "file_extension": ".py",
   "mimetype": "text/x-python",
   "name": "python",
   "nbconvert_exporter": "python",
   "pygments_lexer": "ipython3",
   "version": "3.7.6"
  }
 },
 "nbformat": 4,
 "nbformat_minor": 4
}

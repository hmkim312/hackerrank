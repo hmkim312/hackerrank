{
 "cells": [
  {
   "cell_type": "markdown",
   "metadata": {},
   "source": [
    "- You are in charge of the cake for your niece's birthday and have decided the cake will have one candle for each year of her total age. When she blows out the candles, she’ll only be able to blow out the tallest ones. Your task is to find out how many candles she can successfully blow out.\n",
    "\n",
    "- For example, if your niece is turning 4 years old, and the cake will have 4 candles of height 4, 4, 1, 3, she will be able to blow out 2 candles successfully, since the tallest candles are of height 4 and there are 2 such candles.\n",
    "\n",
    "- Function Description\n",
    "    - Complete the function birthdayCakeCandles in the editor below. It must return an integer representing the number of candles she can blow out.\n",
    "    - birthdayCakeCandles has the following parameter(s):\n",
    "        - ar: an array of integers representing candle heights\n",
    "        \n",
    "- Input Format\n",
    "    - The first line contains a single integer, n, denoting the number of candles on the cake.\n",
    "    - The second line contains n space-separated integers, where each integer i describes the height of candle i.\n",
    "\n",
    "- Constraints\n",
    "    - 1 <= n <= 10^5\n",
    "    - 1 <= ar[i] <= 10^7\n",
    "\n",
    "- Output Format\n",
    "    - Return the number of candles that can be blown out on a new line."
   ]
  },
  {
   "cell_type": "markdown",
   "metadata": {},
   "source": [
    "#### 문제풀이\n",
    "- 조카의 나이가 주어지고, 그 나이만큼의 초가 있으며, 조카는 가장 긴 초의 촛불만 끌수 있다.\n",
    "- 너무 어렵게 생각했음, ar_count는 그냥 초의 갯수인데, 그게 아니라 그거보다 더 큰수가 올수도 있을거라고 생각했음, 문제를 잘 읽어야할듯..\n",
    "- 어쨋든 배열에서 가장 큰 수를 찾고, 가장 큰 수의 count를 확인하는 birthdayCakeCandles 함수를 작성"
   ]
  },
  {
   "cell_type": "code",
   "execution_count": 43,
   "metadata": {
    "execution": {
     "iopub.execute_input": "2020-07-30T01:36:21.219537Z",
     "iopub.status.busy": "2020-07-30T01:36:21.218539Z",
     "iopub.status.idle": "2020-07-30T01:36:21.223564Z",
     "shell.execute_reply": "2020-07-30T01:36:21.223564Z",
     "shell.execute_reply.started": "2020-07-30T01:36:21.219537Z"
    }
   },
   "outputs": [],
   "source": [
    "#!/bin/python3\n",
    "\n",
    "import math\n",
    "import os\n",
    "import random\n",
    "import re\n",
    "import sys\n",
    "\n",
    "# Complete the birthdayCakeCandles function below.\n",
    "def birthdayCakeCandles(ar):\n",
    "    max_candle = max(ar)\n",
    "    return ar.count(max_candle)\n",
    "            \n",
    "if __name__ == '__main__':\n",
    "    fptr = open(os.environ['OUTPUT_PATH'], 'w')\n",
    "\n",
    "    ar_count = int(input())\n",
    "\n",
    "    ar = list(map(int, input().rstrip().split()))\n",
    "\n",
    "    result = birthdayCakeCandles(ar)\n",
    "\n",
    "    fptr.write(str(result) + '\\n')\n",
    "\n",
    "    fptr.close()"
   ]
  },
  {
   "cell_type": "code",
   "execution_count": null,
   "metadata": {},
   "outputs": [],
   "source": []
  }
 ],
 "metadata": {
  "kernelspec": {
   "display_name": "Python 3",
   "language": "python",
   "name": "python3"
  },
  "language_info": {
   "codemirror_mode": {
    "name": "ipython",
    "version": 3
   },
   "file_extension": ".py",
   "mimetype": "text/x-python",
   "name": "python",
   "nbconvert_exporter": "python",
   "pygments_lexer": "ipython3",
   "version": "3.7.6"
  }
 },
 "nbformat": 4,
 "nbformat_minor": 4
}

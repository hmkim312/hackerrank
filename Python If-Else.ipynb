{
 "cells": [
  {
   "cell_type": "markdown",
   "metadata": {},
   "source": [
    "- Task\n",
    "    - Given an integer, , perform the following conditional actions:\n",
    "\n",
    "        - If  is odd, print Weird\n",
    "        - If  is even and in the inclusive range of  to , print Not Weird\n",
    "        - If  is even and in the inclusive range of  to , print Weird\n",
    "        - If  is even and greater than , print Not Weird\n",
    "- Input Format\n",
    "    - A single line containing a positive integer, .\n",
    "\n",
    "- Constraints\n",
    "    - 1 <= n <= 100\n",
    "\n",
    "- Output Format\n",
    "    - Print Weird if the number is weird; otherwise, print Not Weird."
   ]
  },
  {
   "cell_type": "code",
   "execution_count": 5,
   "metadata": {
    "execution": {
     "iopub.execute_input": "2020-06-28T08:30:09.262846Z",
     "iopub.status.busy": "2020-06-28T08:30:09.262846Z",
     "iopub.status.idle": "2020-06-28T08:30:11.345443Z",
     "shell.execute_reply": "2020-06-28T08:30:11.345443Z",
     "shell.execute_reply.started": "2020-06-28T08:30:09.262846Z"
    }
   },
   "outputs": [
    {
     "name": "stdin",
     "output_type": "stream",
     "text": [
      " 100\n"
     ]
    },
    {
     "name": "stdout",
     "output_type": "stream",
     "text": [
      "Not Weird\n"
     ]
    }
   ],
   "source": [
    "import math\n",
    "import os\n",
    "import random\n",
    "import re\n",
    "import sys\n",
    "\n",
    "if __name__ == '__main__':\n",
    "    n = int(input().strip())\n",
    "\n",
    "    if n %2 != 0:\n",
    "        print('Weird')\n",
    "    elif n <= 5:\n",
    "        print('Not Weird')\n",
    "    elif n <= 20:\n",
    "        print('Weird')\n",
    "    else:\n",
    "        print('Not Weird')"
   ]
  },
  {
   "cell_type": "code",
   "execution_count": null,
   "metadata": {},
   "outputs": [],
   "source": []
  }
 ],
 "metadata": {
  "kernelspec": {
   "display_name": "Python 3",
   "language": "python",
   "name": "python3"
  },
  "language_info": {
   "codemirror_mode": {
    "name": "ipython",
    "version": 3
   },
   "file_extension": ".py",
   "mimetype": "text/x-python",
   "name": "python",
   "nbconvert_exporter": "python",
   "pygments_lexer": "ipython3",
   "version": "3.7.6"
  }
 },
 "nbformat": 4,
 "nbformat_minor": 4
}
